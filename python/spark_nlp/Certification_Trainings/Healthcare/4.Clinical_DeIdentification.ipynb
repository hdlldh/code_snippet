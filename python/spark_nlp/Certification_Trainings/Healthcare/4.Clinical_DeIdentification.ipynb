{
 "cells": [
  {
   "cell_type": "markdown",
   "metadata": {
    "id": "I08sFJYCxR0Z"
   },
   "source": [
    "![JohnSnowLabs](https://nlp.johnsnowlabs.com/assets/images/logo.png)"
   ]
  },
  {
   "cell_type": "markdown",
   "metadata": {
    "id": "LKI5K1wQrSe9"
   },
   "source": [
    "[![Open In Colab](https://colab.research.google.com/assets/colab-badge.svg)](https://colab.research.google.com/github/JohnSnowLabs/spark-nlp-workshop/blob/master/tutorials/Certification_Trainings/Healthcare/4.Clinical_DeIdentification.ipynb)\n"
   ]
  },
  {
   "cell_type": "markdown",
   "metadata": {
    "id": "Niy3mZAjoayg"
   },
   "source": [
    "# Clinical Deidentification"
   ]
  },
  {
   "cell_type": "markdown",
   "metadata": {
    "id": "okhT7AcXxben"
   },
   "source": [
    "## Colab Setup"
   ]
  },
  {
   "cell_type": "code",
   "execution_count": null,
   "metadata": {
    "colab": {
     "base_uri": "https://localhost:8080/",
     "height": 73,
     "resources": {
      "http://localhost:8080/nbextensions/google.colab/files.js": {
       "data": "Ly8gQ29weXJpZ2h0IDIwMTcgR29vZ2xlIExMQwovLwovLyBMaWNlbnNlZCB1bmRlciB0aGUgQXBhY2hlIExpY2Vuc2UsIFZlcnNpb24gMi4wICh0aGUgIkxpY2Vuc2UiKTsKLy8geW91IG1heSBub3QgdXNlIHRoaXMgZmlsZSBleGNlcHQgaW4gY29tcGxpYW5jZSB3aXRoIHRoZSBMaWNlbnNlLgovLyBZb3UgbWF5IG9idGFpbiBhIGNvcHkgb2YgdGhlIExpY2Vuc2UgYXQKLy8KLy8gICAgICBodHRwOi8vd3d3LmFwYWNoZS5vcmcvbGljZW5zZXMvTElDRU5TRS0yLjAKLy8KLy8gVW5sZXNzIHJlcXVpcmVkIGJ5IGFwcGxpY2FibGUgbGF3IG9yIGFncmVlZCB0byBpbiB3cml0aW5nLCBzb2Z0d2FyZQovLyBkaXN0cmlidXRlZCB1bmRlciB0aGUgTGljZW5zZSBpcyBkaXN0cmlidXRlZCBvbiBhbiAiQVMgSVMiIEJBU0lTLAovLyBXSVRIT1VUIFdBUlJBTlRJRVMgT1IgQ09ORElUSU9OUyBPRiBBTlkgS0lORCwgZWl0aGVyIGV4cHJlc3Mgb3IgaW1wbGllZC4KLy8gU2VlIHRoZSBMaWNlbnNlIGZvciB0aGUgc3BlY2lmaWMgbGFuZ3VhZ2UgZ292ZXJuaW5nIHBlcm1pc3Npb25zIGFuZAovLyBsaW1pdGF0aW9ucyB1bmRlciB0aGUgTGljZW5zZS4KCi8qKgogKiBAZmlsZW92ZXJ2aWV3IEhlbHBlcnMgZm9yIGdvb2dsZS5jb2xhYiBQeXRob24gbW9kdWxlLgogKi8KKGZ1bmN0aW9uKHNjb3BlKSB7CmZ1bmN0aW9uIHNwYW4odGV4dCwgc3R5bGVBdHRyaWJ1dGVzID0ge30pIHsKICBjb25zdCBlbGVtZW50ID0gZG9jdW1lbnQuY3JlYXRlRWxlbWVudCgnc3BhbicpOwogIGVsZW1lbnQudGV4dENvbnRlbnQgPSB0ZXh0OwogIGZvciAoY29uc3Qga2V5IG9mIE9iamVjdC5rZXlzKHN0eWxlQXR0cmlidXRlcykpIHsKICAgIGVsZW1lbnQuc3R5bGVba2V5XSA9IHN0eWxlQXR0cmlidXRlc1trZXldOwogIH0KICByZXR1cm4gZWxlbWVudDsKfQoKLy8gTWF4IG51bWJlciBvZiBieXRlcyB3aGljaCB3aWxsIGJlIHVwbG9hZGVkIGF0IGEgdGltZS4KY29uc3QgTUFYX1BBWUxPQURfU0laRSA9IDEwMCAqIDEwMjQ7CgpmdW5jdGlvbiBfdXBsb2FkRmlsZXMoaW5wdXRJZCwgb3V0cHV0SWQpIHsKICBjb25zdCBzdGVwcyA9IHVwbG9hZEZpbGVzU3RlcChpbnB1dElkLCBvdXRwdXRJZCk7CiAgY29uc3Qgb3V0cHV0RWxlbWVudCA9IGRvY3VtZW50LmdldEVsZW1lbnRCeUlkKG91dHB1dElkKTsKICAvLyBDYWNoZSBzdGVwcyBvbiB0aGUgb3V0cHV0RWxlbWVudCB0byBtYWtlIGl0IGF2YWlsYWJsZSBmb3IgdGhlIG5leHQgY2FsbAogIC8vIHRvIHVwbG9hZEZpbGVzQ29udGludWUgZnJvbSBQeXRob24uCiAgb3V0cHV0RWxlbWVudC5zdGVwcyA9IHN0ZXBzOwoKICByZXR1cm4gX3VwbG9hZEZpbGVzQ29udGludWUob3V0cHV0SWQpOwp9CgovLyBUaGlzIGlzIHJvdWdobHkgYW4gYXN5bmMgZ2VuZXJhdG9yIChub3Qgc3VwcG9ydGVkIGluIHRoZSBicm93c2VyIHlldCksCi8vIHdoZXJlIHRoZXJlIGFyZSBtdWx0aXBsZSBhc3luY2hyb25vdXMgc3RlcHMgYW5kIHRoZSBQeXRob24gc2lkZSBpcyBnb2luZwovLyB0byBwb2xsIGZvciBjb21wbGV0aW9uIG9mIGVhY2ggc3RlcC4KLy8gVGhpcyB1c2VzIGEgUHJvbWlzZSB0byBibG9jayB0aGUgcHl0aG9uIHNpZGUgb24gY29tcGxldGlvbiBvZiBlYWNoIHN0ZXAsCi8vIHRoZW4gcGFzc2VzIHRoZSByZXN1bHQgb2YgdGhlIHByZXZpb3VzIHN0ZXAgYXMgdGhlIGlucHV0IHRvIHRoZSBuZXh0IHN0ZXAuCmZ1bmN0aW9uIF91cGxvYWRGaWxlc0NvbnRpbnVlKG91dHB1dElkKSB7CiAgY29uc3Qgb3V0cHV0RWxlbWVudCA9IGRvY3VtZW50LmdldEVsZW1lbnRCeUlkKG91dHB1dElkKTsKICBjb25zdCBzdGVwcyA9IG91dHB1dEVsZW1lbnQuc3RlcHM7CgogIGNvbnN0IG5leHQgPSBzdGVwcy5uZXh0KG91dHB1dEVsZW1lbnQubGFzdFByb21pc2VWYWx1ZSk7CiAgcmV0dXJuIFByb21pc2UucmVzb2x2ZShuZXh0LnZhbHVlLnByb21pc2UpLnRoZW4oKHZhbHVlKSA9PiB7CiAgICAvLyBDYWNoZSB0aGUgbGFzdCBwcm9taXNlIHZhbHVlIHRvIG1ha2UgaXQgYXZhaWxhYmxlIHRvIHRoZSBuZXh0CiAgICAvLyBzdGVwIG9mIHRoZSBnZW5lcmF0b3IuCiAgICBvdXRwdXRFbGVtZW50Lmxhc3RQcm9taXNlVmFsdWUgPSB2YWx1ZTsKICAgIHJldHVybiBuZXh0LnZhbHVlLnJlc3BvbnNlOwogIH0pOwp9CgovKioKICogR2VuZXJhdG9yIGZ1bmN0aW9uIHdoaWNoIGlzIGNhbGxlZCBiZXR3ZWVuIGVhY2ggYXN5bmMgc3RlcCBvZiB0aGUgdXBsb2FkCiAqIHByb2Nlc3MuCiAqIEBwYXJhbSB7c3RyaW5nfSBpbnB1dElkIEVsZW1lbnQgSUQgb2YgdGhlIGlucHV0IGZpbGUgcGlja2VyIGVsZW1lbnQuCiAqIEBwYXJhbSB7c3RyaW5nfSBvdXRwdXRJZCBFbGVtZW50IElEIG9mIHRoZSBvdXRwdXQgZGlzcGxheS4KICogQHJldHVybiB7IUl0ZXJhYmxlPCFPYmplY3Q+fSBJdGVyYWJsZSBvZiBuZXh0IHN0ZXBzLgogKi8KZnVuY3Rpb24qIHVwbG9hZEZpbGVzU3RlcChpbnB1dElkLCBvdXRwdXRJZCkgewogIGNvbnN0IGlucHV0RWxlbWVudCA9IGRvY3VtZW50LmdldEVsZW1lbnRCeUlkKGlucHV0SWQpOwogIGlucHV0RWxlbWVudC5kaXNhYmxlZCA9IGZhbHNlOwoKICBjb25zdCBvdXRwdXRFbGVtZW50ID0gZG9jdW1lbnQuZ2V0RWxlbWVudEJ5SWQob3V0cHV0SWQpOwogIG91dHB1dEVsZW1lbnQuaW5uZXJIVE1MID0gJyc7CgogIGNvbnN0IHBpY2tlZFByb21pc2UgPSBuZXcgUHJvbWlzZSgocmVzb2x2ZSkgPT4gewogICAgaW5wdXRFbGVtZW50LmFkZEV2ZW50TGlzdGVuZXIoJ2NoYW5nZScsIChlKSA9PiB7CiAgICAgIHJlc29sdmUoZS50YXJnZXQuZmlsZXMpOwogICAgfSk7CiAgfSk7CgogIGNvbnN0IGNhbmNlbCA9IGRvY3VtZW50LmNyZWF0ZUVsZW1lbnQoJ2J1dHRvbicpOwogIGlucHV0RWxlbWVudC5wYXJlbnRFbGVtZW50LmFwcGVuZENoaWxkKGNhbmNlbCk7CiAgY2FuY2VsLnRleHRDb250ZW50ID0gJ0NhbmNlbCB1cGxvYWQnOwogIGNvbnN0IGNhbmNlbFByb21pc2UgPSBuZXcgUHJvbWlzZSgocmVzb2x2ZSkgPT4gewogICAgY2FuY2VsLm9uY2xpY2sgPSAoKSA9PiB7CiAgICAgIHJlc29sdmUobnVsbCk7CiAgICB9OwogIH0pOwoKICAvLyBXYWl0IGZvciB0aGUgdXNlciB0byBwaWNrIHRoZSBmaWxlcy4KICBjb25zdCBmaWxlcyA9IHlpZWxkIHsKICAgIHByb21pc2U6IFByb21pc2UucmFjZShbcGlja2VkUHJvbWlzZSwgY2FuY2VsUHJvbWlzZV0pLAogICAgcmVzcG9uc2U6IHsKICAgICAgYWN0aW9uOiAnc3RhcnRpbmcnLAogICAgfQogIH07CgogIGNhbmNlbC5yZW1vdmUoKTsKCiAgLy8gRGlzYWJsZSB0aGUgaW5wdXQgZWxlbWVudCBzaW5jZSBmdXJ0aGVyIHBpY2tzIGFyZSBub3QgYWxsb3dlZC4KICBpbnB1dEVsZW1lbnQuZGlzYWJsZWQgPSB0cnVlOwoKICBpZiAoIWZpbGVzKSB7CiAgICByZXR1cm4gewogICAgICByZXNwb25zZTogewogICAgICAgIGFjdGlvbjogJ2NvbXBsZXRlJywKICAgICAgfQogICAgfTsKICB9CgogIGZvciAoY29uc3QgZmlsZSBvZiBmaWxlcykgewogICAgY29uc3QgbGkgPSBkb2N1bWVudC5jcmVhdGVFbGVtZW50KCdsaScpOwogICAgbGkuYXBwZW5kKHNwYW4oZmlsZS5uYW1lLCB7Zm9udFdlaWdodDogJ2JvbGQnfSkpOwogICAgbGkuYXBwZW5kKHNwYW4oCiAgICAgICAgYCgke2ZpbGUudHlwZSB8fCAnbi9hJ30pIC0gJHtmaWxlLnNpemV9IGJ5dGVzLCBgICsKICAgICAgICBgbGFzdCBtb2RpZmllZDogJHsKICAgICAgICAgICAgZmlsZS5sYXN0TW9kaWZpZWREYXRlID8gZmlsZS5sYXN0TW9kaWZpZWREYXRlLnRvTG9jYWxlRGF0ZVN0cmluZygpIDoKICAgICAgICAgICAgICAgICAgICAgICAgICAgICAgICAgICAgJ24vYSd9IC0gYCkpOwogICAgY29uc3QgcGVyY2VudCA9IHNwYW4oJzAlIGRvbmUnKTsKICAgIGxpLmFwcGVuZENoaWxkKHBlcmNlbnQpOwoKICAgIG91dHB1dEVsZW1lbnQuYXBwZW5kQ2hpbGQobGkpOwoKICAgIGNvbnN0IGZpbGVEYXRhUHJvbWlzZSA9IG5ldyBQcm9taXNlKChyZXNvbHZlKSA9PiB7CiAgICAgIGNvbnN0IHJlYWRlciA9IG5ldyBGaWxlUmVhZGVyKCk7CiAgICAgIHJlYWRlci5vbmxvYWQgPSAoZSkgPT4gewogICAgICAgIHJlc29sdmUoZS50YXJnZXQucmVzdWx0KTsKICAgICAgfTsKICAgICAgcmVhZGVyLnJlYWRBc0FycmF5QnVmZmVyKGZpbGUpOwogICAgfSk7CiAgICAvLyBXYWl0IGZvciB0aGUgZGF0YSB0byBiZSByZWFkeS4KICAgIGxldCBmaWxlRGF0YSA9IHlpZWxkIHsKICAgICAgcHJvbWlzZTogZmlsZURhdGFQcm9taXNlLAogICAgICByZXNwb25zZTogewogICAgICAgIGFjdGlvbjogJ2NvbnRpbnVlJywKICAgICAgfQogICAgfTsKCiAgICAvLyBVc2UgYSBjaHVua2VkIHNlbmRpbmcgdG8gYXZvaWQgbWVzc2FnZSBzaXplIGxpbWl0cy4gU2VlIGIvNjIxMTU2NjAuCiAgICBsZXQgcG9zaXRpb24gPSAwOwogICAgZG8gewogICAgICBjb25zdCBsZW5ndGggPSBNYXRoLm1pbihmaWxlRGF0YS5ieXRlTGVuZ3RoIC0gcG9zaXRpb24sIE1BWF9QQVlMT0FEX1NJWkUpOwogICAgICBjb25zdCBjaHVuayA9IG5ldyBVaW50OEFycmF5KGZpbGVEYXRhLCBwb3NpdGlvbiwgbGVuZ3RoKTsKICAgICAgcG9zaXRpb24gKz0gbGVuZ3RoOwoKICAgICAgY29uc3QgYmFzZTY0ID0gYnRvYShTdHJpbmcuZnJvbUNoYXJDb2RlLmFwcGx5KG51bGwsIGNodW5rKSk7CiAgICAgIHlpZWxkIHsKICAgICAgICByZXNwb25zZTogewogICAgICAgICAgYWN0aW9uOiAnYXBwZW5kJywKICAgICAgICAgIGZpbGU6IGZpbGUubmFtZSwKICAgICAgICAgIGRhdGE6IGJhc2U2NCwKICAgICAgICB9LAogICAgICB9OwoKICAgICAgbGV0IHBlcmNlbnREb25lID0gZmlsZURhdGEuYnl0ZUxlbmd0aCA9PT0gMCA/CiAgICAgICAgICAxMDAgOgogICAgICAgICAgTWF0aC5yb3VuZCgocG9zaXRpb24gLyBmaWxlRGF0YS5ieXRlTGVuZ3RoKSAqIDEwMCk7CiAgICAgIHBlcmNlbnQudGV4dENvbnRlbnQgPSBgJHtwZXJjZW50RG9uZX0lIGRvbmVgOwoKICAgIH0gd2hpbGUgKHBvc2l0aW9uIDwgZmlsZURhdGEuYnl0ZUxlbmd0aCk7CiAgfQoKICAvLyBBbGwgZG9uZS4KICB5aWVsZCB7CiAgICByZXNwb25zZTogewogICAgICBhY3Rpb246ICdjb21wbGV0ZScsCiAgICB9CiAgfTsKfQoKc2NvcGUuZ29vZ2xlID0gc2NvcGUuZ29vZ2xlIHx8IHt9OwpzY29wZS5nb29nbGUuY29sYWIgPSBzY29wZS5nb29nbGUuY29sYWIgfHwge307CnNjb3BlLmdvb2dsZS5jb2xhYi5fZmlsZXMgPSB7CiAgX3VwbG9hZEZpbGVzLAogIF91cGxvYWRGaWxlc0NvbnRpbnVlLAp9Owp9KShzZWxmKTsK",
       "headers": [
        [
         "content-type",
         "application/javascript"
        ]
       ],
       "ok": true,
       "status": 200,
       "status_text": ""
      }
     }
    },
    "executionInfo": {
     "elapsed": 11170,
     "status": "ok",
     "timestamp": 1638991461637,
     "user": {
      "displayName": "Ahmet Emin Tek",
      "photoUrl": "https://lh3.googleusercontent.com/a/default-user=s64",
      "userId": "14855809472179427810"
     },
     "user_tz": -180
    },
    "id": "I8Ytt2LLp2rj",
    "outputId": "9979a1cd-c32f-4998-a40b-5e2a174e7af1"
   },
   "outputs": [],
   "source": [
    "import json\n",
    "\n",
    "from google.colab import files\n",
    "\n",
    "license_keys = files.upload()\n",
    "\n",
    "with open(list(license_keys.keys())[0]) as f:\n",
    "    license_keys = json.load(f)\n",
    "\n",
    "# Defining license key-value pairs as local variables\n",
    "locals().update(license_keys)\n",
    "\n",
    "# Adding license key-value pairs to environment variables\n",
    "import os\n",
    "os.environ.update(license_keys)"
   ]
  },
  {
   "cell_type": "code",
   "execution_count": null,
   "metadata": {
    "colab": {
     "base_uri": "https://localhost:8080/"
    },
    "executionInfo": {
     "elapsed": 44349,
     "status": "ok",
     "timestamp": 1638991508846,
     "user": {
      "displayName": "Ahmet Emin Tek",
      "photoUrl": "https://lh3.googleusercontent.com/a/default-user=s64",
      "userId": "14855809472179427810"
     },
     "user_tz": -180
    },
    "id": "Uq0mPLNNLuSy",
    "outputId": "914011f7-06d5-4b45-acb5-4d905183f81a",
    "scrolled": true
   },
   "outputs": [],
   "source": [
    "# Installing pyspark and spark-nlp\n",
    "! pip install --upgrade -q pyspark==3.1.2 spark-nlp==$PUBLIC_VERSION\n",
    "\n",
    "# Installing Spark NLP Healthcare\n",
    "! pip install --upgrade -q spark-nlp-jsl==$JSL_VERSION  --extra-index-url https://pypi.johnsnowlabs.com/$SECRET"
   ]
  },
  {
   "cell_type": "code",
   "execution_count": null,
   "metadata": {
    "colab": {
     "base_uri": "https://localhost:8080/"
    },
    "executionInfo": {
     "elapsed": 23231,
     "status": "ok",
     "timestamp": 1638991536184,
     "user": {
      "displayName": "Ahmet Emin Tek",
      "photoUrl": "https://lh3.googleusercontent.com/a/default-user=s64",
      "userId": "14855809472179427810"
     },
     "user_tz": -180
    },
    "id": "iUNHVaSdL0tO",
    "outputId": "8fe92e5c-0670-45f0-e4ce-508aa3991cf6"
   },
   "outputs": [
    {
     "name": "stdout",
     "output_type": "stream",
     "text": [
      "Spark NLP Version : 3.3.4\n",
      "Spark NLP_JSL Version : 3.3.4\n"
     ]
    }
   ],
   "source": [
    "import json\n",
    "import os\n",
    "from pyspark.ml import Pipeline, PipelineModel\n",
    "from pyspark.sql import SparkSession\n",
    "\n",
    "from sparknlp.annotator import *\n",
    "from sparknlp_jsl.annotator import *\n",
    "from sparknlp.base import *\n",
    "import sparknlp_jsl\n",
    "import sparknlp\n",
    "\n",
    "from sparknlp.util import *\n",
    "from sparknlp.pretrained import ResourceDownloader\n",
    "from pyspark.sql import functions as F\n",
    "\n",
    "import pandas as pd\n",
    "\n",
    "pd.set_option('display.max_columns', None)  \n",
    "pd.set_option('display.expand_frame_repr', False)\n",
    "pd.set_option('max_colwidth', None)\n",
    "\n",
    "import string\n",
    "import numpy as np\n",
    "\n",
    "params = {\"spark.driver.memory\":\"16G\",\n",
    "          \"spark.kryoserializer.buffer.max\":\"2000M\",\n",
    "          \"spark.driver.maxResultSize\":\"2000M\"}\n",
    "\n",
    "spark = sparknlp_jsl.start(secret = SECRET, params=params)\n",
    "\n",
    "print (\"Spark NLP Version :\", sparknlp.version())\n",
    "print (\"Spark NLP_JSL Version :\", sparknlp_jsl.version())"
   ]
  },
  {
   "cell_type": "code",
   "execution_count": null,
   "metadata": {
    "id": "VtLIEJtPf88T"
   },
   "outputs": [],
   "source": [
    "# if you want to start the session with custom params as in start function above\n",
    "from pyspark.sql import SparkSession\n",
    "\n",
    "def start(SECRET):\n",
    "    builder = SparkSession.builder \\\n",
    "        .appName(\"Spark NLP Licensed\") \\\n",
    "        .master(\"local[*]\") \\\n",
    "        .config(\"spark.driver.memory\", \"16G\") \\\n",
    "        .config(\"spark.serializer\", \"org.apache.spark.serializer.KryoSerializer\") \\\n",
    "        .config(\"spark.kryoserializer.buffer.max\", \"2000M\") \\\n",
    "        .config(\"spark.jars.packages\", \"com.johnsnowlabs.nlp:spark-nlp_2.12:\"+PUBLIC_VERSION) \\\n",
    "        .config(\"spark.jars\", \"https://pypi.johnsnowlabs.com/\"+SECRET+\"/spark-nlp-jsl-\"+JSL_VERSION+\".jar\")\n",
    "      \n",
    "    return builder.getOrCreate()\n",
    "\n",
    "#spark = start(SECRET)"
   ]
  },
  {
   "cell_type": "code",
   "execution_count": null,
   "metadata": {
    "colab": {
     "base_uri": "https://localhost:8080/",
     "height": 216
    },
    "executionInfo": {
     "elapsed": 281,
     "status": "ok",
     "timestamp": 1637844195354,
     "user": {
      "displayName": "Ahmet Emin Tek",
      "photoUrl": "https://lh3.googleusercontent.com/a/default-user=s64",
      "userId": "14855809472179427810"
     },
     "user_tz": -180
    },
    "id": "V1wrGrq0GClP",
    "outputId": "38146a34-5d51-4b79-afc4-d7d9b43fc55b"
   },
   "outputs": [
    {
     "data": {
      "text/html": [
       "\n",
       "            <div>\n",
       "                <p><b>SparkSession - in-memory</b></p>\n",
       "                \n",
       "        <div>\n",
       "            <p><b>SparkContext</b></p>\n",
       "\n",
       "            <p><a href=\"http://0b388fe0f7e9:4040\">Spark UI</a></p>\n",
       "\n",
       "            <dl>\n",
       "              <dt>Version</dt>\n",
       "                <dd><code>v3.1.2</code></dd>\n",
       "              <dt>Master</dt>\n",
       "                <dd><code>local[*]</code></dd>\n",
       "              <dt>AppName</dt>\n",
       "                <dd><code>Spark NLP Licensed</code></dd>\n",
       "            </dl>\n",
       "        </div>\n",
       "        \n",
       "            </div>\n",
       "        "
      ],
      "text/plain": [
       "<pyspark.sql.session.SparkSession at 0x7f344fcf4fd0>"
      ]
     },
     "execution_count": 4,
     "metadata": {},
     "output_type": "execute_result"
    }
   ],
   "source": [
    "spark"
   ]
  },
  {
   "cell_type": "markdown",
   "metadata": {
    "id": "rFQifkFYihOc"
   },
   "source": [
    "# Deidentification Model"
   ]
  },
  {
   "cell_type": "markdown",
   "metadata": {
    "id": "2eY0jM7kf88f"
   },
   "source": [
    "Protected Health Information: \n",
    "- individual’s past, present, or future physical or mental health or condition\n",
    "- provision of health care to the individual\n",
    "- past, present, or future payment for the health care \n",
    "\n",
    "Protected health information includes many common identifiers (e.g., name, address, birth date, Social Security Number) when they can be associated with the health information."
   ]
  },
  {
   "cell_type": "markdown",
   "metadata": {
    "id": "ZKln9C7Ef88f"
   },
   "source": [
    "Load NER pipeline to identify protected entities:"
   ]
  },
  {
   "cell_type": "code",
   "execution_count": null,
   "metadata": {
    "colab": {
     "base_uri": "https://localhost:8080/"
    },
    "executionInfo": {
     "elapsed": 163047,
     "status": "ok",
     "timestamp": 1637844418733,
     "user": {
      "displayName": "Ahmet Emin Tek",
      "photoUrl": "https://lh3.googleusercontent.com/a/default-user=s64",
      "userId": "14855809472179427810"
     },
     "user_tz": -180
    },
    "id": "qHzG7Wvhgcex",
    "outputId": "f6fb557e-34ec-4fdb-c104-fdffb41b929f"
   },
   "outputs": [
    {
     "name": "stdout",
     "output_type": "stream",
     "text": [
      "embeddings_clinical download started this may take some time.\n",
      "Approximate size to download 1.6 GB\n",
      "[OK!]\n",
      "ner_deid_generic_augmented download started this may take some time.\n",
      "Approximate size to download 13.8 MB\n",
      "[OK!]\n"
     ]
    }
   ],
   "source": [
    "documentAssembler = DocumentAssembler()\\\n",
    "      .setInputCol(\"text\")\\\n",
    "      .setOutputCol(\"document\")\n",
    "\n",
    "# Sentence Detector annotator, processes various sentences per line\n",
    "\n",
    "sentenceDetector = SentenceDetector()\\\n",
    "      .setInputCols([\"document\"])\\\n",
    "      .setOutputCol(\"sentence\")\n",
    "\n",
    "# Tokenizer splits words in a relevant format for NLP\n",
    "\n",
    "tokenizer = Tokenizer()\\\n",
    "      .setInputCols([\"sentence\"])\\\n",
    "      .setOutputCol(\"token\")\n",
    "\n",
    "# Clinical word embeddings trained on PubMED dataset\n",
    "\n",
    "word_embeddings = WordEmbeddingsModel.pretrained(\"embeddings_clinical\", \"en\", \"clinical/models\")\\\n",
    "      .setInputCols([\"sentence\", \"token\"])\\\n",
    "      .setOutputCol(\"embeddings\")\n",
    "\n",
    "# NER model trained on n2c2 (de-identification and Heart Disease Risk Factors Challenge) datasets)\n",
    "\n",
    "clinical_ner = MedicalNerModel.pretrained(\"ner_deid_generic_augmented\", \"en\", \"clinical/models\") \\\n",
    "      .setInputCols([\"sentence\", \"token\", \"embeddings\"]) \\\n",
    "      .setOutputCol(\"ner\")\n",
    "\n",
    "ner_converter = NerConverterInternal()\\\n",
    "      .setInputCols([\"sentence\", \"token\", \"ner\"])\\\n",
    "      .setOutputCol(\"ner_chunk\")\n",
    "\n",
    "nlpPipeline = Pipeline(stages=[\n",
    "      documentAssembler, \n",
    "      sentenceDetector,\n",
    "      tokenizer,\n",
    "      word_embeddings,\n",
    "      clinical_ner,\n",
    "      ner_converter])\n",
    "\n",
    "empty_data = spark.createDataFrame([[\"\"]]).toDF(\"text\")\n",
    "\n",
    "model = nlpPipeline.fit(empty_data)"
   ]
  },
  {
   "cell_type": "markdown",
   "metadata": {
    "id": "woAJhVv6f88m"
   },
   "source": [
    "### Pretrained NER models extracts:\n",
    "\n",
    "- Name\n",
    "- Profession\n",
    "- Age\n",
    "- Date\n",
    "- Contact(Telephone numbers, FAX numbers, Email addresses)\n",
    "- Location (Address, City, Postal code, Hospital Name, Employment information)\n",
    "- Id (Social Security numbers, Medical record numbers, Internet protocol addresses)"
   ]
  },
  {
   "cell_type": "code",
   "execution_count": null,
   "metadata": {
    "id": "Fxdh4CBBf88n"
   },
   "outputs": [],
   "source": [
    "text ='''\n",
    "A . Record date : 2093-01-13 , David Hale , M.D . , Name : Hendrickson , Ora MR . # 7194334 Date : 01/13/93 PCP : Oliveira , 25 years-old , Record date : 2079-11-09 . Cocke County Baptist Hospital . 0295 Keats Street\n",
    "'''"
   ]
  },
  {
   "cell_type": "code",
   "execution_count": null,
   "metadata": {
    "id": "AE7cILT6f88q"
   },
   "outputs": [],
   "source": [
    "result = model.transform(spark.createDataFrame([[text]]).toDF(\"text\"))"
   ]
  },
  {
   "cell_type": "code",
   "execution_count": null,
   "metadata": {
    "id": "5cxcMyvLf88u"
   },
   "outputs": [],
   "source": [
    "result_df = result.select(F.explode(F.arrays_zip('token.result', 'ner.result')).alias(\"cols\")) \\\n",
    "                  .select(F.expr(\"cols['0']\").alias(\"token\"),\n",
    "                          F.expr(\"cols['1']\").alias(\"ner_label\"))"
   ]
  },
  {
   "cell_type": "code",
   "execution_count": null,
   "metadata": {
    "colab": {
     "base_uri": "https://localhost:8080/"
    },
    "executionInfo": {
     "elapsed": 14408,
     "status": "ok",
     "timestamp": 1637844467414,
     "user": {
      "displayName": "Ahmet Emin Tek",
      "photoUrl": "https://lh3.googleusercontent.com/a/default-user=s64",
      "userId": "14855809472179427810"
     },
     "user_tz": -180
    },
    "id": "Nunb_ZZpar4q",
    "outputId": "8f229be9-f9a3-4228-97ed-ceabc38a2b72"
   },
   "outputs": [
    {
     "name": "stdout",
     "output_type": "stream",
     "text": [
      "+----------+-----+\n",
      "|ner_label |count|\n",
      "+----------+-----+\n",
      "|O         |27   |\n",
      "|I-LOCATION|5    |\n",
      "|B-DATE    |3    |\n",
      "|I-NAME    |3    |\n",
      "|B-NAME    |3    |\n",
      "|B-LOCATION|2    |\n",
      "|B-ID      |1    |\n",
      "|B-AGE     |1    |\n",
      "+----------+-----+\n",
      "\n"
     ]
    }
   ],
   "source": [
    "result_df.select(\"token\", \"ner_label\").groupBy('ner_label').count().orderBy('count', ascending=False).show(truncate=False)"
   ]
  },
  {
   "cell_type": "markdown",
   "metadata": {
    "id": "DJvt31qlf880"
   },
   "source": [
    "### Check extracted sensetive entities"
   ]
  },
  {
   "cell_type": "code",
   "execution_count": null,
   "metadata": {
    "colab": {
     "base_uri": "https://localhost:8080/"
    },
    "id": "fLuOc_dQa9as",
    "outputId": "85edb59b-9fcb-491e-897e-8469a59aacb1"
   },
   "outputs": [
    {
     "name": "stdout",
     "output_type": "stream",
     "text": [
      "+-----------------------------+---------+\n",
      "|chunk                        |ner_label|\n",
      "+-----------------------------+---------+\n",
      "|2093-01-13                   |DATE     |\n",
      "|David Hale                   |NAME     |\n",
      "|Hendrickson , Ora            |NAME     |\n",
      "|7194334                      |ID       |\n",
      "|01/13/93                     |DATE     |\n",
      "|Oliveira                     |NAME     |\n",
      "|25                           |AGE      |\n",
      "|2079-11-09                   |DATE     |\n",
      "|Cocke County Baptist Hospital|LOCATION |\n",
      "|0295 Keats Street            |LOCATION |\n",
      "+-----------------------------+---------+\n",
      "\n"
     ]
    }
   ],
   "source": [
    "result.select(F.explode(F.arrays_zip('ner_chunk.result', 'ner_chunk.metadata')).alias(\"cols\")) \\\n",
    "      .select(F.expr(\"cols['0']\").alias(\"chunk\"),\n",
    "              F.expr(\"cols['1']['entity']\").alias(\"ner_label\")).show(truncate=False)"
   ]
  },
  {
   "cell_type": "markdown",
   "metadata": {
    "id": "EkD3zogqf89Q"
   },
   "source": [
    "### Excluding entities from deidentification"
   ]
  },
  {
   "cell_type": "markdown",
   "metadata": {
    "id": "my04HL3rf89Q"
   },
   "source": [
    "Sometimes we need to leave some entities in the text, for example, if we want to analyze the frequency of the disease by the hospital. In this case, we need to use parameter **`setWhiteList()`** to modify `ner_chunk` output. This parameter having using a list of entities type to deidentify as an input. So, if we want to leave the location in the list we need to remove this tag from the list:"
   ]
  },
  {
   "cell_type": "code",
   "execution_count": null,
   "metadata": {
    "id": "3Bj066u9f89R"
   },
   "outputs": [],
   "source": [
    "ner_converter = NerConverterInternal()\\\n",
    "    .setInputCols([\"sentence\", \"token\", \"ner\"])\\\n",
    "    .setOutputCol(\"ner_chunk\") \\\n",
    "    .setWhiteList(['NAME', 'PROFESSION', 'ID', 'AGE', 'DATE'])\n",
    "\n",
    "nlpPipeline = Pipeline(stages=[\n",
    "    documentAssembler, \n",
    "    sentenceDetector,\n",
    "    tokenizer,\n",
    "    word_embeddings,\n",
    "    clinical_ner,\n",
    "    ner_converter])\n",
    "\n",
    "empty_data = spark.createDataFrame([[\"\"]]).toDF(\"text\")\n",
    "\n",
    "model_with_white_list = nlpPipeline.fit(empty_data)"
   ]
  },
  {
   "cell_type": "code",
   "execution_count": null,
   "metadata": {
    "id": "oWNZR2trf89U"
   },
   "outputs": [],
   "source": [
    "text ='''\n",
    "A . Record date : 2093-01-13 , David Hale , M.D . , Name : Hendrickson , Ora MR . # 7194334 Date : 01/13/93 PCP : Oliveira , 25 years-old , Record date : 2079-11-09 . Cocke County Baptist Hospital . 0295 Keats Street. Phone +1 (302) 786-5227.\n",
    "'''\n",
    "\n",
    "result_with_white_list = model_with_white_list.transform(spark.createDataFrame([[text]]).toDF(\"text\"))"
   ]
  },
  {
   "cell_type": "code",
   "execution_count": null,
   "metadata": {
    "colab": {
     "base_uri": "https://localhost:8080/"
    },
    "executionInfo": {
     "elapsed": 2775,
     "status": "ok",
     "timestamp": 1637844593939,
     "user": {
      "displayName": "Ahmet Emin Tek",
      "photoUrl": "https://lh3.googleusercontent.com/a/default-user=s64",
      "userId": "14855809472179427810"
     },
     "user_tz": -180
    },
    "id": "u37rm6C3bePi",
    "outputId": "1c26f5f5-cc18-49be-fcad-419f0a02d952"
   },
   "outputs": [
    {
     "name": "stdout",
     "output_type": "stream",
     "text": [
      "All Labels :\n",
      "+-----------------------------+---------+\n",
      "|chunk                        |ner_label|\n",
      "+-----------------------------+---------+\n",
      "|2093-01-13                   |DATE     |\n",
      "|David Hale                   |NAME     |\n",
      "|Hendrickson , Ora            |NAME     |\n",
      "|7194334                      |ID       |\n",
      "|01/13/93                     |DATE     |\n",
      "|Oliveira                     |NAME     |\n",
      "|25                           |AGE      |\n",
      "|2079-11-09                   |DATE     |\n",
      "|Cocke County Baptist Hospital|LOCATION |\n",
      "|0295 Keats Street            |LOCATION |\n",
      "+-----------------------------+---------+\n",
      "\n",
      "WhiteListed Labels: \n",
      "+-----------------+---------+\n",
      "|chunk            |ner_label|\n",
      "+-----------------+---------+\n",
      "|2093-01-13       |DATE     |\n",
      "|David Hale       |NAME     |\n",
      "|Hendrickson , Ora|NAME     |\n",
      "|7194334          |ID       |\n",
      "|01/13/93         |DATE     |\n",
      "|Oliveira         |NAME     |\n",
      "|25               |AGE      |\n",
      "|2079-11-09       |DATE     |\n",
      "+-----------------+---------+\n",
      "\n"
     ]
    }
   ],
   "source": [
    "print(\"All Labels :\")\n",
    "result.select(F.explode(F.arrays_zip('ner_chunk.result', 'ner_chunk.metadata')).alias(\"cols\")) \\\n",
    "      .select(F.expr(\"cols['0']\").alias(\"chunk\"),\n",
    "              F.expr(\"cols['1']['entity']\").alias(\"ner_label\")).show(truncate=False)\n",
    "\n",
    "print(\"WhiteListed Labels: \")\n",
    "result_with_white_list.select(F.explode(F.arrays_zip('ner_chunk.result', 'ner_chunk.metadata')).alias(\"cols\")) \\\n",
    "                      .select(F.expr(\"cols['0']\").alias(\"chunk\"),\n",
    "                              F.expr(\"cols['1']['entity']\").alias(\"ner_label\")).show(truncate=False)"
   ]
  },
  {
   "cell_type": "markdown",
   "metadata": {
    "id": "rckvYUKVf89b"
   },
   "source": [
    "## Masking and Obfuscation"
   ]
  },
  {
   "cell_type": "markdown",
   "metadata": {
    "id": "HLt9SFX5f89b"
   },
   "source": [
    "### Replace this enitites with Tags"
   ]
  },
  {
   "cell_type": "code",
   "execution_count": null,
   "metadata": {
    "id": "WaFe5bZzhEXT"
   },
   "outputs": [],
   "source": [
    "ner_converter = NerConverterInternal()\\\n",
    "      .setInputCols([\"sentence\", \"token\", \"ner\"])\\\n",
    "      .setOutputCol(\"ner_chunk\") \n",
    "\n",
    "deidentification = DeIdentification() \\\n",
    "      .setInputCols([\"sentence\", \"token\", \"ner_chunk\"]) \\\n",
    "      .setOutputCol(\"deidentified\") \\\n",
    "      .setMode(\"mask\")\\\n",
    "      .setReturnEntityMappings(True) #  return a new column to save the mappings between the mask/obfuscated entities and original entities.\n",
    "      #.setMappingsColumn(\"MappingCol\") # change the name of the column, 'aux' is default\n",
    "\n",
    "deidPipeline = Pipeline(stages=[\n",
    "      documentAssembler, \n",
    "      sentenceDetector,\n",
    "      tokenizer,\n",
    "      word_embeddings,\n",
    "      clinical_ner,\n",
    "      ner_converter,\n",
    "      deidentification])\n",
    "\n",
    "empty_data = spark.createDataFrame([[\"\"]]).toDF(\"text\")\n",
    "\n",
    "model_deid = deidPipeline.fit(empty_data)"
   ]
  },
  {
   "cell_type": "code",
   "execution_count": null,
   "metadata": {
    "id": "CZ3QgzH2AD-h"
   },
   "outputs": [],
   "source": [
    "text ='''\n",
    "A . Record date : 2093-01-13 , David Hale , M.D . , Name : Hendrickson , Ora MR . # 7194334 Date : 01/13/93 PCP : Oliveira , 25 years-old , Record date : 2079-11-09 . Cocke County Baptist Hospital . 0295 Keats Street. Phone (302) 786-5227.\n",
    "'''\n",
    "result = model_deid.transform(spark.createDataFrame([[text]]).toDF(\"text\"))"
   ]
  },
  {
   "cell_type": "code",
   "execution_count": null,
   "metadata": {
    "colab": {
     "base_uri": "https://localhost:8080/"
    },
    "executionInfo": {
     "elapsed": 941,
     "status": "ok",
     "timestamp": 1637845063833,
     "user": {
      "displayName": "Ahmet Emin Tek",
      "photoUrl": "https://lh3.googleusercontent.com/a/default-user=s64",
      "userId": "14855809472179427810"
     },
     "user_tz": -180
    },
    "id": "JR12_5hPdkg5",
    "outputId": "a5feeabb-1b4f-4ba6-f408-bbf98a36547f"
   },
   "outputs": [
    {
     "name": "stdout",
     "output_type": "stream",
     "text": [
      "+--------------------+--------------------+--------------------+--------------------+--------------------+--------------------+--------------------+--------------------+--------------------+\n",
      "|                text|            document|            sentence|               token|          embeddings|                 ner|           ner_chunk|        deidentified|                 aux|\n",
      "+--------------------+--------------------+--------------------+--------------------+--------------------+--------------------+--------------------+--------------------+--------------------+\n",
      "|\n",
      "A . Record date ...|[{document, 0, 24...|[{document, 1, 3,...|[{token, 1, 1, A,...|[{word_embeddings...|[{named_entity, 1...|[{chunk, 19, 28, ...|[{document, 0, 2,...|[{chunk, 17, 22, ...|\n",
      "+--------------------+--------------------+--------------------+--------------------+--------------------+--------------------+--------------------+--------------------+--------------------+\n",
      "\n"
     ]
    }
   ],
   "source": [
    "result.show()"
   ]
  },
  {
   "cell_type": "code",
   "execution_count": null,
   "metadata": {
    "colab": {
     "base_uri": "https://localhost:8080/"
    },
    "executionInfo": {
     "elapsed": 1245,
     "status": "ok",
     "timestamp": 1637845066229,
     "user": {
      "displayName": "Ahmet Emin Tek",
      "photoUrl": "https://lh3.googleusercontent.com/a/default-user=s64",
      "userId": "14855809472179427810"
     },
     "user_tz": -180
    },
    "id": "CTWYcnMbbrkD",
    "outputId": "a154c478-ebbb-42c8-ca4b-5e64800ddd8a"
   },
   "outputs": [
    {
     "name": "stdout",
     "output_type": "stream",
     "text": [
      "+-----------------------------+---------+\n",
      "|chunk                        |ner_label|\n",
      "+-----------------------------+---------+\n",
      "|2093-01-13                   |DATE     |\n",
      "|David Hale                   |NAME     |\n",
      "|Hendrickson , Ora            |NAME     |\n",
      "|7194334                      |ID       |\n",
      "|01/13/93                     |DATE     |\n",
      "|Oliveira                     |NAME     |\n",
      "|25                           |AGE      |\n",
      "|2079-11-09                   |DATE     |\n",
      "|Cocke County Baptist Hospital|LOCATION |\n",
      "|0295 Keats Street            |LOCATION |\n",
      "|(302) 786-5227               |CONTACT  |\n",
      "+-----------------------------+---------+\n",
      "\n"
     ]
    }
   ],
   "source": [
    "result.select(F.explode(F.arrays_zip('ner_chunk.result', 'ner_chunk.metadata')).alias(\"cols\")) \\\n",
    "      .select(F.expr(\"cols['0']\").alias(\"chunk\"),\n",
    "              F.expr(\"cols['1']['entity']\").alias(\"ner_label\")).show(truncate=False)"
   ]
  },
  {
   "cell_type": "code",
   "execution_count": null,
   "metadata": {
    "colab": {
     "base_uri": "https://localhost:8080/",
     "height": 283
    },
    "executionInfo": {
     "elapsed": 963,
     "status": "ok",
     "timestamp": 1637845076251,
     "user": {
      "displayName": "Ahmet Emin Tek",
      "photoUrl": "https://lh3.googleusercontent.com/a/default-user=s64",
      "userId": "14855809472179427810"
     },
     "user_tz": -180
    },
    "id": "sI1C9hJzbyl3",
    "outputId": "da1f612a-6122-4545-dd81-4d1be4b3f367"
   },
   "outputs": [
    {
     "data": {
      "text/html": [
       "<div>\n",
       "<style scoped>\n",
       "    .dataframe tbody tr th:only-of-type {\n",
       "        vertical-align: middle;\n",
       "    }\n",
       "\n",
       "    .dataframe tbody tr th {\n",
       "        vertical-align: top;\n",
       "    }\n",
       "\n",
       "    .dataframe thead th {\n",
       "        text-align: right;\n",
       "    }\n",
       "</style>\n",
       "<table border=\"1\" class=\"dataframe\">\n",
       "  <thead>\n",
       "    <tr style=\"text-align: right;\">\n",
       "      <th></th>\n",
       "      <th>sentence</th>\n",
       "      <th>deidentified</th>\n",
       "    </tr>\n",
       "  </thead>\n",
       "  <tbody>\n",
       "    <tr>\n",
       "      <th>0</th>\n",
       "      <td>A .</td>\n",
       "      <td>A .</td>\n",
       "    </tr>\n",
       "    <tr>\n",
       "      <th>1</th>\n",
       "      <td>Record date : 2093-01-13 , David Hale , M.D .</td>\n",
       "      <td>Record date : &lt;DATE&gt; , &lt;NAME&gt; , M.D .</td>\n",
       "    </tr>\n",
       "    <tr>\n",
       "      <th>2</th>\n",
       "      <td>, Name : Hendrickson , Ora MR .</td>\n",
       "      <td>, Name : &lt;NAME&gt; MR .</td>\n",
       "    </tr>\n",
       "    <tr>\n",
       "      <th>3</th>\n",
       "      <td># 7194334 Date : 01/13/93 PCP : Oliveira , 25 years-old , Record date : 2079-11-09 .</td>\n",
       "      <td># &lt;ID&gt; Date : &lt;DATE&gt; PCP : &lt;NAME&gt; , &lt;AGE&gt; years-old , Record date : &lt;DATE&gt; .</td>\n",
       "    </tr>\n",
       "    <tr>\n",
       "      <th>4</th>\n",
       "      <td>Cocke County Baptist Hospital .</td>\n",
       "      <td>&lt;LOCATION&gt; .</td>\n",
       "    </tr>\n",
       "    <tr>\n",
       "      <th>5</th>\n",
       "      <td>0295 Keats Street.</td>\n",
       "      <td>&lt;LOCATION&gt;.</td>\n",
       "    </tr>\n",
       "    <tr>\n",
       "      <th>6</th>\n",
       "      <td>Phone (302) 786-5227.</td>\n",
       "      <td>Phone &lt;CONTACT&gt;.</td>\n",
       "    </tr>\n",
       "  </tbody>\n",
       "</table>\n",
       "</div>"
      ],
      "text/plain": [
       "                                                                               sentence                                                                  deidentified\n",
       "0                                                                                   A .                                                                           A .\n",
       "1                                         Record date : 2093-01-13 , David Hale , M.D .                                         Record date : <DATE> , <NAME> , M.D .\n",
       "2                                                       , Name : Hendrickson , Ora MR .                                                          , Name : <NAME> MR .\n",
       "3  # 7194334 Date : 01/13/93 PCP : Oliveira , 25 years-old , Record date : 2079-11-09 .  # <ID> Date : <DATE> PCP : <NAME> , <AGE> years-old , Record date : <DATE> .\n",
       "4                                                       Cocke County Baptist Hospital .                                                                  <LOCATION> .\n",
       "5                                                                    0295 Keats Street.                                                                   <LOCATION>.\n",
       "6                                                                 Phone (302) 786-5227.                                                              Phone <CONTACT>."
      ]
     },
     "execution_count": 40,
     "metadata": {},
     "output_type": "execute_result"
    }
   ],
   "source": [
    "result.select(F.explode(F.arrays_zip('sentence.result', 'deidentified.result')).alias(\"cols\")) \\\n",
    "      .select(F.expr(\"cols['0']\").alias(\"sentence\"), F.expr(\"cols['1']\").alias(\"deidentified\")).toPandas()"
   ]
  },
  {
   "cell_type": "markdown",
   "metadata": {
    "id": "xTheMoL9LMWI"
   },
   "source": [
    "`.setBlacklist()` parameter so that not deidentifiy the labels that are specified in the list. "
   ]
  },
  {
   "cell_type": "code",
   "execution_count": null,
   "metadata": {
    "id": "MkyP9s2YL0wN"
   },
   "outputs": [],
   "source": [
    "ner_converter = NerConverterInternal()\\\n",
    "      .setInputCols([\"sentence\", \"token\", \"ner\"])\\\n",
    "      .setOutputCol(\"ner_chunk\") \n",
    "\n",
    "deidentification_with_black = DeIdentification() \\\n",
    "      .setInputCols([\"sentence\", \"token\", \"ner_chunk\"]) \\\n",
    "      .setOutputCol(\"deidentified\") \\\n",
    "      .setMode(\"mask\")\\\n",
    "      .setBlackList([\"LOCATION\"])\\\n",
    "      .setReturnEntityMappings(True)\n",
    "\n",
    "\n",
    "deidPipeline = Pipeline(stages=[\n",
    "      documentAssembler, \n",
    "      sentenceDetector,\n",
    "      tokenizer,\n",
    "      word_embeddings,\n",
    "      clinical_ner,\n",
    "      ner_converter,\n",
    "      deidentification_with_black])\n",
    "\n",
    "empty_data = spark.createDataFrame([[\"\"]]).toDF(\"text\")\n",
    "\n",
    "model_deid_black = deidPipeline.fit(empty_data)"
   ]
  },
  {
   "cell_type": "code",
   "execution_count": null,
   "metadata": {
    "id": "VIQh41S0L0su"
   },
   "outputs": [],
   "source": [
    "text ='''\n",
    "A . Record date : 2093-01-13 , David Hale , M.D . , Name : Hendrickson , Ora MR . # 7194334 Date : 01/13/93 PCP : Oliveira , 25 years-old , Record date : 2079-11-09 . Cocke County Baptist Hospital . 0295 Keats Street. Phone (302) 786-5227.\n",
    "'''\n",
    "result_with_black = model_deid_black.transform(spark.createDataFrame([[text]]).toDF(\"text\"))"
   ]
  },
  {
   "cell_type": "code",
   "execution_count": null,
   "metadata": {
    "colab": {
     "base_uri": "https://localhost:8080/",
     "height": 283
    },
    "executionInfo": {
     "elapsed": 619,
     "status": "ok",
     "timestamp": 1637845680398,
     "user": {
      "displayName": "Ahmet Emin Tek",
      "photoUrl": "https://lh3.googleusercontent.com/a/default-user=s64",
      "userId": "14855809472179427810"
     },
     "user_tz": -180
    },
    "id": "Tbg_XXOGL0mP",
    "outputId": "96d0e7a4-c7a4-4340-e756-d607955eb655"
   },
   "outputs": [
    {
     "data": {
      "text/html": [
       "<div>\n",
       "<style scoped>\n",
       "    .dataframe tbody tr th:only-of-type {\n",
       "        vertical-align: middle;\n",
       "    }\n",
       "\n",
       "    .dataframe tbody tr th {\n",
       "        vertical-align: top;\n",
       "    }\n",
       "\n",
       "    .dataframe thead th {\n",
       "        text-align: right;\n",
       "    }\n",
       "</style>\n",
       "<table border=\"1\" class=\"dataframe\">\n",
       "  <thead>\n",
       "    <tr style=\"text-align: right;\">\n",
       "      <th></th>\n",
       "      <th>sentence</th>\n",
       "      <th>deidentified</th>\n",
       "    </tr>\n",
       "  </thead>\n",
       "  <tbody>\n",
       "    <tr>\n",
       "      <th>0</th>\n",
       "      <td>A .</td>\n",
       "      <td>A .</td>\n",
       "    </tr>\n",
       "    <tr>\n",
       "      <th>1</th>\n",
       "      <td>Record date : 2093-01-13 , David Hale , M.D .</td>\n",
       "      <td>Record date : &lt;DATE&gt; , &lt;NAME&gt; , M.D .</td>\n",
       "    </tr>\n",
       "    <tr>\n",
       "      <th>2</th>\n",
       "      <td>, Name : Hendrickson , Ora MR .</td>\n",
       "      <td>, Name : &lt;NAME&gt; MR .</td>\n",
       "    </tr>\n",
       "    <tr>\n",
       "      <th>3</th>\n",
       "      <td># 7194334 Date : 01/13/93 PCP : Oliveira , 25 years-old , Record date : 2079-11-09 .</td>\n",
       "      <td># &lt;ID&gt; Date : &lt;DATE&gt; PCP : &lt;NAME&gt; , &lt;AGE&gt; years-old , Record date : &lt;DATE&gt; .</td>\n",
       "    </tr>\n",
       "    <tr>\n",
       "      <th>4</th>\n",
       "      <td>Cocke County Baptist Hospital .</td>\n",
       "      <td>Cocke County Baptist Hospital .</td>\n",
       "    </tr>\n",
       "    <tr>\n",
       "      <th>5</th>\n",
       "      <td>0295 Keats Street.</td>\n",
       "      <td>0295 Keats Street.</td>\n",
       "    </tr>\n",
       "    <tr>\n",
       "      <th>6</th>\n",
       "      <td>Phone (302) 786-5227.</td>\n",
       "      <td>Phone &lt;CONTACT&gt;.</td>\n",
       "    </tr>\n",
       "  </tbody>\n",
       "</table>\n",
       "</div>"
      ],
      "text/plain": [
       "                                                                               sentence                                                                  deidentified\n",
       "0                                                                                   A .                                                                           A .\n",
       "1                                         Record date : 2093-01-13 , David Hale , M.D .                                         Record date : <DATE> , <NAME> , M.D .\n",
       "2                                                       , Name : Hendrickson , Ora MR .                                                          , Name : <NAME> MR .\n",
       "3  # 7194334 Date : 01/13/93 PCP : Oliveira , 25 years-old , Record date : 2079-11-09 .  # <ID> Date : <DATE> PCP : <NAME> , <AGE> years-old , Record date : <DATE> .\n",
       "4                                                       Cocke County Baptist Hospital .                                               Cocke County Baptist Hospital .\n",
       "5                                                                    0295 Keats Street.                                                            0295 Keats Street.\n",
       "6                                                                 Phone (302) 786-5227.                                                              Phone <CONTACT>."
      ]
     },
     "execution_count": 56,
     "metadata": {},
     "output_type": "execute_result"
    }
   ],
   "source": [
    "result_with_black.select(F.explode(F.arrays_zip('sentence.result', 'deidentified.result')).alias(\"cols\")) \\\n",
    "      .select(F.expr(\"cols['0']\").alias(\"sentence\"), F.expr(\"cols['1']\").alias(\"deidentified\")).toPandas()"
   ]
  },
  {
   "cell_type": "markdown",
   "metadata": {
    "id": "yxv9bu4Ifweb"
   },
   "source": [
    "### Mapping Column"
   ]
  },
  {
   "cell_type": "code",
   "execution_count": null,
   "metadata": {
    "colab": {
     "base_uri": "https://localhost:8080/"
    },
    "executionInfo": {
     "elapsed": 1055,
     "status": "ok",
     "timestamp": 1637845795631,
     "user": {
      "displayName": "Ahmet Emin Tek",
      "photoUrl": "https://lh3.googleusercontent.com/a/default-user=s64",
      "userId": "14855809472179427810"
     },
     "user_tz": -180
    },
    "id": "zcaXaxRFd-n6",
    "outputId": "5ad23a75-49a9-4b0e-b638-d6b26077d860"
   },
   "outputs": [
    {
     "name": "stdout",
     "output_type": "stream",
     "text": [
      "+---------------------------------------------------------------------------------------------------------------------------------------------------------------------------------------------------------------------------------------------------------------------------------------------------------------------------------------------------------------------------------------------------------------------------------------------------------------------------------------------------------------------------------------------------------------------------------------------------------------------------------------------------------------------------------------------------------------------------------------------------------------------------------------------------------------------------------------------------------------------------------------------------------------------------------------------------------------------------------------------------------------------------------------------------------------------------------------------------------------------------------------------------------------------------------------------------------------------------------------------------------------------------------------------------------------------------------------------------------------------------------------------------------------------------------------------------------------------------------------------------------------------------------------------------------------------------------------------------------------------------------------------------------------------------------------------------------------------------------------------------------------------------------------------------------------------------------------------------------------------------------------------------------------------------------------------------------------------------------------------------------------------------------------------------------------------------------------------------------------------------------------------------------------------------------------------------------------------------------------------------------------------------------------------------------------------------------------------------------------+\n",
      "|aux                                                                                                                                                                                                                                                                                                                                                                                                                                                                                                                                                                                                                                                                                                                                                                                                                                                                                                                                                                                                                                                                                                                                                                                                                                                                                                                                                                                                                                                                                                                                                                                                                                                                                                                                                                                                                                                                                                                                                                                                                                                                                                                                                                                                                                                                                                                                                            |\n",
      "+---------------------------------------------------------------------------------------------------------------------------------------------------------------------------------------------------------------------------------------------------------------------------------------------------------------------------------------------------------------------------------------------------------------------------------------------------------------------------------------------------------------------------------------------------------------------------------------------------------------------------------------------------------------------------------------------------------------------------------------------------------------------------------------------------------------------------------------------------------------------------------------------------------------------------------------------------------------------------------------------------------------------------------------------------------------------------------------------------------------------------------------------------------------------------------------------------------------------------------------------------------------------------------------------------------------------------------------------------------------------------------------------------------------------------------------------------------------------------------------------------------------------------------------------------------------------------------------------------------------------------------------------------------------------------------------------------------------------------------------------------------------------------------------------------------------------------------------------------------------------------------------------------------------------------------------------------------------------------------------------------------------------------------------------------------------------------------------------------------------------------------------------------------------------------------------------------------------------------------------------------------------------------------------------------------------------------------------------------------------+\n",
      "|[{chunk, 17, 22, <DATE>, {originalChunk -> 2093-01-13, chunk -> 0, beginOriginalChunk -> 19, confidence -> 1.0, ner_source -> ner_chunk, entity -> DATE, endOriginalChunk -> 28, sentence -> 1}, []}, {chunk, 26, 31, <NAME>, {originalChunk -> David Hale, chunk -> 1, beginOriginalChunk -> 32, confidence -> 0.80655, ner_source -> ner_chunk, entity -> NAME, endOriginalChunk -> 41, sentence -> 1}, []}, {chunk, 49, 54, <NAME>, {originalChunk -> Hendrickson , Ora, chunk -> 2, beginOriginalChunk -> 60, confidence -> 0.95250005, ner_source -> ner_chunk, entity -> NAME, endOriginalChunk -> 76, sentence -> 2}, []}, {chunk, 62, 65, <ID>, {originalChunk -> 7194334, chunk -> 3, beginOriginalChunk -> 85, confidence -> 0.9998, ner_source -> ner_chunk, entity -> ID, endOriginalChunk -> 91, sentence -> 3}, []}, {chunk, 74, 79, <DATE>, {originalChunk -> 01/13/93, chunk -> 4, beginOriginalChunk -> 100, confidence -> 0.9948, ner_source -> ner_chunk, entity -> DATE, endOriginalChunk -> 107, sentence -> 3}, []}, {chunk, 87, 92, <NAME>, {originalChunk -> Oliveira, chunk -> 5, beginOriginalChunk -> 115, confidence -> 0.9908, ner_source -> ner_chunk, entity -> NAME, endOriginalChunk -> 122, sentence -> 3}, []}, {chunk, 96, 100, <AGE>, {originalChunk -> 25, chunk -> 6, beginOriginalChunk -> 126, confidence -> 0.7091, ner_source -> ner_chunk, entity -> AGE, endOriginalChunk -> 127, sentence -> 3}, []}, {chunk, 128, 133, <DATE>, {originalChunk -> 2079-11-09, chunk -> 7, beginOriginalChunk -> 155, confidence -> 1.0, ner_source -> ner_chunk, entity -> DATE, endOriginalChunk -> 164, sentence -> 3}, []}, {chunk, 136, 145, <LOCATION>, {originalChunk -> Cocke County Baptist Hospital, chunk -> 8, beginOriginalChunk -> 168, confidence -> 0.81762505, ner_source -> ner_chunk, entity -> LOCATION, endOriginalChunk -> 196, sentence -> 4}, []}, {chunk, 148, 157, <LOCATION>, {originalChunk -> 0295 Keats Street, chunk -> 9, beginOriginalChunk -> 200, confidence -> 0.97709996, ner_source -> ner_chunk, entity -> LOCATION, endOriginalChunk -> 216, sentence -> 5}, []}, {chunk, 165, 173, <CONTACT>, {originalChunk -> (302) 786-5227, chunk -> 10, beginOriginalChunk -> 225, confidence -> 0.959125, ner_source -> ner_chunk, entity -> CONTACT, endOriginalChunk -> 238, sentence -> 6}, []}]|\n",
      "+---------------------------------------------------------------------------------------------------------------------------------------------------------------------------------------------------------------------------------------------------------------------------------------------------------------------------------------------------------------------------------------------------------------------------------------------------------------------------------------------------------------------------------------------------------------------------------------------------------------------------------------------------------------------------------------------------------------------------------------------------------------------------------------------------------------------------------------------------------------------------------------------------------------------------------------------------------------------------------------------------------------------------------------------------------------------------------------------------------------------------------------------------------------------------------------------------------------------------------------------------------------------------------------------------------------------------------------------------------------------------------------------------------------------------------------------------------------------------------------------------------------------------------------------------------------------------------------------------------------------------------------------------------------------------------------------------------------------------------------------------------------------------------------------------------------------------------------------------------------------------------------------------------------------------------------------------------------------------------------------------------------------------------------------------------------------------------------------------------------------------------------------------------------------------------------------------------------------------------------------------------------------------------------------------------------------------------------------------------------+\n",
      "\n"
     ]
    }
   ],
   "source": [
    "result.select(\"aux\").show(truncate=False)"
   ]
  },
  {
   "cell_type": "code",
   "execution_count": null,
   "metadata": {
    "colab": {
     "base_uri": "https://localhost:8080/"
    },
    "executionInfo": {
     "elapsed": 1303,
     "status": "ok",
     "timestamp": 1637845798423,
     "user": {
      "displayName": "Ahmet Emin Tek",
      "photoUrl": "https://lh3.googleusercontent.com/a/default-user=s64",
      "userId": "14855809472179427810"
     },
     "user_tz": -180
    },
    "id": "rF1YR12bb7U3",
    "outputId": "3766aaf9-a374-464a-e96d-80e6a1ecea02"
   },
   "outputs": [
    {
     "name": "stdout",
     "output_type": "stream",
     "text": [
      "+-----------------------------+----------+--------+----------+----------+--------+\n",
      "|chunk                        |beginChunk|endChunk|label     |beginLabel|endLabel|\n",
      "+-----------------------------+----------+--------+----------+----------+--------+\n",
      "|2093-01-13                   |19        |28      |<DATE>    |17        |22      |\n",
      "|David Hale                   |32        |41      |<NAME>    |26        |31      |\n",
      "|Hendrickson , Ora            |60        |76      |<NAME>    |49        |54      |\n",
      "|7194334                      |85        |91      |<ID>      |62        |65      |\n",
      "|01/13/93                     |100       |107     |<DATE>    |74        |79      |\n",
      "|Oliveira                     |115       |122     |<NAME>    |87        |92      |\n",
      "|25                           |126       |127     |<AGE>     |96        |100     |\n",
      "|2079-11-09                   |155       |164     |<DATE>    |128       |133     |\n",
      "|Cocke County Baptist Hospital|168       |196     |<LOCATION>|136       |145     |\n",
      "|0295 Keats Street            |200       |216     |<LOCATION>|148       |157     |\n",
      "|(302) 786-5227               |225       |238     |<CONTACT> |165       |173     |\n",
      "+-----------------------------+----------+--------+----------+----------+--------+\n",
      "\n"
     ]
    }
   ],
   "source": [
    "result.select(F.explode(F.arrays_zip('aux.metadata', 'aux.result', 'aux.begin', 'aux.end')).alias(\"cols\")) \\\n",
    "      .select(F.expr(\"cols['0']['originalChunk']\").alias(\"chunk\"),\n",
    "              F.expr(\"cols['0']['beginOriginalChunk']\").alias(\"beginChunk\"),\n",
    "              F.expr(\"cols['0']['endOriginalChunk']\").alias(\"endChunk\"),\n",
    "              F.expr(\"cols['1']\").alias(\"label\"),\n",
    "              F.expr(\"cols['2']\").alias(\"beginLabel\"),\n",
    "              F.expr(\"cols['3']\").alias(\"endLabel\"),\n",
    "              ).show(truncate=False)"
   ]
  },
  {
   "cell_type": "markdown",
   "metadata": {
    "id": "Kz7YLxOlpJPQ"
   },
   "source": [
    "## Reidentification\n",
    "\n",
    "We can use `ReIdentification` annotator to go back to the original sentence."
   ]
  },
  {
   "cell_type": "code",
   "execution_count": null,
   "metadata": {
    "id": "7HMTqWaApIw3"
   },
   "outputs": [],
   "source": [
    "reIdentification = ReIdentification()\\\n",
    "     .setInputCols([\"aux\",\"deidentified\"])\\\n",
    "     .setOutputCol(\"original\")"
   ]
  },
  {
   "cell_type": "code",
   "execution_count": null,
   "metadata": {
    "id": "Etn6kW6hqJGx"
   },
   "outputs": [],
   "source": [
    "reid_result = reIdentification.transform(result)"
   ]
  },
  {
   "cell_type": "code",
   "execution_count": null,
   "metadata": {
    "colab": {
     "base_uri": "https://localhost:8080/"
    },
    "executionInfo": {
     "elapsed": 1310,
     "status": "ok",
     "timestamp": 1637845807642,
     "user": {
      "displayName": "Ahmet Emin Tek",
      "photoUrl": "https://lh3.googleusercontent.com/a/default-user=s64",
      "userId": "14855809472179427810"
     },
     "user_tz": -180
    },
    "id": "vGLfKOGGqSwy",
    "outputId": "42ad17f8-0925-4a71-a149-0d192ff35269"
   },
   "outputs": [
    {
     "name": "stdout",
     "output_type": "stream",
     "text": [
      "+--------------------+--------------------+--------------------+--------------------+--------------------+--------------------+--------------------+--------------------+--------------------+--------------------+\n",
      "|                text|            document|            sentence|               token|          embeddings|                 ner|           ner_chunk|        deidentified|                 aux|            original|\n",
      "+--------------------+--------------------+--------------------+--------------------+--------------------+--------------------+--------------------+--------------------+--------------------+--------------------+\n",
      "|\n",
      "A . Record date ...|[{document, 0, 24...|[{document, 1, 3,...|[{token, 1, 1, A,...|[{word_embeddings...|[{named_entity, 1...|[{chunk, 19, 28, ...|[{document, 0, 2,...|[{chunk, 17, 22, ...|[{document, 1, 3,...|\n",
      "+--------------------+--------------------+--------------------+--------------------+--------------------+--------------------+--------------------+--------------------+--------------------+--------------------+\n",
      "\n"
     ]
    }
   ],
   "source": [
    "reid_result.show()"
   ]
  },
  {
   "cell_type": "code",
   "execution_count": null,
   "metadata": {
    "colab": {
     "base_uri": "https://localhost:8080/"
    },
    "executionInfo": {
     "elapsed": 960,
     "status": "ok",
     "timestamp": 1637845813268,
     "user": {
      "displayName": "Ahmet Emin Tek",
      "photoUrl": "https://lh3.googleusercontent.com/a/default-user=s64",
      "userId": "14855809472179427810"
     },
     "user_tz": -180
    },
    "id": "cfhFb1aOcFgI",
    "outputId": "a41dc778-e7d7-4ac2-f9b6-11d206c821a3"
   },
   "outputs": [
    {
     "name": "stdout",
     "output_type": "stream",
     "text": [
      "\n",
      "A . Record date : 2093-01-13 , David Hale , M.D . , Name : Hendrickson , Ora MR . # 7194334 Date : 01/13/93 PCP : Oliveira , 25 years-old , Record date : 2079-11-09 . Cocke County Baptist Hospital . 0295 Keats Street. Phone (302) 786-5227.\n",
      "\n",
      "+-------------------------------------------------------------------------------------------------------------------------------------------------------------------------------------------------------------------------------------------------------+\n",
      "|result                                                                                                                                                                                                                                                 |\n",
      "+-------------------------------------------------------------------------------------------------------------------------------------------------------------------------------------------------------------------------------------------------------+\n",
      "|[A ., Record date : 2093-01-13 , David Hale , M.D ., , Name : Hendrickson , Ora MR ., # 7194334 Date : 01/13/93 PCP : Oliveira , 25 years-old , Record date : 2079-11-09 ., Cocke County Baptist Hospital ., 0295 Keats Street., Phone (302) 786-5227.]|\n",
      "+-------------------------------------------------------------------------------------------------------------------------------------------------------------------------------------------------------------------------------------------------------+\n",
      "\n"
     ]
    }
   ],
   "source": [
    "print(text)\n",
    "\n",
    "reid_result.select('original.result').show(truncate=False)"
   ]
  },
  {
   "cell_type": "markdown",
   "metadata": {
    "id": "OSKDCxV0NEJc"
   },
   "source": [
    "## Using multiple NER in the same pipeline"
   ]
  },
  {
   "cell_type": "code",
   "execution_count": null,
   "metadata": {
    "colab": {
     "base_uri": "https://localhost:8080/"
    },
    "executionInfo": {
     "elapsed": 12025,
     "status": "ok",
     "timestamp": 1637845833924,
     "user": {
      "displayName": "Ahmet Emin Tek",
      "photoUrl": "https://lh3.googleusercontent.com/a/default-user=s64",
      "userId": "14855809472179427810"
     },
     "user_tz": -180
    },
    "id": "7lF9lrIWNJMi",
    "outputId": "9642bbe3-c5c0-4f20-de83-78434f7646e2"
   },
   "outputs": [
    {
     "name": "stdout",
     "output_type": "stream",
     "text": [
      "embeddings_clinical download started this may take some time.\n",
      "Approximate size to download 1.6 GB\n",
      "[OK!]\n",
      "ner_deid_generic_augmented download started this may take some time.\n",
      "Approximate size to download 13.8 MB\n",
      "[OK!]\n",
      "ner_deid_subentity_augmented download started this may take some time.\n",
      "Approximate size to download 14.1 MB\n",
      "[OK!]\n"
     ]
    }
   ],
   "source": [
    "from sparknlp_jsl.annotator import *\n",
    "\n",
    "documentAssembler = DocumentAssembler()\\\n",
    "      .setInputCol(\"text\")\\\n",
    "      .setOutputCol(\"document\")\n",
    "\n",
    "sentenceDetector = SentenceDetector()\\\n",
    "      .setInputCols([\"document\"])\\\n",
    "      .setOutputCol(\"sentence\")\n",
    "\n",
    "tokenizer = Tokenizer()\\\n",
    "      .setInputCols([\"sentence\"])\\\n",
    "      .setOutputCol(\"token\")\n",
    "\n",
    "word_embeddings = WordEmbeddingsModel.pretrained(\"embeddings_clinical\", \"en\", \"clinical/models\")\\\n",
    "      .setInputCols([\"sentence\", \"token\"])\\\n",
    "      .setOutputCol(\"embeddings\")\n",
    "\n",
    "deid_ner = MedicalNerModel.pretrained(\"ner_deid_generic_augmented\", \"en\", \"clinical/models\") \\\n",
    "      .setInputCols([\"sentence\", \"token\", \"embeddings\"]) \\\n",
    "      .setOutputCol(\"ner_generic\")\n",
    "\n",
    "ner_converter = NerConverter()\\\n",
    "      .setInputCols([\"sentence\", \"token\", \"ner_generic\"])\\\n",
    "      .setOutputCol(\"ner_generic_chunk\")\\\n",
    "      .setWhiteList(['ID', 'DATE', 'AGE', 'NAME', 'PROFESSION'])# CONTACT and LOCATION is removed\n",
    "\n",
    "deid_ner_enriched = MedicalNerModel.pretrained(\"ner_deid_subentity_augmented\", \"en\", \"clinical/models\") \\\n",
    "      .setInputCols([\"sentence\", \"token\", \"embeddings\"]) \\\n",
    "      .setOutputCol(\"ner_subentity\")\n",
    "\n",
    "ner_converter_enriched = NerConverter() \\\n",
    "      .setInputCols([\"sentence\", \"token\", \"ner_subentity\"]) \\\n",
    "      .setOutputCol(\"ner_subentity_chunk\")\\\n",
    "      .setWhiteList(['COUNTRY', 'CITY', 'HOSPITAL', 'STATE', 'STREET', 'ZIP'])\n",
    "      # we can also add PATIENT and DOCTOR entities and remove NAME entity from the other NER model\n",
    "\n",
    "chunk_merge = ChunkMergeApproach()\\\n",
    "      .setInputCols(\"ner_subentity_chunk\",\"ner_generic_chunk\")\\\n",
    "      .setOutputCol(\"deid_merged_chunk\")\n",
    "\n",
    "deidentification = DeIdentification() \\\n",
    "      .setInputCols([\"sentence\", \"token\", \"deid_merged_chunk\"]) \\\n",
    "      .setOutputCol(\"deidentified\") \\\n",
    "      .setMode(\"mask\")\\\n",
    "      .setIgnoreRegex(True)\n",
    "\n",
    "\n",
    "nlpPipeline = Pipeline(stages=[\n",
    "      documentAssembler, \n",
    "      sentenceDetector,\n",
    "      tokenizer,\n",
    "      word_embeddings,\n",
    "      deid_ner,\n",
    "      ner_converter,\n",
    "      deid_ner_enriched,\n",
    "      ner_converter_enriched,\n",
    "      chunk_merge,\n",
    "      deidentification])\n",
    "\n",
    "empty_data = spark.createDataFrame([[\"\"]]).toDF(\"text\")\n",
    "\n",
    "model = nlpPipeline.fit(empty_data)"
   ]
  },
  {
   "cell_type": "code",
   "execution_count": null,
   "metadata": {
    "id": "b2rR2tTgP5N5"
   },
   "outputs": [],
   "source": [
    "text ='''\n",
    "A . Record date : 2093-01-13 , David Hale , M.D . , Name : Hendrickson , Ora MR . # 719435 Date : 01/13/93 PCP : Oliveira , 25 years-old , Record date : 2079-11-09 . Cocke County Baptist Hospital . 0295 Keats Street. Phone 302-786-5227.\n",
    "'''"
   ]
  },
  {
   "cell_type": "code",
   "execution_count": null,
   "metadata": {
    "colab": {
     "base_uri": "https://localhost:8080/"
    },
    "executionInfo": {
     "elapsed": 2729,
     "status": "ok",
     "timestamp": 1637845851844,
     "user": {
      "displayName": "Ahmet Emin Tek",
      "photoUrl": "https://lh3.googleusercontent.com/a/default-user=s64",
      "userId": "14855809472179427810"
     },
     "user_tz": -180
    },
    "id": "ByIjftyJd8iP",
    "outputId": "38b0b0f8-c236-4da9-87c4-9cc97a8c67e7"
   },
   "outputs": [
    {
     "name": "stdout",
     "output_type": "stream",
     "text": [
      "+-----------------+---------+\n",
      "|chunk            |ner_label|\n",
      "+-----------------+---------+\n",
      "|2093-01-13       |DATE     |\n",
      "|David Hale       |NAME     |\n",
      "|Hendrickson , Ora|NAME     |\n",
      "|719435           |ID       |\n",
      "|01/13/93         |DATE     |\n",
      "|Oliveira         |NAME     |\n",
      "|25               |AGE      |\n",
      "|2079-11-09       |DATE     |\n",
      "+-----------------+---------+\n",
      "\n"
     ]
    }
   ],
   "source": [
    "result = model.transform(spark.createDataFrame([[text]]).toDF(\"text\"))\n",
    "\n",
    "# ner_deid_generic_augmented\n",
    "result.select(F.explode(F.arrays_zip('ner_generic_chunk.result', 'ner_generic_chunk.metadata')).alias(\"cols\")) \\\n",
    "      .select(F.expr(\"cols['0']\").alias(\"chunk\"),\n",
    "              F.expr(\"cols['1']['entity']\").alias(\"ner_label\")).show(truncate=False)"
   ]
  },
  {
   "cell_type": "code",
   "execution_count": null,
   "metadata": {
    "colab": {
     "base_uri": "https://localhost:8080/"
    },
    "executionInfo": {
     "elapsed": 1333,
     "status": "ok",
     "timestamp": 1637845855721,
     "user": {
      "displayName": "Ahmet Emin Tek",
      "photoUrl": "https://lh3.googleusercontent.com/a/default-user=s64",
      "userId": "14855809472179427810"
     },
     "user_tz": -180
    },
    "id": "aKn2yotweUTS",
    "outputId": "c1abf651-82f4-4f74-d857-adbde09d3f6b"
   },
   "outputs": [
    {
     "name": "stdout",
     "output_type": "stream",
     "text": [
      "+-----------------------------+---------+\n",
      "|chunk                        |ner_label|\n",
      "+-----------------------------+---------+\n",
      "|Cocke County Baptist Hospital|HOSPITAL |\n",
      "|0295 Keats Street.           |STREET   |\n",
      "+-----------------------------+---------+\n",
      "\n"
     ]
    }
   ],
   "source": [
    "# ner_deid_subentity_augmented\n",
    "result.select(F.explode(F.arrays_zip('ner_subentity_chunk.result', 'ner_subentity_chunk.metadata')).alias(\"cols\")) \\\n",
    "      .select(F.expr(\"cols['0']\").alias(\"chunk\"),\n",
    "              F.expr(\"cols['1']['entity']\").alias(\"ner_label\")).show(truncate=False)"
   ]
  },
  {
   "cell_type": "code",
   "execution_count": null,
   "metadata": {
    "colab": {
     "base_uri": "https://localhost:8080/"
    },
    "executionInfo": {
     "elapsed": 1503,
     "status": "ok",
     "timestamp": 1637845865450,
     "user": {
      "displayName": "Ahmet Emin Tek",
      "photoUrl": "https://lh3.googleusercontent.com/a/default-user=s64",
      "userId": "14855809472179427810"
     },
     "user_tz": -180
    },
    "id": "ILAeyE39rudh",
    "outputId": "e1320ada-02c0-4bbc-a62a-670c8e6ffd0e"
   },
   "outputs": [
    {
     "name": "stdout",
     "output_type": "stream",
     "text": [
      "+-----------------------------+---------+\n",
      "|chunk                        |ner_label|\n",
      "+-----------------------------+---------+\n",
      "|2093-01-13                   |DATE     |\n",
      "|David Hale                   |NAME     |\n",
      "|Hendrickson , Ora            |NAME     |\n",
      "|719435                       |ID       |\n",
      "|01/13/93                     |DATE     |\n",
      "|Oliveira                     |NAME     |\n",
      "|25                           |AGE      |\n",
      "|2079-11-09                   |DATE     |\n",
      "|Cocke County Baptist Hospital|HOSPITAL |\n",
      "|0295 Keats Street.           |STREET   |\n",
      "+-----------------------------+---------+\n",
      "\n"
     ]
    }
   ],
   "source": [
    "# merged chunk\n",
    "result.select(F.explode(F.arrays_zip('deid_merged_chunk.result', 'deid_merged_chunk.metadata')).alias(\"cols\")) \\\n",
    "      .select(F.expr(\"cols['0']\").alias(\"chunk\"),\n",
    "              F.expr(\"cols['1']['entity']\").alias(\"ner_label\")).show(truncate=False)"
   ]
  },
  {
   "cell_type": "code",
   "execution_count": null,
   "metadata": {
    "colab": {
     "base_uri": "https://localhost:8080/",
     "height": 283
    },
    "executionInfo": {
     "elapsed": 1388,
     "status": "ok",
     "timestamp": 1637845873772,
     "user": {
      "displayName": "Ahmet Emin Tek",
      "photoUrl": "https://lh3.googleusercontent.com/a/default-user=s64",
      "userId": "14855809472179427810"
     },
     "user_tz": -180
    },
    "id": "6dheTxaJeYg9",
    "outputId": "757bcc62-6eb0-4912-9e83-11ee0dd5799a"
   },
   "outputs": [
    {
     "data": {
      "text/html": [
       "<div>\n",
       "<style scoped>\n",
       "    .dataframe tbody tr th:only-of-type {\n",
       "        vertical-align: middle;\n",
       "    }\n",
       "\n",
       "    .dataframe tbody tr th {\n",
       "        vertical-align: top;\n",
       "    }\n",
       "\n",
       "    .dataframe thead th {\n",
       "        text-align: right;\n",
       "    }\n",
       "</style>\n",
       "<table border=\"1\" class=\"dataframe\">\n",
       "  <thead>\n",
       "    <tr style=\"text-align: right;\">\n",
       "      <th></th>\n",
       "      <th>sentence</th>\n",
       "      <th>deidentified</th>\n",
       "    </tr>\n",
       "  </thead>\n",
       "  <tbody>\n",
       "    <tr>\n",
       "      <th>0</th>\n",
       "      <td>A .</td>\n",
       "      <td>A .</td>\n",
       "    </tr>\n",
       "    <tr>\n",
       "      <th>1</th>\n",
       "      <td>Record date : 2093-01-13 , David Hale , M.D .</td>\n",
       "      <td>Record date : &lt;DATE&gt; , &lt;NAME&gt; , M.D .</td>\n",
       "    </tr>\n",
       "    <tr>\n",
       "      <th>2</th>\n",
       "      <td>, Name : Hendrickson , Ora MR .</td>\n",
       "      <td>, Name : &lt;NAME&gt; MR .</td>\n",
       "    </tr>\n",
       "    <tr>\n",
       "      <th>3</th>\n",
       "      <td># 719435 Date : 01/13/93 PCP : Oliveira , 25 years-old , Record date : 2079-11-09 .</td>\n",
       "      <td># &lt;ID&gt; Date : &lt;DATE&gt; PCP : &lt;NAME&gt; , &lt;AGE&gt; years-old , Record date : &lt;DATE&gt; .</td>\n",
       "    </tr>\n",
       "    <tr>\n",
       "      <th>4</th>\n",
       "      <td>Cocke County Baptist Hospital .</td>\n",
       "      <td>&lt;HOSPITAL&gt; .</td>\n",
       "    </tr>\n",
       "    <tr>\n",
       "      <th>5</th>\n",
       "      <td>0295 Keats Street.</td>\n",
       "      <td>&lt;STREET&gt;</td>\n",
       "    </tr>\n",
       "    <tr>\n",
       "      <th>6</th>\n",
       "      <td>Phone 302-786-5227.</td>\n",
       "      <td>Phone 302-786-5227.</td>\n",
       "    </tr>\n",
       "  </tbody>\n",
       "</table>\n",
       "</div>"
      ],
      "text/plain": [
       "                                                                              sentence                                                                  deidentified\n",
       "0                                                                                  A .                                                                           A .\n",
       "1                                        Record date : 2093-01-13 , David Hale , M.D .                                         Record date : <DATE> , <NAME> , M.D .\n",
       "2                                                      , Name : Hendrickson , Ora MR .                                                          , Name : <NAME> MR .\n",
       "3  # 719435 Date : 01/13/93 PCP : Oliveira , 25 years-old , Record date : 2079-11-09 .  # <ID> Date : <DATE> PCP : <NAME> , <AGE> years-old , Record date : <DATE> .\n",
       "4                                                      Cocke County Baptist Hospital .                                                                  <HOSPITAL> .\n",
       "5                                                                   0295 Keats Street.                                                                      <STREET>\n",
       "6                                                                  Phone 302-786-5227.                                                           Phone 302-786-5227."
      ]
     },
     "execution_count": 68,
     "metadata": {},
     "output_type": "execute_result"
    }
   ],
   "source": [
    "result.select(F.explode(F.arrays_zip('sentence.result', 'deidentified.result')).alias(\"cols\")) \\\n",
    "      .select(F.expr(\"cols['0']\").alias(\"sentence\"), F.expr(\"cols['1']\").alias(\"deidentified\")).toPandas()"
   ]
  },
  {
   "cell_type": "markdown",
   "metadata": {
    "id": "1MvCZkTyN0rQ"
   },
   "source": [
    "### Enriching with Regex and Override NER\n",
    "\n",
    "\n"
   ]
  },
  {
   "cell_type": "code",
   "execution_count": null,
   "metadata": {
    "id": "v3ws_gQRQ5FS"
   },
   "outputs": [],
   "source": [
    "deidentification = DeIdentification()\\\n",
    "    .setInputCols([\"sentence\", \"token\", \"deid_merged_chunk\"])\\\n",
    "    .setOutputCol(\"deidentified\")\\\n",
    "    .setMode(\"mask\") \\\n",
    "    .setRegexOverride(True)\n",
    "\n",
    "pipeline = Pipeline(stages=[\n",
    "    nlpPipeline, \n",
    "    deidentification\n",
    "])\n",
    "\n",
    "model_default_rgx = pipeline.fit(empty_data)"
   ]
  },
  {
   "cell_type": "code",
   "execution_count": null,
   "metadata": {
    "colab": {
     "base_uri": "https://localhost:8080/",
     "height": 283
    },
    "executionInfo": {
     "elapsed": 1639,
     "status": "ok",
     "timestamp": 1637845890634,
     "user": {
      "displayName": "Ahmet Emin Tek",
      "photoUrl": "https://lh3.googleusercontent.com/a/default-user=s64",
      "userId": "14855809472179427810"
     },
     "user_tz": -180
    },
    "id": "tTKB14F7hX6a",
    "outputId": "ff1a9bc8-c0d6-4db1-90a6-00b464830a9f"
   },
   "outputs": [
    {
     "data": {
      "text/html": [
       "<div>\n",
       "<style scoped>\n",
       "    .dataframe tbody tr th:only-of-type {\n",
       "        vertical-align: middle;\n",
       "    }\n",
       "\n",
       "    .dataframe tbody tr th {\n",
       "        vertical-align: top;\n",
       "    }\n",
       "\n",
       "    .dataframe thead th {\n",
       "        text-align: right;\n",
       "    }\n",
       "</style>\n",
       "<table border=\"1\" class=\"dataframe\">\n",
       "  <thead>\n",
       "    <tr style=\"text-align: right;\">\n",
       "      <th></th>\n",
       "      <th>sentence</th>\n",
       "      <th>deidentified</th>\n",
       "    </tr>\n",
       "  </thead>\n",
       "  <tbody>\n",
       "    <tr>\n",
       "      <th>0</th>\n",
       "      <td>A .</td>\n",
       "      <td>A .</td>\n",
       "    </tr>\n",
       "    <tr>\n",
       "      <th>1</th>\n",
       "      <td>Record date : 2093-01-13 , David Hale , M.D .</td>\n",
       "      <td>Record date : &lt;DATE&gt; , &lt;NAME&gt; , M.D .</td>\n",
       "    </tr>\n",
       "    <tr>\n",
       "      <th>2</th>\n",
       "      <td>, Name : Hendrickson , Ora MR .</td>\n",
       "      <td>, Name : &lt;NAME&gt; MR .</td>\n",
       "    </tr>\n",
       "    <tr>\n",
       "      <th>3</th>\n",
       "      <td># 719435 Date : 01/13/93 PCP : Oliveira , 25 years-old , Record date : 2079-11-09 .</td>\n",
       "      <td># &lt;ID&gt; Date : &lt;DATE&gt; PCP : &lt;NAME&gt; , &lt;AGE&gt; years-old , Record date : &lt;DATE&gt; .</td>\n",
       "    </tr>\n",
       "    <tr>\n",
       "      <th>4</th>\n",
       "      <td>Cocke County Baptist Hospital .</td>\n",
       "      <td>&lt;HOSPITAL&gt; .</td>\n",
       "    </tr>\n",
       "    <tr>\n",
       "      <th>5</th>\n",
       "      <td>0295 Keats Street.</td>\n",
       "      <td>&lt;STREET&gt;</td>\n",
       "    </tr>\n",
       "    <tr>\n",
       "      <th>6</th>\n",
       "      <td>Phone 302-786-5227.</td>\n",
       "      <td>Phone &lt;PHONE&gt;.</td>\n",
       "    </tr>\n",
       "  </tbody>\n",
       "</table>\n",
       "</div>"
      ],
      "text/plain": [
       "                                                                              sentence                                                                  deidentified\n",
       "0                                                                                  A .                                                                           A .\n",
       "1                                        Record date : 2093-01-13 , David Hale , M.D .                                         Record date : <DATE> , <NAME> , M.D .\n",
       "2                                                      , Name : Hendrickson , Ora MR .                                                          , Name : <NAME> MR .\n",
       "3  # 719435 Date : 01/13/93 PCP : Oliveira , 25 years-old , Record date : 2079-11-09 .  # <ID> Date : <DATE> PCP : <NAME> , <AGE> years-old , Record date : <DATE> .\n",
       "4                                                      Cocke County Baptist Hospital .                                                                  <HOSPITAL> .\n",
       "5                                                                   0295 Keats Street.                                                                      <STREET>\n",
       "6                                                                  Phone 302-786-5227.                                                                Phone <PHONE>."
      ]
     },
     "execution_count": 70,
     "metadata": {},
     "output_type": "execute_result"
    }
   ],
   "source": [
    "result = model_default_rgx.transform(spark.createDataFrame([[text]]).toDF(\"text\"))\n",
    "\n",
    "result.select(F.explode(F.arrays_zip('sentence.result', 'deidentified.result')).alias(\"cols\")) \\\n",
    ".select(F.expr(\"cols['0']\").alias(\"sentence\"), F.expr(\"cols['1']\").alias(\"deidentified\")).toPandas()"
   ]
  },
  {
   "cell_type": "code",
   "execution_count": null,
   "metadata": {
    "colab": {
     "base_uri": "https://localhost:8080/"
    },
    "executionInfo": {
     "elapsed": 218,
     "status": "ok",
     "timestamp": 1637845897248,
     "user": {
      "displayName": "Ahmet Emin Tek",
      "photoUrl": "https://lh3.googleusercontent.com/a/default-user=s64",
      "userId": "14855809472179427810"
     },
     "user_tz": -180
    },
    "id": "CK0s144yN7Tp",
    "outputId": "b252891e-7f61-4bdf-828b-77fdb4f88ad0"
   },
   "outputs": [
    {
     "name": "stdout",
     "output_type": "stream",
     "text": [
      "NUMBER ([0-9]{2})\n",
      "NUMBER (\\d{7})\n"
     ]
    }
   ],
   "source": [
    "rgx = '''NUMBER ([0-9]{2})\n",
    "NUMBER (\\d{7})''' \n",
    "\n",
    "with open(\"./custom_regex.txt\", \"w\") as f:\n",
    "  f.write(rgx)\n",
    "\n",
    "f = open(\"./custom_regex.txt\", \"r\")\n",
    "\n",
    "print(f.read())"
   ]
  },
  {
   "cell_type": "markdown",
   "metadata": {
    "id": "Z771fExYOgiW"
   },
   "source": [
    "We see that two entities  have conflict between the regex and the NER. NER has the priroty as a default. We can change this `setRegexOverride` param "
   ]
  },
  {
   "cell_type": "code",
   "execution_count": null,
   "metadata": {
    "id": "J8fl19b2OY1-"
   },
   "outputs": [],
   "source": [
    "deidentification_rgx = DeIdentification()\\\n",
    "    .setInputCols([\"sentence\", \"token\", \"deid_merged_chunk\"])\\\n",
    "    .setOutputCol(\"deidentified\")\\\n",
    "    .setMode(\"mask\") \\\n",
    "    .setRegexPatternsDictionary(\"./custom_regex.txt\")\\\n",
    "    .setRegexOverride(True)\n",
    "\n",
    "\n",
    "nlpPipeline_rgx = Pipeline(stages=[\n",
    "    documentAssembler, \n",
    "    sentenceDetector,\n",
    "    tokenizer,\n",
    "    word_embeddings,\n",
    "    deid_ner,\n",
    "    ner_converter,\n",
    "    deid_ner_enriched,\n",
    "    ner_converter_enriched,\n",
    "    chunk_merge,\n",
    "    deidentification_rgx])\n",
    "\n",
    "empty_data = spark.createDataFrame([[\"\"]]).toDF(\"text\")\n",
    "\n",
    "model_rgx = nlpPipeline_rgx.fit(empty_data)"
   ]
  },
  {
   "cell_type": "code",
   "execution_count": null,
   "metadata": {
    "colab": {
     "base_uri": "https://localhost:8080/",
     "height": 252
    },
    "executionInfo": {
     "elapsed": 1539,
     "status": "ok",
     "timestamp": 1637845922577,
     "user": {
      "displayName": "Ahmet Emin Tek",
      "photoUrl": "https://lh3.googleusercontent.com/a/default-user=s64",
      "userId": "14855809472179427810"
     },
     "user_tz": -180
    },
    "id": "tifAsxnFiiWg",
    "outputId": "b68aa8af-2a14-4b5c-84f4-23908f42f680"
   },
   "outputs": [
    {
     "data": {
      "text/html": [
       "<div>\n",
       "<style scoped>\n",
       "    .dataframe tbody tr th:only-of-type {\n",
       "        vertical-align: middle;\n",
       "    }\n",
       "\n",
       "    .dataframe tbody tr th {\n",
       "        vertical-align: top;\n",
       "    }\n",
       "\n",
       "    .dataframe thead th {\n",
       "        text-align: right;\n",
       "    }\n",
       "</style>\n",
       "<table border=\"1\" class=\"dataframe\">\n",
       "  <thead>\n",
       "    <tr style=\"text-align: right;\">\n",
       "      <th></th>\n",
       "      <th>sentence</th>\n",
       "      <th>deidentified</th>\n",
       "    </tr>\n",
       "  </thead>\n",
       "  <tbody>\n",
       "    <tr>\n",
       "      <th>0</th>\n",
       "      <td>A .</td>\n",
       "      <td>A .</td>\n",
       "    </tr>\n",
       "    <tr>\n",
       "      <th>1</th>\n",
       "      <td>Record date : 2093-01-13 , David Hale , M.D .</td>\n",
       "      <td>Record date : &lt;DATE&gt; , &lt;NAME&gt; , M.D .</td>\n",
       "    </tr>\n",
       "    <tr>\n",
       "      <th>2</th>\n",
       "      <td>, Name : Hendrickson , Ora MR .</td>\n",
       "      <td>, Name : &lt;NAME&gt; MR .</td>\n",
       "    </tr>\n",
       "    <tr>\n",
       "      <th>3</th>\n",
       "      <td># 7194334 Date : 01/13/93 PCP : Oliveira , 25 years-old , Record date : 2079-11-09 .</td>\n",
       "      <td># &lt;NUMBER&gt; Date : &lt;DATE&gt; PCP : &lt;NAME&gt; , &lt;NUMBER&gt; years-old , Record date : &lt;DATE&gt; .</td>\n",
       "    </tr>\n",
       "    <tr>\n",
       "      <th>4</th>\n",
       "      <td>Cocke County Baptist Hospital .</td>\n",
       "      <td>&lt;HOSPITAL&gt; .</td>\n",
       "    </tr>\n",
       "    <tr>\n",
       "      <th>5</th>\n",
       "      <td>0295 Keats Street.</td>\n",
       "      <td>&lt;STREET&gt;</td>\n",
       "    </tr>\n",
       "  </tbody>\n",
       "</table>\n",
       "</div>"
      ],
      "text/plain": [
       "                                                                               sentence                                                                         deidentified\n",
       "0                                                                                   A .                                                                                  A .\n",
       "1                                         Record date : 2093-01-13 , David Hale , M.D .                                                Record date : <DATE> , <NAME> , M.D .\n",
       "2                                                       , Name : Hendrickson , Ora MR .                                                                 , Name : <NAME> MR .\n",
       "3  # 7194334 Date : 01/13/93 PCP : Oliveira , 25 years-old , Record date : 2079-11-09 .  # <NUMBER> Date : <DATE> PCP : <NAME> , <NUMBER> years-old , Record date : <DATE> .\n",
       "4                                                       Cocke County Baptist Hospital .                                                                         <HOSPITAL> .\n",
       "5                                                                    0295 Keats Street.                                                                             <STREET>"
      ]
     },
     "execution_count": 73,
     "metadata": {},
     "output_type": "execute_result"
    }
   ],
   "source": [
    "text ='''A . Record date : 2093-01-13 , David Hale , M.D . , Name : Hendrickson , Ora MR . # 7194334 Date : 01/13/93 PCP : Oliveira , 25 years-old , Record date : 2079-11-09 . Cocke County Baptist Hospital . 0295 Keats Street.'''\n",
    "\n",
    "result = model_rgx.transform(spark.createDataFrame([[text]]).toDF(\"text\"))\n",
    "result.select(F.explode(F.arrays_zip('sentence.result', 'deidentified.result')).alias(\"cols\")) \\\n",
    "      .select(F.expr(\"cols['0']\").alias(\"sentence\"), F.expr(\"cols['1']\").alias(\"deidentified\")).toPandas()"
   ]
  },
  {
   "cell_type": "markdown",
   "metadata": {
    "id": "HJokGuGxf89k"
   },
   "source": [
    "## Obfuscation mode"
   ]
  },
  {
   "cell_type": "markdown",
   "metadata": {
    "id": "KG0Bvua7f89l"
   },
   "source": [
    "In the obfuscation mode **DeIdentificationModel** will replace sensetive entities with random values of the same type. \n"
   ]
  },
  {
   "cell_type": "code",
   "execution_count": null,
   "metadata": {
    "id": "TOYTW3ryTVOI"
   },
   "outputs": [],
   "source": [
    "obs_lines = \"\"\"Marvin MARSHALL#PATIENT\n",
    "Hubert GROGAN#PATIENT\n",
    "ALTHEA COLBURN#PATIENT\n",
    "Kalil AMIN#PATIENT\n",
    "Inci FOUNTAIN#PATIENT\n",
    "Ekaterina Rosa#DOCTOR\n",
    "Rudiger Chao#DOCTOR\n",
    "COLLETTE KOHLER#DOCTOR\n",
    "Mufi HIGGS#DOCTOR\"\"\"\n",
    "\n",
    "\n",
    "with open ('obfuscation.txt', 'w') as f:\n",
    "  f.write(obs_lines)"
   ]
  },
  {
   "cell_type": "code",
   "execution_count": null,
   "metadata": {
    "colab": {
     "base_uri": "https://localhost:8080/"
    },
    "executionInfo": {
     "elapsed": 3545,
     "status": "ok",
     "timestamp": 1637846025922,
     "user": {
      "displayName": "Ahmet Emin Tek",
      "photoUrl": "https://lh3.googleusercontent.com/a/default-user=s64",
      "userId": "14855809472179427810"
     },
     "user_tz": -180
    },
    "id": "s6OKIrTUSz0O",
    "outputId": "b434cef2-acc2-4500-d68d-184713ed6ff6"
   },
   "outputs": [
    {
     "name": "stdout",
     "output_type": "stream",
     "text": [
      "ner_deid_subentity_augmented download started this may take some time.\n",
      "Approximate size to download 14.1 MB\n",
      "[OK!]\n"
     ]
    }
   ],
   "source": [
    "deid_ner = MedicalNerModel.pretrained(\"ner_deid_subentity_augmented\", \"en\", \"clinical/models\") \\\n",
    "      .setInputCols([\"sentence\", \"token\", \"embeddings\"]) \\\n",
    "      .setOutputCol(\"ner\")\n",
    "\n",
    "ner_converter = NerConverterInternal()\\\n",
    "      .setInputCols([\"sentence\", \"token\", \"ner\"])\\\n",
    "      .setOutputCol(\"ner_chunk\")\n",
    "\n",
    "obfuscation = DeIdentification()\\\n",
    "      .setInputCols([\"sentence\", \"token\", \"ner_chunk\"]) \\\n",
    "      .setOutputCol(\"deidentified\") \\\n",
    "      .setMode(\"obfuscate\")\\\n",
    "      .setObfuscateDate(True)\\\n",
    "      .setObfuscateRefFile('obfuscation.txt')\\\n",
    "      #.setObfuscateRefSource(\"both\") #default: \"faker\"\n",
    "\n",
    "pipeline = Pipeline(stages=[\n",
    "      documentAssembler, \n",
    "      sentenceDetector,\n",
    "      tokenizer,\n",
    "      word_embeddings,\n",
    "      deid_ner,\n",
    "      ner_converter,\n",
    "      obfuscation\n",
    "])\n",
    "\n",
    "obfuscation_model = pipeline.fit(empty_data)"
   ]
  },
  {
   "cell_type": "code",
   "execution_count": null,
   "metadata": {
    "colab": {
     "base_uri": "https://localhost:8080/",
     "height": 235
    },
    "executionInfo": {
     "elapsed": 6767,
     "status": "ok",
     "timestamp": 1637846142129,
     "user": {
      "displayName": "Ahmet Emin Tek",
      "photoUrl": "https://lh3.googleusercontent.com/a/default-user=s64",
      "userId": "14855809472179427810"
     },
     "user_tz": -180
    },
    "id": "7nbKj0MbivrC",
    "outputId": "7b65d028-d376-4143-b729-0130fe79aea3"
   },
   "outputs": [
    {
     "data": {
      "text/html": [
       "<div>\n",
       "<style scoped>\n",
       "    .dataframe tbody tr th:only-of-type {\n",
       "        vertical-align: middle;\n",
       "    }\n",
       "\n",
       "    .dataframe tbody tr th {\n",
       "        vertical-align: top;\n",
       "    }\n",
       "\n",
       "    .dataframe thead th {\n",
       "        text-align: right;\n",
       "    }\n",
       "</style>\n",
       "<table border=\"1\" class=\"dataframe\">\n",
       "  <thead>\n",
       "    <tr style=\"text-align: right;\">\n",
       "      <th></th>\n",
       "      <th>sentence</th>\n",
       "      <th>deidentified</th>\n",
       "    </tr>\n",
       "  </thead>\n",
       "  <tbody>\n",
       "    <tr>\n",
       "      <th>0</th>\n",
       "      <td>A .</td>\n",
       "      <td>A .</td>\n",
       "    </tr>\n",
       "    <tr>\n",
       "      <th>1</th>\n",
       "      <td>Record date : 2093-01-13 , David Hale , M.D .</td>\n",
       "      <td>Record date : 2093-03-01 , Dr Jarvis Belt , M.D .</td>\n",
       "    </tr>\n",
       "    <tr>\n",
       "      <th>2</th>\n",
       "      <td>, Name : Hendrickson , Ora MR # 7194334 Date : 01/13/93 .</td>\n",
       "      <td>, Name : Normand Barges MR # U4119458 Date : 02-07-2008 .</td>\n",
       "    </tr>\n",
       "    <tr>\n",
       "      <th>3</th>\n",
       "      <td>Patient : Oliveira, 25 years-old , Record date : 2079-11-09 .</td>\n",
       "      <td>Patient : Kelsie Dick, 2 years-old , Record date : 2079-12-18 .</td>\n",
       "    </tr>\n",
       "    <tr>\n",
       "      <th>4</th>\n",
       "      <td>Cocke County Baptist Hospital .</td>\n",
       "      <td>EASTSIDE MEDICAL CENTER .</td>\n",
       "    </tr>\n",
       "    <tr>\n",
       "      <th>5</th>\n",
       "      <td>0295 Keats Street</td>\n",
       "      <td>Savannah</td>\n",
       "    </tr>\n",
       "  </tbody>\n",
       "</table>\n",
       "</div>"
      ],
      "text/plain": [
       "                                                        sentence                                                     deidentified\n",
       "0                                                            A .                                                              A .\n",
       "1                  Record date : 2093-01-13 , David Hale , M.D .                Record date : 2093-03-01 , Dr Jarvis Belt , M.D .\n",
       "2      , Name : Hendrickson , Ora MR # 7194334 Date : 01/13/93 .        , Name : Normand Barges MR # U4119458 Date : 02-07-2008 .\n",
       "3  Patient : Oliveira, 25 years-old , Record date : 2079-11-09 .  Patient : Kelsie Dick, 2 years-old , Record date : 2079-12-18 .\n",
       "4                                Cocke County Baptist Hospital .                                        EASTSIDE MEDICAL CENTER .\n",
       "5                                              0295 Keats Street                                                         Savannah"
      ]
     },
     "execution_count": 77,
     "metadata": {},
     "output_type": "execute_result"
    }
   ],
   "source": [
    "text ='''\n",
    "A . Record date : 2093-01-13 , David Hale , M.D . , Name : Hendrickson , Ora MR # 7194334 Date : 01/13/93 . Patient : Oliveira, 25 years-old , Record date : 2079-11-09 . Cocke County Baptist Hospital . 0295 Keats Street\n",
    "'''\n",
    "\n",
    "result = obfuscation_model.transform(spark.createDataFrame([[text]]).toDF(\"text\"))\n",
    "\n",
    "result.select(F.explode(F.arrays_zip('sentence.result', 'deidentified.result')).alias(\"cols\")) \\\n",
    "      .select(F.expr(\"cols['0']\").alias(\"sentence\"), F.expr(\"cols['1']\").alias(\"deidentified\")).toPandas()"
   ]
  },
  {
   "cell_type": "code",
   "execution_count": null,
   "metadata": {
    "colab": {
     "base_uri": "https://localhost:8080/"
    },
    "id": "lkQ4ojPftJh0",
    "outputId": "7330ae07-b56c-414b-82ae-e66ac031de82"
   },
   "outputs": [
    {
     "data": {
      "text/plain": [
       "[Row(ner_chunk=[Row(annotatorType='chunk', begin=19, end=28, result='2093-01-13', metadata={'sentence': '1', 'chunk': '0', 'ner_source': 'ner_chunk', 'entity': 'DATE', 'confidence': '1.0'}, embeddings=[]), Row(annotatorType='chunk', begin=32, end=41, result='David Hale', metadata={'sentence': '1', 'chunk': '1', 'ner_source': 'ner_chunk', 'entity': 'NAME', 'confidence': '0.99665'}, embeddings=[]), Row(annotatorType='chunk', begin=60, end=76, result='Hendrickson , Ora', metadata={'sentence': '2', 'chunk': '2', 'ner_source': 'ner_chunk', 'entity': 'NAME', 'confidence': '0.8545'}, embeddings=[]), Row(annotatorType='chunk', begin=83, end=89, result='7194334', metadata={'sentence': '2', 'chunk': '3', 'ner_source': 'ner_chunk', 'entity': 'ID', 'confidence': '1.0'}, embeddings=[]), Row(annotatorType='chunk', begin=98, end=105, result='01/13/93', metadata={'sentence': '2', 'chunk': '4', 'ner_source': 'ner_chunk', 'entity': 'DATE', 'confidence': '1.0'}, embeddings=[]), Row(annotatorType='chunk', begin=119, end=126, result='Oliveira', metadata={'sentence': '3', 'chunk': '5', 'ner_source': 'ner_chunk', 'entity': 'NAME', 'confidence': '0.9999'}, embeddings=[]), Row(annotatorType='chunk', begin=129, end=130, result='25', metadata={'sentence': '3', 'chunk': '6', 'ner_source': 'ner_chunk', 'entity': 'AGE', 'confidence': '0.6693'}, embeddings=[]), Row(annotatorType='chunk', begin=158, end=167, result='2079-11-09', metadata={'sentence': '3', 'chunk': '7', 'ner_source': 'ner_chunk', 'entity': 'DATE', 'confidence': '1.0'}, embeddings=[]), Row(annotatorType='chunk', begin=171, end=199, result='Cocke County Baptist Hospital', metadata={'sentence': '4', 'chunk': '8', 'ner_source': 'ner_chunk', 'entity': 'LOCATION', 'confidence': '0.93737495'}, embeddings=[]), Row(annotatorType='chunk', begin=203, end=219, result='0295 Keats Street', metadata={'sentence': '5', 'chunk': '9', 'ner_source': 'ner_chunk', 'entity': 'LOCATION', 'confidence': '0.9928'}, embeddings=[])])]"
      ]
     },
     "execution_count": 128,
     "metadata": {},
     "output_type": "execute_result"
    }
   ],
   "source": [
    "result.select(\"ner_chunk\").collect()"
   ]
  },
  {
   "cell_type": "code",
   "execution_count": null,
   "metadata": {
    "colab": {
     "base_uri": "https://localhost:8080/",
     "height": 232
    },
    "id": "bv42DZOxi-lP",
    "outputId": "f1301c05-7c41-4d80-cc9e-790f50f0a5b3"
   },
   "outputs": [
    {
     "data": {
      "text/html": [
       "<div>\n",
       "<style scoped>\n",
       "    .dataframe tbody tr th:only-of-type {\n",
       "        vertical-align: middle;\n",
       "    }\n",
       "\n",
       "    .dataframe tbody tr th {\n",
       "        vertical-align: top;\n",
       "    }\n",
       "\n",
       "    .dataframe thead th {\n",
       "        text-align: right;\n",
       "    }\n",
       "</style>\n",
       "<table border=\"1\" class=\"dataframe\">\n",
       "  <thead>\n",
       "    <tr style=\"text-align: right;\">\n",
       "      <th></th>\n",
       "      <th>sentence</th>\n",
       "      <th>deidentified</th>\n",
       "    </tr>\n",
       "  </thead>\n",
       "  <tbody>\n",
       "    <tr>\n",
       "      <th>0</th>\n",
       "      <td>A .</td>\n",
       "      <td>A .</td>\n",
       "    </tr>\n",
       "    <tr>\n",
       "      <th>1</th>\n",
       "      <td>Record date : 2093-01-13 , David Hale , M.D .</td>\n",
       "      <td>Record date : 2093-01-23 , Ekaterina Rosa , M.D .</td>\n",
       "    </tr>\n",
       "    <tr>\n",
       "      <th>2</th>\n",
       "      <td>, Name : Hendrickson , Ora MR # 7194334 Date : 01/13/93 .</td>\n",
       "      <td>, Name : ALTHEA COLBURN MR # &lt;MEDICALRECORD&gt; Date : 01-27-1975 .</td>\n",
       "    </tr>\n",
       "    <tr>\n",
       "      <th>3</th>\n",
       "      <td>Patient : Oliveira, 25 years-old , Record date : 2079-11-09 .</td>\n",
       "      <td>Patient : Marvin MARSHALL, &lt;AGE&gt; years-old , Record date : 2079-11-30 .</td>\n",
       "    </tr>\n",
       "    <tr>\n",
       "      <th>4</th>\n",
       "      <td>Cocke County Baptist Hospital .</td>\n",
       "      <td>&lt;HOSPITAL&gt; .</td>\n",
       "    </tr>\n",
       "    <tr>\n",
       "      <th>5</th>\n",
       "      <td>0295 Keats Street</td>\n",
       "      <td>&lt;STREET&gt;</td>\n",
       "    </tr>\n",
       "  </tbody>\n",
       "</table>\n",
       "</div>"
      ],
      "text/plain": [
       "                                                        sentence                                                             deidentified\n",
       "0                                                            A .                                                                      A .\n",
       "1                  Record date : 2093-01-13 , David Hale , M.D .                        Record date : 2093-01-23 , Ekaterina Rosa , M.D .\n",
       "2      , Name : Hendrickson , Ora MR # 7194334 Date : 01/13/93 .         , Name : ALTHEA COLBURN MR # <MEDICALRECORD> Date : 01-27-1975 .\n",
       "3  Patient : Oliveira, 25 years-old , Record date : 2079-11-09 .  Patient : Marvin MARSHALL, <AGE> years-old , Record date : 2079-11-30 .\n",
       "4                                Cocke County Baptist Hospital .                                                             <HOSPITAL> .\n",
       "5                                              0295 Keats Street                                                                 <STREET>"
      ]
     },
     "execution_count": 133,
     "metadata": {},
     "output_type": "execute_result"
    }
   ],
   "source": [
    "obfuscation = DeIdentification()\\\n",
    "      .setInputCols([\"sentence\", \"token\", \"ner_chunk\"]) \\\n",
    "      .setOutputCol(\"deidentified\") \\\n",
    "      .setMode(\"obfuscate\")\\\n",
    "      .setObfuscateDate(True)\\\n",
    "      .setObfuscateRefFile('obfuscation.txt')\\\n",
    "      .setObfuscateRefSource(\"file\")\n",
    "\n",
    "pipeline = Pipeline(stages=[\n",
    "      documentAssembler, \n",
    "      sentenceDetector,\n",
    "      tokenizer,\n",
    "      word_embeddings,\n",
    "      deid_ner,\n",
    "      ner_converter,\n",
    "      obfuscation\n",
    "])\n",
    "\n",
    "obfuscation_model = pipeline.fit(empty_data)      \n",
    "      \n",
    "      \n",
    "result = obfuscation_model.transform(spark.createDataFrame([[text]]).toDF(\"text\"))\n",
    "\n",
    "result.select(F.explode(F.arrays_zip('sentence.result', 'deidentified.result')).alias(\"cols\")) \\\n",
    ".select(F.expr(\"cols['0']\").alias(\"sentence\"), F.expr(\"cols['1']\").alias(\"deidentified\")).toPandas()"
   ]
  },
  {
   "cell_type": "markdown",
   "metadata": {
    "id": "9vL7_bDHWZw8"
   },
   "source": [
    "## Faker mode"
   ]
  },
  {
   "cell_type": "markdown",
   "metadata": {
    "id": "sE0P0vXWuJAS"
   },
   "source": [
    "The faker module allow to the user to use a set of fake entities that are in the memory of the spark-nlp-internal. You can setting up this module using the the following property setObfuscateRefSource('faker').\n",
    "\n",
    "If we select the setObfuscateRefSource('both') then we choose randomly the entities using the faker and the fakes entities from the obfuscateRefFile.\n",
    "\n",
    "\n",
    "The entities that are allowed right now are the followings:\n",
    "\n",
    "* Location\n",
    "* Location-other\n",
    "* Hospital\n",
    "* City\n",
    "* State\n",
    "* Zip\n",
    "* Country\n",
    "* Contact\n",
    "* Username\n",
    "* Phone\n",
    "* Fax\n",
    "* Url\n",
    "* Email\n",
    "* Profession\n",
    "* Name\n",
    "* Doctor\n",
    "* Patient\n",
    "* Id\n",
    "* Idnum\n",
    "* Bioid\n",
    "* Age\n",
    "* Organization\n",
    "* Healthplan\n",
    "* Medicalrecord\n",
    "* Ssn\n",
    "* Passport\n",
    "* DLN\n",
    "* NPI\n",
    "* C_card\n",
    "* IBAN\n",
    "* DEA\n",
    "* Device\n",
    "\n",
    "\n"
   ]
  },
  {
   "cell_type": "code",
   "execution_count": null,
   "metadata": {
    "id": "w5P97F6jVkNB"
   },
   "outputs": [],
   "source": [
    "obfuscation = DeIdentification()\\\n",
    "      .setInputCols([\"sentence\", \"token\", \"ner_chunk\"]) \\\n",
    "      .setOutputCol(\"deidentified\") \\\n",
    "      .setMode(\"obfuscate\")\\\n",
    "      .setObfuscateDate(True)\\\n",
    "      .setObfuscateRefSource(\"faker\") \\\n",
    "\n",
    "pipeline = Pipeline(stages=[\n",
    "      documentAssembler, \n",
    "      sentenceDetector,\n",
    "      tokenizer,\n",
    "      word_embeddings,\n",
    "      deid_ner,\n",
    "      ner_converter,\n",
    "      obfuscation\n",
    "])\n",
    "\n",
    "obfuscation_model = pipeline.fit(empty_data)"
   ]
  },
  {
   "cell_type": "code",
   "execution_count": null,
   "metadata": {
    "colab": {
     "base_uri": "https://localhost:8080/",
     "height": 232
    },
    "id": "lf6OBIjvjWFd",
    "outputId": "f6f052df-23ac-4616-d19e-91a037290f6d"
   },
   "outputs": [
    {
     "data": {
      "text/html": [
       "<div>\n",
       "<style scoped>\n",
       "    .dataframe tbody tr th:only-of-type {\n",
       "        vertical-align: middle;\n",
       "    }\n",
       "\n",
       "    .dataframe tbody tr th {\n",
       "        vertical-align: top;\n",
       "    }\n",
       "\n",
       "    .dataframe thead th {\n",
       "        text-align: right;\n",
       "    }\n",
       "</style>\n",
       "<table border=\"1\" class=\"dataframe\">\n",
       "  <thead>\n",
       "    <tr style=\"text-align: right;\">\n",
       "      <th></th>\n",
       "      <th>sentence</th>\n",
       "      <th>deidentified</th>\n",
       "    </tr>\n",
       "  </thead>\n",
       "  <tbody>\n",
       "    <tr>\n",
       "      <th>0</th>\n",
       "      <td>A .</td>\n",
       "      <td>A .</td>\n",
       "    </tr>\n",
       "    <tr>\n",
       "      <th>1</th>\n",
       "      <td>Record date : 2093-01-13 , David Hale , M.D .</td>\n",
       "      <td>Record date : 2093-02-15 , Dr Starlene Settle , M.D .</td>\n",
       "    </tr>\n",
       "    <tr>\n",
       "      <th>2</th>\n",
       "      <td>, Name : Hendrickson , Ora MR # 7194334 Date : 01/13/93 .</td>\n",
       "      <td>, Name : Durrell Fling MR # Y1542240 Date : 06-17-2003 .</td>\n",
       "    </tr>\n",
       "    <tr>\n",
       "      <th>3</th>\n",
       "      <td>Patient : Oliveira, 25 years-old , Record date : 2079-11-09 .</td>\n",
       "      <td>Patient : Antonio Chute, 31 years-old , Record date : 2079-12-28 .</td>\n",
       "    </tr>\n",
       "    <tr>\n",
       "      <th>4</th>\n",
       "      <td>Cocke County Baptist Hospital .</td>\n",
       "      <td>IBERIA MEDICAL CENTER .</td>\n",
       "    </tr>\n",
       "    <tr>\n",
       "      <th>5</th>\n",
       "      <td>0295 Keats Street</td>\n",
       "      <td>Carlisle</td>\n",
       "    </tr>\n",
       "  </tbody>\n",
       "</table>\n",
       "</div>"
      ],
      "text/plain": [
       "                                                        sentence                                                        deidentified\n",
       "0                                                            A .                                                                 A .\n",
       "1                  Record date : 2093-01-13 , David Hale , M.D .               Record date : 2093-02-15 , Dr Starlene Settle , M.D .\n",
       "2      , Name : Hendrickson , Ora MR # 7194334 Date : 01/13/93 .            , Name : Durrell Fling MR # Y1542240 Date : 06-17-2003 .\n",
       "3  Patient : Oliveira, 25 years-old , Record date : 2079-11-09 .  Patient : Antonio Chute, 31 years-old , Record date : 2079-12-28 .\n",
       "4                                Cocke County Baptist Hospital .                                             IBERIA MEDICAL CENTER .\n",
       "5                                              0295 Keats Street                                                            Carlisle"
      ]
     },
     "execution_count": 135,
     "metadata": {},
     "output_type": "execute_result"
    }
   ],
   "source": [
    "text ='''\n",
    "A . Record date : 2093-01-13 , David Hale , M.D . , Name : Hendrickson , Ora MR # 7194334 Date : 01/13/93 . Patient : Oliveira, 25 years-old , Record date : 2079-11-09 . Cocke County Baptist Hospital . 0295 Keats Street\n",
    "'''\n",
    "\n",
    "result = obfuscation_model.transform(spark.createDataFrame([[text]]).toDF(\"text\"))\n",
    "\n",
    "result.select(F.explode(F.arrays_zip('sentence.result', 'deidentified.result')).alias(\"cols\")) \\\n",
    ".select(F.expr(\"cols['0']\").alias(\"sentence\"), F.expr(\"cols['1']\").alias(\"deidentified\")).toPandas()"
   ]
  },
  {
   "cell_type": "markdown",
   "metadata": {
    "id": "9jAMC21Hf89v"
   },
   "source": [
    "## Use full pipeline in the Light model"
   ]
  },
  {
   "cell_type": "code",
   "execution_count": null,
   "metadata": {
    "id": "HWZViBMJpdTT"
   },
   "outputs": [],
   "source": [
    "text ='''\n",
    "A . Record date : 2093-01-13 , David Hale , M.D . , Name : Hendrickson , Ora MR # 7194334 Date : 01/13/93 . Patient : Oliveira, 25 years-old , Record date : 2079-11-09 . Cocke County Baptist Hospital . 0295 Keats Street\n",
    "'''"
   ]
  },
  {
   "cell_type": "code",
   "execution_count": null,
   "metadata": {
    "colab": {
     "base_uri": "https://localhost:8080/"
    },
    "id": "q4mg2R-yW4nz",
    "outputId": "f8edc699-5c6a-43cb-f2f1-6eb5a06d14f9"
   },
   "outputs": [
    {
     "data": {
      "text/plain": [
       "['A .',\n",
       " 'Record date : <DATE> , <NAME> , M.D .',\n",
       " ', Name : <NAME> MR # <ID> Date : <DATE> .',\n",
       " 'Patient : <NAME>, <AGE> years-old , Record date : <DATE> .',\n",
       " '<HOSPITAL> .',\n",
       " '<STREET>']"
      ]
     },
     "execution_count": 137,
     "metadata": {},
     "output_type": "execute_result"
    }
   ],
   "source": [
    "light_model = LightPipeline(model)\n",
    "annotated_text = light_model.annotate(text)\n",
    "annotated_text['deidentified']"
   ]
  },
  {
   "cell_type": "code",
   "execution_count": null,
   "metadata": {
    "colab": {
     "base_uri": "https://localhost:8080/"
    },
    "id": "rGALkSGQjf4h",
    "outputId": "6d6cf840-049d-4ea5-835d-ba5951f49709"
   },
   "outputs": [
    {
     "data": {
      "text/plain": [
       "['A .',\n",
       " 'Record date : 2093-02-10 , Dr Starlene Settle , M.D .',\n",
       " ', Name : Durrell Fling MR # Y1542240 Date : 06-17-2003 .',\n",
       " 'Patient : Antonio Chute, 31 years-old , Record date : 2079-12-23 .',\n",
       " 'IBERIA MEDICAL CENTER .',\n",
       " 'Carlisle']"
      ]
     },
     "execution_count": 138,
     "metadata": {},
     "output_type": "execute_result"
    }
   ],
   "source": [
    "obf_light_model = LightPipeline(obfuscation_model)\n",
    "annotated_text = obf_light_model.annotate(text)\n",
    "annotated_text['deidentified']"
   ]
  },
  {
   "cell_type": "markdown",
   "metadata": {
    "id": "zwM9GsKnXPOg"
   },
   "source": [
    "# Structured Deidentification"
   ]
  },
  {
   "cell_type": "code",
   "execution_count": null,
   "metadata": {
    "colab": {
     "base_uri": "https://localhost:8080/"
    },
    "id": "JLY-pfeYXQAY",
    "outputId": "0f89057c-8da6-4929-a86d-035b6a1e0a23"
   },
   "outputs": [
    {
     "name": "stdout",
     "output_type": "stream",
     "text": [
      "+---------------+----------+---+----------------------------------------------------+-------+--------------+---+---+\n",
      "|NAME           |DOB       |AGE|ADDRESS                                             |ZIPCODE|TEL           |SBP|DBP|\n",
      "+---------------+----------+---+----------------------------------------------------+-------+--------------+---+---+\n",
      "|Cecilia Chapman|04/02/1935|83 |711-2880 Nulla St. Mankato Mississippi              |69200  |(257) 563-7401|101|42 |\n",
      "|Iris Watson    |03/10/2009|9  |P.O. Box 283 8562 Fusce Rd. Frederick Nebraska      |20620  |(372) 587-2335|159|122|\n",
      "|Bryar Pitts    |11/01/1921|98 |5543 Aliquet St. Fort Dodge GA                      |20783  |(717) 450-4729|149|52 |\n",
      "|Theodore Lowe  |13/02/2002|16 |Ap #867-859 Sit Rd. Azusa New York                  |39531  |(793) 151-6230|134|115|\n",
      "|Calista Wise   |20/08/1942|76 |7292 Dictum Av. San Antonio MI                      |47096  |(492) 709-6392|139|78 |\n",
      "|Kyla Olsen     |12/05/1973|45 |Ap #651-8679 Sodales Av. Tamuning PA                |10855  |(654) 393-5734|120|112|\n",
      "|Forrest Ray    |11/01/1991|27 |191-103 Integer Rd. Corona New Mexico               |8219   |(404) 960-3807|143|126|\n",
      "|Hiroko Potter  |18/11/1937|81 |P.O. Box 887 2508 Dolor. Av. Muskegon KY            |12482  |(314) 244-6306|147|75 |\n",
      "|Celeste Slater |12/05/1980|38 |606-3727 Ullamcorper. Street Roseville NH           |11523  |(786) 713-8616|147|123|\n",
      "|Nyssa Vazquez  |24/09/1956|62 |511-5762 At Rd. Chelsea MI                          |67708  |(947) 278-5929|129|50 |\n",
      "|Lawrence Moreno|26/12/1906|112|935-9940 Tortor. Street Santa Rosa MN               |98804  |(684) 579-1879|133|102|\n",
      "|Ina Moran      |26/10/1983|35 |P.O. Box 929 4189 Nunc Road Lebanon KY              |69409  |(389) 737-2852|101|67 |\n",
      "|Aaron Hawkins  |26/09/2009|9  |5587 Nunc. Avenue Erie Rhode Island                 |24975  |(660) 663-4518|87 |81 |\n",
      "|Hedy Greene    |03/10/1920|98 |Ap #696-3279 Viverra. Avenue Latrobe DE             |38100  |(608) 265-2215|128|123|\n",
      "|Melvin Porter  |14/08/1911|107|P.O. Box 132 1599 Curabitur Rd. Bandera South Dakota|45149  |(959) 119-8364|83 |43 |\n",
      "|Keefe Sellers  |16/05/1937|81 |347-7666 Iaculis St. Woodruff SC                    |49854  |(468) 353-2641|148|109|\n",
      "|Joan Romero    |08/12/2004|14 |666-4366 Lacinia Avenue Idaho Falls Ohio            |19253  |(248) 675-4007|75 |53 |\n",
      "|Davis Patrick  |09/01/1956|63 |P.O. Box 147 2546 Sociosqu Rd. Bethlehem Utah       |2913   |(939) 353-1107|142|62 |\n",
      "|Leilani Boyer  |18/10/1934|84 |557-6308 Lacinia Road San Bernardino ND             |9289   |(570) 873-7090|137|48 |\n",
      "|Colby Bernard  |02/10/1905|113|Ap #285-7193 Ullamcorper Avenue Amesbury HI         |93373  |(302) 259-2375|84 |41 |\n",
      "+---------------+----------+---+----------------------------------------------------+-------+--------------+---+---+\n",
      "only showing top 20 rows\n",
      "\n"
     ]
    }
   ],
   "source": [
    "!wget -q https://raw.githubusercontent.com/JohnSnowLabs/spark-nlp-workshop/master/tutorials/Certification_Trainings/Healthcare/data/hipaa-table-001.txt\n",
    "\n",
    "df = spark.read.format(\"csv\") \\\n",
    "    .option(\"sep\", \"\\t\") \\\n",
    "    .option(\"inferSchema\", \"true\") \\\n",
    "    .option(\"header\", \"true\") \\\n",
    "    .load(\"hipaa-table-001.txt\")\n",
    "\n",
    "df = df.withColumnRenamed(\"PATIENT\",\"NAME\")\n",
    "df.show(truncate=False)"
   ]
  },
  {
   "cell_type": "code",
   "execution_count": null,
   "metadata": {
    "id": "F9bl5oo0ZhD_"
   },
   "outputs": [],
   "source": [
    "from sparknlp_jsl.structured_deidentification import StructuredDeidentification"
   ]
  },
  {
   "cell_type": "code",
   "execution_count": null,
   "metadata": {
    "colab": {
     "base_uri": "https://localhost:8080/"
    },
    "id": "PQ84IQTGcFAd",
    "outputId": "1091b9eb-3d5d-4d37-9e2f-3228b2d4625d"
   },
   "outputs": [
    {
     "name": "stdout",
     "output_type": "stream",
     "text": [
      "+--------------------+----------+----+----------------------------------------------------+-------+--------------+---+---+\n",
      "|NAME                |DOB       |AGE |ADDRESS                                             |ZIPCODE|TEL           |SBP|DBP|\n",
      "+--------------------+----------+----+----------------------------------------------------+-------+--------------+---+---+\n",
      "|[Jonnie Aurora]     |04/02/1935|[46]|711-2880 Nulla St. Mankato Mississippi              |69200  |(257) 563-7401|101|42 |\n",
      "|[Darin Muff]        |03/10/2009|[33]|P.O. Box 283 8562 Fusce Rd. Frederick Nebraska      |20620  |(372) 587-2335|159|122|\n",
      "|[Shoshana Greenland]|11/01/1921|[88]|5543 Aliquet St. Fort Dodge GA                      |20783  |(717) 450-4729|149|52 |\n",
      "|[Sheryll Clink]     |13/02/2002|[16]|Ap #867-859 Sit Rd. Azusa New York                  |39531  |(793) 151-6230|134|115|\n",
      "|[Georgi Sermons]    |20/08/1942|[7] |7292 Dictum Av. San Antonio MI                      |47096  |(492) 709-6392|139|78 |\n",
      "|[Ulyess Loma]       |12/05/1973|[14]|Ap #651-8679 Sodales Av. Tamuning PA                |10855  |(654) 393-5734|120|112|\n",
      "|[Melven Nevin]      |11/01/1991|[64]|191-103 Integer Rd. Corona New Mexico               |8219   |(404) 960-3807|143|126|\n",
      "|[Ygnacio Konig]     |18/11/1937|[84]|P.O. Box 887 2508 Dolor. Av. Muskegon KY            |12482  |(314) 244-6306|147|75 |\n",
      "|[Julien Freund]     |12/05/1980|[54]|606-3727 Ullamcorper. Street Roseville NH           |11523  |(786) 713-8616|147|123|\n",
      "|[Scotty Prey]       |24/09/1956|[81]|511-5762 At Rd. Chelsea MI                          |67708  |(947) 278-5929|129|50 |\n",
      "|[Rubbie Cheney]     |26/12/1906|[72]|935-9940 Tortor. Street Santa Rosa MN               |98804  |(684) 579-1879|133|102|\n",
      "|[Elfida Ramal]      |26/10/1983|[60]|P.O. Box 929 4189 Nunc Road Lebanon KY              |69409  |(389) 737-2852|101|67 |\n",
      "|[Pearle Conn]       |26/09/2009|[33]|5587 Nunc. Avenue Erie Rhode Island                 |24975  |(660) 663-4518|87 |81 |\n",
      "|[Reggie Blender]    |03/10/1920|[88]|Ap #696-3279 Viverra. Avenue Latrobe DE             |38100  |(608) 265-2215|128|123|\n",
      "|[Claudius Cong]     |14/08/1911|[88]|P.O. Box 132 1599 Curabitur Rd. Bandera South Dakota|45149  |(959) 119-8364|83 |43 |\n",
      "|[Carey Luria]       |16/05/1937|[84]|347-7666 Iaculis St. Woodruff SC                    |49854  |(468) 353-2641|148|109|\n",
      "|[Sally Constable]   |08/12/2004|[15]|666-4366 Lacinia Avenue Idaho Falls Ohio            |19253  |(248) 675-4007|75 |53 |\n",
      "|[Beverlyn Kerry]    |09/01/1956|[60]|P.O. Box 147 2546 Sociosqu Rd. Bethlehem Utah       |2913   |(939) 353-1107|142|62 |\n",
      "|[Nehemiah Stack]    |18/10/1934|[74]|557-6308 Lacinia Road San Bernardino ND             |9289   |(570) 873-7090|137|48 |\n",
      "|[Lura Punches]      |02/10/1905|[86]|Ap #285-7193 Ullamcorper Avenue Amesbury HI         |93373  |(302) 259-2375|84 |41 |\n",
      "+--------------------+----------+----+----------------------------------------------------+-------+--------------+---+---+\n",
      "only showing top 20 rows\n",
      "\n"
     ]
    }
   ],
   "source": [
    "obfuscator = StructuredDeidentification(spark,{\"NAME\":\"PATIENT\",\"AGE\":\"AGE\"}, obfuscateRefSource = \"faker\")\n",
    "obfuscator_df = obfuscator.obfuscateColumns(df)\n",
    "obfuscator_df.show(truncate=False)"
   ]
  },
  {
   "cell_type": "code",
   "execution_count": null,
   "metadata": {
    "id": "-GmMv8T-I0CX"
   },
   "outputs": [],
   "source": [
    "obfuscator_unique_ref_test = '''Will Perry#PATIENT\n",
    "John Smith#PATIENT\n",
    "Marvin MARSHALL#PATIENT\n",
    "Hubert GROGAN#PATIENT\n",
    "ALTHEA COLBURN#PATIENT\n",
    "Kalil AMIN#PATIENT\n",
    "Inci FOUNTAIN#PATIENT\n",
    "Jackson WILLE#PATIENT\n",
    "Jack SANTOS#PATIENT\n",
    "Mahmood ALBURN#PATIENT\n",
    "Marnie MELINGTON#PATIENT\n",
    "Aysha GHAZI#PATIENT\n",
    "Maryland CODER#PATIENT\n",
    "Darene GEORGIOUS#PATIENT\n",
    "Shelly WELLBECK#PATIENT\n",
    "Min Kun JAE#PATIENT\n",
    "Thomson THOMAS#PATIENT\n",
    "Christian SUDDINBURG#PATIENT\n",
    "Aberdeen#CITY\n",
    "Louisburg St#STREET\n",
    "France#LOC\n",
    "Nick Riviera#DOCTOR\n",
    "5552312#PHONE\n",
    "St James Hospital#HOSPITAL\n",
    "Calle del Libertador#ADDRESS\n",
    "111#ID\n",
    "Will#DOCTOR\n",
    "20#AGE\n",
    "30#AGE\n",
    "40#AGE\n",
    "50#AGE\n",
    "60#AGE\n",
    "'''\n",
    "\n",
    "with open('obfuscator_unique_ref_test.txt', 'w') as f:\n",
    "  f.write(obfuscator_unique_ref_test)"
   ]
  },
  {
   "cell_type": "code",
   "execution_count": null,
   "metadata": {
    "colab": {
     "base_uri": "https://localhost:8080/"
    },
    "id": "PTwdR034I70n",
    "outputId": "913fce63-d15a-45df-e8df-f2cdaa7d4830"
   },
   "outputs": [
    {
     "name": "stdout",
     "output_type": "stream",
     "text": [
      "+------------------+----+\n",
      "|NAME              |AGE |\n",
      "+------------------+----+\n",
      "|[Inci FOUNTAIN]   |[60]|\n",
      "|[Jack SANTOS]     |[30]|\n",
      "|[Darene GEORGIOUS]|[30]|\n",
      "|[Shelly WELLBECK] |[40]|\n",
      "|[Hubert GROGAN]   |[40]|\n",
      "|[Kalil AMIN]      |[40]|\n",
      "|[ALTHEA COLBURN]  |[60]|\n",
      "|[Thomson THOMAS]  |[60]|\n",
      "|[Jack SANTOS]     |[60]|\n",
      "|[Will Perry]      |[20]|\n",
      "|[Jackson WILLE]   |[60]|\n",
      "|[Shelly WELLBECK] |[40]|\n",
      "|[Kalil AMIN]      |[30]|\n",
      "|[Marnie MELINGTON]|[30]|\n",
      "|[Min Kun JAE]     |[30]|\n",
      "|[Marvin MARSHALL] |[60]|\n",
      "|[Marvin MARSHALL] |[50]|\n",
      "|[Min Kun JAE]     |[30]|\n",
      "|[Maryland CODER]  |[20]|\n",
      "|[Marnie MELINGTON]|[20]|\n",
      "+------------------+----+\n",
      "only showing top 20 rows\n",
      "\n"
     ]
    }
   ],
   "source": [
    "# obfuscateRefSource = \"file\"\n",
    "\n",
    "obfuscator = StructuredDeidentification(spark,{\"NAME\":\"PATIENT\",\"AGE\":\"AGE\"}, \n",
    "                                        obfuscateRefFile = \"/content/obfuscator_unique_ref_test.txt\",\n",
    "                                        obfuscateRefSource = \"file\",\n",
    "                                        columnsSeed={\"NAME\": 23, \"AGE\": 23})\n",
    "obfuscator_df = obfuscator.obfuscateColumns(df)\n",
    "obfuscator_df.select(\"NAME\",\"AGE\").show(truncate=False)"
   ]
  },
  {
   "cell_type": "markdown",
   "metadata": {
    "id": "w8tW5fFafQmL"
   },
   "source": [
    "We can shift n days in the structured deidentification through \"days\" parameter when the column is a Date."
   ]
  },
  {
   "cell_type": "code",
   "execution_count": null,
   "metadata": {
    "colab": {
     "base_uri": "https://localhost:8080/"
    },
    "executionInfo": {
     "elapsed": 574,
     "status": "ok",
     "timestamp": 1638991644757,
     "user": {
      "displayName": "Ahmet Emin Tek",
      "photoUrl": "https://lh3.googleusercontent.com/a/default-user=s64",
      "userId": "14855809472179427810"
     },
     "user_tz": -180
    },
    "id": "iBzoNufMfYCn",
    "outputId": "f296a2fd-342a-4308-9a28-77e0b94a7056"
   },
   "outputs": [
    {
     "name": "stdout",
     "output_type": "stream",
     "text": [
      "+-------------+----------+-----------------------+---+----------------+\n",
      "|NAME         |DOB       |ADDRESS                |SBP|TEL             |\n",
      "+-------------+----------+-----------------------+---+----------------+\n",
      "|Juan García  |13/02/1977|711 Nulla St.          |140|673 431234      |\n",
      "|Will Smith   |23/02/1977|1 Green Avenue.        |140|+23 (673) 431234|\n",
      "|Pedro Ximénez|11/04/1900|Calle del Libertador, 7|100|912 345623      |\n",
      "+-------------+----------+-----------------------+---+----------------+\n",
      "\n"
     ]
    }
   ],
   "source": [
    "df = spark.createDataFrame([\n",
    "            [\"Juan García\", \"13/02/1977\", \"711 Nulla St.\", \"140\", \"673 431234\"],\n",
    "            [\"Will Smith\", \"23/02/1977\", \"1 Green Avenue.\", \"140\", \"+23 (673) 431234\"],\n",
    "            [\"Pedro Ximénez\", \"11/04/1900\", \"Calle del Libertador, 7\", \"100\", \"912 345623\"]\n",
    "        ]).toDF(\"NAME\", \"DOB\", \"ADDRESS\", \"SBP\", \"TEL\")\n",
    "df.show(truncate=False)"
   ]
  },
  {
   "cell_type": "code",
   "execution_count": null,
   "metadata": {
    "id": "Fez0Rqq_fX3C"
   },
   "outputs": [],
   "source": [
    "obfuscator = StructuredDeidentification(spark=spark, columns={\"NAME\": \"ID\", \"DOB\": \"DATE\"},\n",
    "                                                      columnsSeed={\"NAME\": 23, \"DOB\": 23},\n",
    "                                                      obfuscateRefSource=\"faker\",\n",
    "                                                      days=5\n",
    "                                         )"
   ]
  },
  {
   "cell_type": "code",
   "execution_count": null,
   "metadata": {
    "colab": {
     "base_uri": "https://localhost:8080/"
    },
    "executionInfo": {
     "elapsed": 1020,
     "status": "ok",
     "timestamp": 1638991651970,
     "user": {
      "displayName": "Ahmet Emin Tek",
      "photoUrl": "https://lh3.googleusercontent.com/a/default-user=s64",
      "userId": "14855809472179427810"
     },
     "user_tz": -180
    },
    "id": "HgNuMKhngFq2",
    "outputId": "a9395c6f-4138-4108-9ba5-00c08420821d"
   },
   "outputs": [
    {
     "name": "stdout",
     "output_type": "stream",
     "text": [
      "+----------+------------+-----------------------+---+----------------+\n",
      "|NAME      |DOB         |ADDRESS                |SBP|TEL             |\n",
      "+----------+------------+-----------------------+---+----------------+\n",
      "|[T1825511]|[18/02/1977]|711 Nulla St.          |140|673 431234      |\n",
      "|[G6835267]|[28/02/1977]|1 Green Avenue.        |140|+23 (673) 431234|\n",
      "|[S2371443]|[16/04/1900]|Calle del Libertador, 7|100|912 345623      |\n",
      "+----------+------------+-----------------------+---+----------------+\n",
      "\n"
     ]
    }
   ],
   "source": [
    "result = obfuscator.obfuscateColumns(df)\n",
    "result.show(truncate=False)"
   ]
  },
  {
   "cell_type": "markdown",
   "metadata": {
    "id": "vI2Lkwf5zuUm"
   },
   "source": [
    "# Pretrained Deidentification Pipeline\n",
    "\n",
    "This pipeline can be used to deidentify PHI information from medical texts. The PHI information will be masked and obfuscated in the resulting text. The pipeline can mask and obfuscate `AGE`, `CONTACT`, `DATE`, `ID`, `LOCATION`, `NAME`, `PROFESSION`, `CITY`, `COUNTRY`, `DOCTOR`, `HOSPITAL`, `IDNUM`, `MEDICALRECORD`, `ORGANIZATION`, `PATIENT`, `PHONE`, `PROFESSION`, `STREET`, `USERNAME`, `ZIP`, `ACCOUNT`, `LICENSE`, `VIN`, `SSN`, `DLN`, `PLATE`, `IPADDR` entities."
   ]
  },
  {
   "cell_type": "code",
   "execution_count": null,
   "metadata": {
    "colab": {
     "base_uri": "https://localhost:8080/"
    },
    "id": "hQu0sQ6Tz1Fd",
    "outputId": "f4ab2e8f-3665-4d79-da95-83beaaeb2bf6"
   },
   "outputs": [
    {
     "name": "stdout",
     "output_type": "stream",
     "text": [
      "clinical_deidentification download started this may take some time.\n",
      "Approx size to download 1.6 GB\n",
      "[OK!]\n"
     ]
    }
   ],
   "source": [
    "from sparknlp.pretrained import PretrainedPipeline\n",
    "\n",
    "deid_pipeline = PretrainedPipeline(\"clinical_deidentification\", \"en\", \"clinical/models\")"
   ]
  },
  {
   "cell_type": "code",
   "execution_count": null,
   "metadata": {
    "colab": {
     "base_uri": "https://localhost:8080/"
    },
    "id": "J7W8O9R2V8tE",
    "outputId": "da3755d1-7c74-4a1b-9567-ae9c2236eab3"
   },
   "outputs": [
    {
     "data": {
      "text/plain": [
       "[DocumentAssembler_4138763a0971,\n",
       " SentenceDetector_86e931e7c8f8,\n",
       " REGEX_TOKENIZER_d598143a4ab3,\n",
       " WORD_EMBEDDINGS_MODEL_9004b1d00302,\n",
       " MedicalNerModel_e8178a1262cc,\n",
       " NerConverter_c65ef30dd048,\n",
       " MedicalNerModel_342e883f0c40,\n",
       " NerConverter_57d05987bf2d,\n",
       " MERGE_2e8463f42c79,\n",
       " CONTEXTUAL-PARSER_51466b721eb0,\n",
       " CONTEXTUAL-PARSER_a3de95f1471b,\n",
       " CONTEXTUAL-PARSER_c58ac84f8e17,\n",
       " CONTEXTUAL-PARSER_7c8367ecb966,\n",
       " CONTEXTUAL-PARSER_0a5a264bbd63,\n",
       " MERGE_af6b7886587f,\n",
       " MERGE_362e4fb9ec92,\n",
       " MERGE_7ca0817daa8c,\n",
       " MERGE_3887fcbb1b25,\n",
       " MERGE_3222ccbd2835,\n",
       " DE-IDENTIFICATION_63d7afedd4fa,\n",
       " DE-IDENTIFICATION_43da675b6e68,\n",
       " Finisher_6c199c7afe3f]"
      ]
     },
     "execution_count": 6,
     "metadata": {},
     "output_type": "execute_result"
    }
   ],
   "source": [
    "deid_pipeline.model.stages"
   ]
  },
  {
   "cell_type": "code",
   "execution_count": null,
   "metadata": {
    "id": "0N8Mb4HA0YYM"
   },
   "outputs": [],
   "source": [
    "deid_res = deid_pipeline.annotate(\"Record date : 2093-01-13, David Hale, M.D. IP: 203.120.223.13. The driver's license no:A334455B. the SSN:324598674 and e-mail: hale@gmail.com. Name : Hendrickson, Ora MR. 25 years-old # 719435 Date : 01/13/93. Signed by Oliveira Sander, . Record date : 2079-11-09, Patient's VIN : 1HGBH41JXMN109286.\")"
   ]
  },
  {
   "cell_type": "code",
   "execution_count": null,
   "metadata": {
    "colab": {
     "base_uri": "https://localhost:8080/"
    },
    "id": "3fYhKkfv0bZ0",
    "outputId": "09e479a8-118d-493b-c723-8aab40dde6aa"
   },
   "outputs": [
    {
     "data": {
      "text/plain": [
       "dict_keys(['masked', 'obfuscated', 'ner_chunk', 'sentence'])"
      ]
     },
     "execution_count": 8,
     "metadata": {},
     "output_type": "execute_result"
    }
   ],
   "source": [
    "deid_res.keys()"
   ]
  },
  {
   "cell_type": "code",
   "execution_count": null,
   "metadata": {
    "colab": {
     "base_uri": "https://localhost:8080/",
     "height": 296
    },
    "id": "23A7T6Hx0dBX",
    "outputId": "59aebc7f-8115-4a40-f5bb-3f3e94ae304b"
   },
   "outputs": [
    {
     "data": {
      "text/html": [
       "<div>\n",
       "<style scoped>\n",
       "    .dataframe tbody tr th:only-of-type {\n",
       "        vertical-align: middle;\n",
       "    }\n",
       "\n",
       "    .dataframe tbody tr th {\n",
       "        vertical-align: top;\n",
       "    }\n",
       "\n",
       "    .dataframe thead th {\n",
       "        text-align: right;\n",
       "    }\n",
       "</style>\n",
       "<table border=\"1\" class=\"dataframe\">\n",
       "  <thead>\n",
       "    <tr style=\"text-align: right;\">\n",
       "      <th></th>\n",
       "      <th>Sentence</th>\n",
       "      <th>Masked</th>\n",
       "      <th>Obfuscated</th>\n",
       "    </tr>\n",
       "  </thead>\n",
       "  <tbody>\n",
       "    <tr>\n",
       "      <th>0</th>\n",
       "      <td>Record date : 2093-01-13, David Hale, M.D.</td>\n",
       "      <td>Record date : &lt;DATE&gt;, &lt;DOCTOR&gt;, M.D.</td>\n",
       "      <td>Record date : 2093-01-16, Dr Hilma Nancy, M.D.</td>\n",
       "    </tr>\n",
       "    <tr>\n",
       "      <th>1</th>\n",
       "      <td>IP: 203.120.223.13.</td>\n",
       "      <td>IP: &lt;IPADDR&gt;.</td>\n",
       "      <td>IP: 003.003.003.003.</td>\n",
       "    </tr>\n",
       "    <tr>\n",
       "      <th>2</th>\n",
       "      <td>The driver's license no:A334455B.</td>\n",
       "      <td>The driver's license &lt;DLN&gt;.</td>\n",
       "      <td>The driver's license S99921801.</td>\n",
       "    </tr>\n",
       "    <tr>\n",
       "      <th>3</th>\n",
       "      <td>the SSN:324598674 and e-mail: hale@gmail.com.</td>\n",
       "      <td>the &lt;SSN&gt; and e-mail: &lt;EMAIL&gt;.</td>\n",
       "      <td>the 999-36-5441 and e-mail: Loria@google.com.</td>\n",
       "    </tr>\n",
       "    <tr>\n",
       "      <th>4</th>\n",
       "      <td>Name : Hendrickson, Ora MR. 25 years-old # 719435 Date : 01/13/93.</td>\n",
       "      <td>Name : &lt;PATIENT&gt; MR. &lt;AGE&gt; years-old # &lt;MEDICALRECORD&gt; Date : &lt;DATE&gt;.</td>\n",
       "      <td>Name : Eda Buddle MR. 5 years-old # Z5145513 Date : 03-18-1986.</td>\n",
       "    </tr>\n",
       "    <tr>\n",
       "      <th>5</th>\n",
       "      <td>Signed by Oliveira Sander, .</td>\n",
       "      <td>Signed by &lt;DOCTOR&gt;, .</td>\n",
       "      <td>Signed by Dr Joaquim Orris, .</td>\n",
       "    </tr>\n",
       "    <tr>\n",
       "      <th>6</th>\n",
       "      <td>Record date : 2079-11-09, Patient's VIN : 1HGBH41JXMN109286.</td>\n",
       "      <td>Record date : &lt;DATE&gt;, Patient's VIN : &lt;VIN&gt;.</td>\n",
       "      <td>Record date : 2079-11-30, Patient's VIN : 5eeee44ffff555666.</td>\n",
       "    </tr>\n",
       "  </tbody>\n",
       "</table>\n",
       "</div>"
      ],
      "text/plain": [
       "                                                             Sentence                                                                 Masked                                                       Obfuscated\n",
       "0                          Record date : 2093-01-13, David Hale, M.D.                                   Record date : <DATE>, <DOCTOR>, M.D.                   Record date : 2093-01-16, Dr Hilma Nancy, M.D.\n",
       "1                                                 IP: 203.120.223.13.                                                          IP: <IPADDR>.                                             IP: 003.003.003.003.\n",
       "2                                   The driver's license no:A334455B.                                            The driver's license <DLN>.                                  The driver's license S99921801.\n",
       "3                       the SSN:324598674 and e-mail: hale@gmail.com.                                         the <SSN> and e-mail: <EMAIL>.                    the 999-36-5441 and e-mail: Loria@google.com.\n",
       "4  Name : Hendrickson, Ora MR. 25 years-old # 719435 Date : 01/13/93.  Name : <PATIENT> MR. <AGE> years-old # <MEDICALRECORD> Date : <DATE>.  Name : Eda Buddle MR. 5 years-old # Z5145513 Date : 03-18-1986.\n",
       "5                                        Signed by Oliveira Sander, .                                                  Signed by <DOCTOR>, .                                    Signed by Dr Joaquim Orris, .\n",
       "6        Record date : 2079-11-09, Patient's VIN : 1HGBH41JXMN109286.                           Record date : <DATE>, Patient's VIN : <VIN>.     Record date : 2079-11-30, Patient's VIN : 5eeee44ffff555666."
      ]
     },
     "execution_count": 9,
     "metadata": {},
     "output_type": "execute_result"
    }
   ],
   "source": [
    "pd.set_option(\"display.max_colwidth\", 100)\n",
    "\n",
    "df = pd.DataFrame(list(zip(deid_res['sentence'], deid_res['masked'], deid_res['obfuscated'])),\n",
    "                  columns = ['Sentence','Masked', 'Obfuscated'])\n",
    "df"
   ]
  }
 ],
 "metadata": {
  "accelerator": "GPU",
  "colab": {
   "collapsed_sections": [],
   "name": "4.Clinical_DeIdentification.ipynb",
   "provenance": [
    {
     "file_id": "https://github.com/JohnSnowLabs/spark-nlp-workshop/blob/master/tutorials/Certification_Trainings/Healthcare/4.Clinical_DeIdentification.ipynb",
     "timestamp": 1637843771776
    }
   ],
   "toc_visible": true
  },
  "kernelspec": {
   "display_name": "Python 3 (ipykernel)",
   "language": "python",
   "name": "python3"
  },
  "language_info": {
   "codemirror_mode": {
    "name": "ipython",
    "version": 3
   },
   "file_extension": ".py",
   "mimetype": "text/x-python",
   "name": "python",
   "nbconvert_exporter": "python",
   "pygments_lexer": "ipython3",
   "version": "3.9.1"
  }
 },
 "nbformat": 4,
 "nbformat_minor": 1
}
