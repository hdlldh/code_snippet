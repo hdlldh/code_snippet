{
 "cells": [
  {
   "cell_type": "markdown",
   "metadata": {},
   "source": [
    "# Spark NLP Basics and Pretrained Pipelines"
   ]
  },
  {
   "cell_type": "markdown",
   "metadata": {},
   "source": [
    "# Load dependent libraries and jars"
   ]
  },
  {
   "cell_type": "code",
   "execution_count": 1,
   "metadata": {},
   "outputs": [
    {
     "data": {
      "text/plain": [
       "\u001b[32mimport \u001b[39m\u001b[36m$ivy.$                                  \n",
       "\u001b[39m\n",
       "\u001b[32mimport \u001b[39m\u001b[36m$ivy.$                                    \n",
       "\u001b[39m\n",
       "\u001b[32mimport \u001b[39m\u001b[36m$ivy.$                                       \n",
       "\u001b[39m\n",
       "\u001b[32mimport \u001b[39m\u001b[36m$ivy.$                                      \n",
       "\u001b[39m"
      ]
     },
     "execution_count": 1,
     "metadata": {},
     "output_type": "execute_result"
    }
   ],
   "source": [
    "import $ivy.`org.apache.spark::spark-sql:3.0.1`\n",
    "import $ivy.`org.apache.spark::spark-mllib:3.0.1`\n",
    "import $ivy.`org.apache.spark:spark-avro_2.12:3.0.1`\n",
    "import $ivy.`com.johnsnowlabs.nlp::spark-nlp:3.1.0`\n",
    "interp.load.cp(os.Path(\"/\"))"
   ]
  },
  {
   "cell_type": "markdown",
   "metadata": {},
   "source": [
    "# Create spark session and context"
   ]
  },
  {
   "cell_type": "code",
   "execution_count": 2,
   "metadata": {},
   "outputs": [
    {
     "name": "stdout",
     "output_type": "stream",
     "text": [
      "Loading spark-stubs\n",
      "Creating SparkSession\n"
     ]
    },
    {
     "data": {
      "text/html": [
       "<a target=\"_blank\" href=\"http://donglins-air:4040\">Spark UI</a>"
      ]
     },
     "metadata": {},
     "output_type": "display_data"
    },
    {
     "data": {
      "text/plain": [
       "\u001b[32mimport \u001b[39m\u001b[36morg.apache.log4j.{Level, Logger}\n",
       "\u001b[39m\n",
       "\u001b[32mimport \u001b[39m\u001b[36morg.apache.spark.sql.NotebookSparkSession\n",
       "\u001b[39m\n",
       "\u001b[32mimport \u001b[39m\u001b[36morg.apache.spark.SparkContext\n",
       "\n",
       "\u001b[39m\n",
       "\u001b[36msparkSession\u001b[39m: \u001b[32morg\u001b[39m.\u001b[32mapache\u001b[39m.\u001b[32mspark\u001b[39m.\u001b[32msql\u001b[39m.\u001b[32mSparkSession\u001b[39m = org.apache.spark.sql.SparkSession@18f79ec4\n",
       "defined \u001b[32mfunction\u001b[39m \u001b[36msparkContext\u001b[39m\n",
       "\u001b[32mimport \u001b[39m\u001b[36msparkSession.implicits._\u001b[39m"
      ]
     },
     "execution_count": 2,
     "metadata": {},
     "output_type": "execute_result"
    }
   ],
   "source": [
    "import org.apache.log4j.{Level, Logger}\n",
    "import org.apache.spark.sql.NotebookSparkSession\n",
    "import org.apache.spark.SparkContext\n",
    "\n",
    "Logger.getLogger(\"org\").setLevel(Level.OFF)\n",
    "val sparkSession = NotebookSparkSession.builder()\n",
    "    .master(\"local[*]\")\n",
    "    .appName(\"My App\")\n",
    "    .getOrCreate()\n",
    "\n",
    "implicit def sparkContext: SparkContext = sparkSession.sparkContext\n",
    "\n",
    "import sparkSession.implicits._"
   ]
  },
  {
   "cell_type": "markdown",
   "metadata": {},
   "source": [
    "### Explain Document ML"
   ]
  },
  {
   "cell_type": "markdown",
   "metadata": {},
   "source": [
    "**Stages**\n",
    "- DocumentAssembler\n",
    "- SentenceDetector\n",
    "- Tokenizer\n",
    "- Lemmatizer\n",
    "- Stemmer\n",
    "- Part of Speech\n",
    "- SpellChecker (Norvig)"
   ]
  },
  {
   "cell_type": "code",
   "execution_count": 3,
   "metadata": {},
   "outputs": [
    {
     "name": "stdout",
     "output_type": "stream",
     "text": [
      "explain_document_ml download started this may take some time.\n",
      "Approximate size to download 9.1 MB\n",
      "Download done! Loading the resource.\n"
     ]
    },
    {
     "data": {
      "text/html": [
       "<script>\n",
       "var comm = Jupyter.notebook.kernel.comm_manager.new_comm('cancel-stage-ab296dc7-f586-4217-bd67-1af313760d25', {});\n",
       "\n",
       "function cancelStage(stageId) {\n",
       "  console.log('Cancelling stage ' + stageId);\n",
       "  comm.send({ 'stageId': stageId });\n",
       "}\n",
       "</script>\n",
       "          "
      ]
     },
     "metadata": {},
     "output_type": "display_data"
    },
    {
     "data": {
      "text/html": [
       "<div>\n",
       "  <span style=\"float: left;\">first at ReadWrite.scala:587</span>\n",
       "</div>\n"
      ]
     },
     "metadata": {},
     "output_type": "display_data"
    },
    {
     "data": {
      "text/html": [
       "<div class=\"progress\">\n",
       "  <div class=\"progress-bar\" role=\"progressbar\" style=\"background-color: blue; width: 100%; word-wrap: normal; white-space: nowrap; text-align: center; color: white\" aria-valuenow=\"100\" aria-valuemin=\"0\" aria-valuemax=\"100\">\n",
       "    1 / 1\n",
       "  </div>\n",
       "  <div class=\"progress-bar\" role=\"progressbar\" style=\"background-color: red; width: 0%\" aria-valuenow=\"0\" aria-valuemin=\"0\" aria-valuemax=\"100\"></div>\n",
       "</div>\n"
      ]
     },
     "metadata": {},
     "output_type": "display_data"
    },
    {
     "data": {
      "text/html": [
       "<div>\n",
       "  <span style=\"float: left;\">first at ReadWrite.scala:587</span>\n",
       "</div>\n"
      ]
     },
     "metadata": {},
     "output_type": "display_data"
    },
    {
     "data": {
      "text/html": [
       "<div class=\"progress\">\n",
       "  <div class=\"progress-bar\" role=\"progressbar\" style=\"background-color: blue; width: 100%; word-wrap: normal; white-space: nowrap; text-align: center; color: white\" aria-valuenow=\"100\" aria-valuemin=\"0\" aria-valuemax=\"100\">\n",
       "    1 / 1\n",
       "  </div>\n",
       "  <div class=\"progress-bar\" role=\"progressbar\" style=\"background-color: red; width: 0%\" aria-valuenow=\"0\" aria-valuemin=\"0\" aria-valuemax=\"100\"></div>\n",
       "</div>\n"
      ]
     },
     "metadata": {},
     "output_type": "display_data"
    },
    {
     "data": {
      "text/html": [
       "<div>\n",
       "  <span style=\"float: left;\">first at ReadWrite.scala:587</span>\n",
       "</div>\n"
      ]
     },
     "metadata": {},
     "output_type": "display_data"
    },
    {
     "data": {
      "text/html": [
       "<div class=\"progress\">\n",
       "  <div class=\"progress-bar\" role=\"progressbar\" style=\"background-color: blue; width: 100%; word-wrap: normal; white-space: nowrap; text-align: center; color: white\" aria-valuenow=\"100\" aria-valuemin=\"0\" aria-valuemax=\"100\">\n",
       "    1 / 1\n",
       "  </div>\n",
       "  <div class=\"progress-bar\" role=\"progressbar\" style=\"background-color: red; width: 0%\" aria-valuenow=\"0\" aria-valuemin=\"0\" aria-valuemax=\"100\"></div>\n",
       "</div>\n"
      ]
     },
     "metadata": {},
     "output_type": "display_data"
    },
    {
     "data": {
      "text/html": [
       "<div>\n",
       "  <span style=\"float: left;\">first at ReadWrite.scala:587</span>\n",
       "</div>\n"
      ]
     },
     "metadata": {},
     "output_type": "display_data"
    },
    {
     "data": {
      "text/html": [
       "<div class=\"progress\">\n",
       "  <div class=\"progress-bar\" role=\"progressbar\" style=\"background-color: blue; width: 100%; word-wrap: normal; white-space: nowrap; text-align: center; color: white\" aria-valuenow=\"100\" aria-valuemin=\"0\" aria-valuemax=\"100\">\n",
       "    1 / 1\n",
       "  </div>\n",
       "  <div class=\"progress-bar\" role=\"progressbar\" style=\"background-color: red; width: 0%\" aria-valuenow=\"0\" aria-valuemin=\"0\" aria-valuemax=\"100\"></div>\n",
       "</div>\n"
      ]
     },
     "metadata": {},
     "output_type": "display_data"
    },
    {
     "data": {
      "text/html": [
       "<div>\n",
       "  <span style=\"float: left;\">first at ReadWrite.scala:587</span>\n",
       "</div>\n"
      ]
     },
     "metadata": {},
     "output_type": "display_data"
    },
    {
     "data": {
      "text/html": [
       "<div class=\"progress\">\n",
       "  <div class=\"progress-bar\" role=\"progressbar\" style=\"background-color: blue; width: 100%; word-wrap: normal; white-space: nowrap; text-align: center; color: white\" aria-valuenow=\"100\" aria-valuemin=\"0\" aria-valuemax=\"100\">\n",
       "    1 / 1\n",
       "  </div>\n",
       "  <div class=\"progress-bar\" role=\"progressbar\" style=\"background-color: red; width: 0%\" aria-valuenow=\"0\" aria-valuemin=\"0\" aria-valuemax=\"100\"></div>\n",
       "</div>\n"
      ]
     },
     "metadata": {},
     "output_type": "display_data"
    },
    {
     "data": {
      "text/html": [
       "<div>\n",
       "  <span style=\"float: left;\">first at ReadWrite.scala:587</span>\n",
       "</div>\n"
      ]
     },
     "metadata": {},
     "output_type": "display_data"
    },
    {
     "data": {
      "text/html": [
       "<div class=\"progress\">\n",
       "  <div class=\"progress-bar\" role=\"progressbar\" style=\"background-color: blue; width: 100%; word-wrap: normal; white-space: nowrap; text-align: center; color: white\" aria-valuenow=\"100\" aria-valuemin=\"0\" aria-valuemax=\"100\">\n",
       "    1 / 1\n",
       "  </div>\n",
       "  <div class=\"progress-bar\" role=\"progressbar\" style=\"background-color: red; width: 0%\" aria-valuenow=\"0\" aria-valuemin=\"0\" aria-valuemax=\"100\"></div>\n",
       "</div>\n"
      ]
     },
     "metadata": {},
     "output_type": "display_data"
    },
    {
     "data": {
      "text/html": [
       "<div>\n",
       "  <span style=\"float: left;\">first at ReadWrite.scala:587</span>\n",
       "</div>\n"
      ]
     },
     "metadata": {},
     "output_type": "display_data"
    },
    {
     "data": {
      "text/html": [
       "<div class=\"progress\">\n",
       "  <div class=\"progress-bar\" role=\"progressbar\" style=\"background-color: blue; width: 100%; word-wrap: normal; white-space: nowrap; text-align: center; color: white\" aria-valuenow=\"100\" aria-valuemin=\"0\" aria-valuemax=\"100\">\n",
       "    1 / 1\n",
       "  </div>\n",
       "  <div class=\"progress-bar\" role=\"progressbar\" style=\"background-color: red; width: 0%\" aria-valuenow=\"0\" aria-valuemin=\"0\" aria-valuemax=\"100\"></div>\n",
       "</div>\n"
      ]
     },
     "metadata": {},
     "output_type": "display_data"
    },
    {
     "data": {
      "text/html": [
       "<div>\n",
       "  <span style=\"float: left;\">first at Feature.scala:120</span>\n",
       "</div>\n"
      ]
     },
     "metadata": {},
     "output_type": "display_data"
    },
    {
     "data": {
      "text/html": [
       "<div class=\"progress\">\n",
       "  <div class=\"progress-bar\" role=\"progressbar\" style=\"background-color: blue; width: 100%; word-wrap: normal; white-space: nowrap; text-align: center; color: white\" aria-valuenow=\"100\" aria-valuemin=\"0\" aria-valuemax=\"100\">\n",
       "    1 / 1\n",
       "  </div>\n",
       "  <div class=\"progress-bar\" role=\"progressbar\" style=\"background-color: red; width: 0%\" aria-valuenow=\"0\" aria-valuemin=\"0\" aria-valuemax=\"100\"></div>\n",
       "</div>\n"
      ]
     },
     "metadata": {},
     "output_type": "display_data"
    },
    {
     "data": {
      "text/html": [
       "<div>\n",
       "  <span style=\"float: left;\">first at Feature.scala:120</span>\n",
       "</div>\n"
      ]
     },
     "metadata": {},
     "output_type": "display_data"
    },
    {
     "data": {
      "text/html": [
       "<div class=\"progress\">\n",
       "  <div class=\"progress-bar\" role=\"progressbar\" style=\"background-color: blue; width: 100%; word-wrap: normal; white-space: nowrap; text-align: center; color: white\" aria-valuenow=\"100\" aria-valuemin=\"0\" aria-valuemax=\"100\">\n",
       "    4 / 4\n",
       "  </div>\n",
       "  <div class=\"progress-bar\" role=\"progressbar\" style=\"background-color: red; width: 0%\" aria-valuenow=\"0\" aria-valuemin=\"0\" aria-valuemax=\"100\"></div>\n",
       "</div>\n"
      ]
     },
     "metadata": {},
     "output_type": "display_data"
    },
    {
     "data": {
      "text/html": [
       "<div>\n",
       "  <span style=\"float: left;\">first at Feature.scala:120</span>\n",
       "</div>\n"
      ]
     },
     "metadata": {},
     "output_type": "display_data"
    },
    {
     "data": {
      "text/html": [
       "<div class=\"progress\">\n",
       "  <div class=\"progress-bar\" role=\"progressbar\" style=\"background-color: blue; width: 100%; word-wrap: normal; white-space: nowrap; text-align: center; color: white\" aria-valuenow=\"100\" aria-valuemin=\"0\" aria-valuemax=\"100\">\n",
       "    12 / 12\n",
       "  </div>\n",
       "  <div class=\"progress-bar\" role=\"progressbar\" style=\"background-color: red; width: 0%\" aria-valuenow=\"0\" aria-valuemin=\"0\" aria-valuemax=\"100\"></div>\n",
       "</div>\n"
      ]
     },
     "metadata": {},
     "output_type": "display_data"
    },
    {
     "data": {
      "text/html": [
       "<div>\n",
       "  <span style=\"float: left;\">first at ReadWrite.scala:587</span>\n",
       "</div>\n"
      ]
     },
     "metadata": {},
     "output_type": "display_data"
    },
    {
     "data": {
      "text/html": [
       "<div class=\"progress\">\n",
       "  <div class=\"progress-bar\" role=\"progressbar\" style=\"background-color: blue; width: 100%; word-wrap: normal; white-space: nowrap; text-align: center; color: white\" aria-valuenow=\"100\" aria-valuemin=\"0\" aria-valuemax=\"100\">\n",
       "    1 / 1\n",
       "  </div>\n",
       "  <div class=\"progress-bar\" role=\"progressbar\" style=\"background-color: red; width: 0%\" aria-valuenow=\"0\" aria-valuemin=\"0\" aria-valuemax=\"100\"></div>\n",
       "</div>\n"
      ]
     },
     "metadata": {},
     "output_type": "display_data"
    },
    {
     "data": {
      "text/html": [
       "<div>\n",
       "  <span style=\"float: left;\">first at ReadWrite.scala:587</span>\n",
       "</div>\n"
      ]
     },
     "metadata": {},
     "output_type": "display_data"
    },
    {
     "data": {
      "text/html": [
       "<div class=\"progress\">\n",
       "  <div class=\"progress-bar\" role=\"progressbar\" style=\"background-color: blue; width: 100%; word-wrap: normal; white-space: nowrap; text-align: center; color: white\" aria-valuenow=\"100\" aria-valuemin=\"0\" aria-valuemax=\"100\">\n",
       "    1 / 1\n",
       "  </div>\n",
       "  <div class=\"progress-bar\" role=\"progressbar\" style=\"background-color: red; width: 0%\" aria-valuenow=\"0\" aria-valuemin=\"0\" aria-valuemax=\"100\"></div>\n",
       "</div>\n"
      ]
     },
     "metadata": {},
     "output_type": "display_data"
    },
    {
     "data": {
      "text/html": [
       "<div>\n",
       "  <span style=\"float: left;\">collect at Feature.scala:161</span>\n",
       "</div>\n"
      ]
     },
     "metadata": {},
     "output_type": "display_data"
    },
    {
     "data": {
      "text/html": [
       "<div class=\"progress\">\n",
       "  <div class=\"progress-bar\" role=\"progressbar\" style=\"background-color: blue; width: 100%; word-wrap: normal; white-space: nowrap; text-align: center; color: white\" aria-valuenow=\"100\" aria-valuemin=\"0\" aria-valuemax=\"100\">\n",
       "    12 / 12\n",
       "  </div>\n",
       "  <div class=\"progress-bar\" role=\"progressbar\" style=\"background-color: red; width: 0%\" aria-valuenow=\"0\" aria-valuemin=\"0\" aria-valuemax=\"100\"></div>\n",
       "</div>\n"
      ]
     },
     "metadata": {},
     "output_type": "display_data"
    },
    {
     "data": {
      "text/html": [
       "<div>\n",
       "  <span style=\"float: left;\">first at ReadWrite.scala:587</span>\n",
       "</div>\n"
      ]
     },
     "metadata": {},
     "output_type": "display_data"
    },
    {
     "data": {
      "text/html": [
       "<div class=\"progress\">\n",
       "  <div class=\"progress-bar\" role=\"progressbar\" style=\"background-color: blue; width: 100%; word-wrap: normal; white-space: nowrap; text-align: center; color: white\" aria-valuenow=\"100\" aria-valuemin=\"0\" aria-valuemax=\"100\">\n",
       "    1 / 1\n",
       "  </div>\n",
       "  <div class=\"progress-bar\" role=\"progressbar\" style=\"background-color: red; width: 0%\" aria-valuenow=\"0\" aria-valuemin=\"0\" aria-valuemax=\"100\"></div>\n",
       "</div>\n"
      ]
     },
     "metadata": {},
     "output_type": "display_data"
    },
    {
     "data": {
      "text/html": [
       "<div>\n",
       "  <span style=\"float: left;\">first at ReadWrite.scala:587</span>\n",
       "</div>\n"
      ]
     },
     "metadata": {},
     "output_type": "display_data"
    },
    {
     "data": {
      "text/html": [
       "<div class=\"progress\">\n",
       "  <div class=\"progress-bar\" role=\"progressbar\" style=\"background-color: blue; width: 100%; word-wrap: normal; white-space: nowrap; text-align: center; color: white\" aria-valuenow=\"100\" aria-valuemin=\"0\" aria-valuemax=\"100\">\n",
       "    1 / 1\n",
       "  </div>\n",
       "  <div class=\"progress-bar\" role=\"progressbar\" style=\"background-color: red; width: 0%\" aria-valuenow=\"0\" aria-valuemin=\"0\" aria-valuemax=\"100\"></div>\n",
       "</div>\n"
      ]
     },
     "metadata": {},
     "output_type": "display_data"
    },
    {
     "data": {
      "text/html": [
       "<div>\n",
       "  <span style=\"float: left;\">collect at Feature.scala:161</span>\n",
       "</div>\n"
      ]
     },
     "metadata": {},
     "output_type": "display_data"
    },
    {
     "data": {
      "text/html": [
       "<div class=\"progress\">\n",
       "  <div class=\"progress-bar\" role=\"progressbar\" style=\"background-color: blue; width: 100%; word-wrap: normal; white-space: nowrap; text-align: center; color: white\" aria-valuenow=\"100\" aria-valuemin=\"0\" aria-valuemax=\"100\">\n",
       "    12 / 12\n",
       "  </div>\n",
       "  <div class=\"progress-bar\" role=\"progressbar\" style=\"background-color: red; width: 0%\" aria-valuenow=\"0\" aria-valuemin=\"0\" aria-valuemax=\"100\"></div>\n",
       "</div>\n"
      ]
     },
     "metadata": {},
     "output_type": "display_data"
    },
    {
     "data": {
      "text/html": [
       "<div>\n",
       "  <span style=\"float: left;\">first at ReadWrite.scala:587</span>\n",
       "</div>\n"
      ]
     },
     "metadata": {},
     "output_type": "display_data"
    },
    {
     "data": {
      "text/html": [
       "<div class=\"progress\">\n",
       "  <div class=\"progress-bar\" role=\"progressbar\" style=\"background-color: blue; width: 100%; word-wrap: normal; white-space: nowrap; text-align: center; color: white\" aria-valuenow=\"100\" aria-valuemin=\"0\" aria-valuemax=\"100\">\n",
       "    1 / 1\n",
       "  </div>\n",
       "  <div class=\"progress-bar\" role=\"progressbar\" style=\"background-color: red; width: 0%\" aria-valuenow=\"0\" aria-valuemin=\"0\" aria-valuemax=\"100\"></div>\n",
       "</div>\n"
      ]
     },
     "metadata": {},
     "output_type": "display_data"
    },
    {
     "data": {
      "text/html": [
       "<div>\n",
       "  <span style=\"float: left;\">first at ReadWrite.scala:587</span>\n",
       "</div>\n"
      ]
     },
     "metadata": {},
     "output_type": "display_data"
    },
    {
     "data": {
      "text/html": [
       "<div class=\"progress\">\n",
       "  <div class=\"progress-bar\" role=\"progressbar\" style=\"background-color: blue; width: 100%; word-wrap: normal; white-space: nowrap; text-align: center; color: white\" aria-valuenow=\"100\" aria-valuemin=\"0\" aria-valuemax=\"100\">\n",
       "    1 / 1\n",
       "  </div>\n",
       "  <div class=\"progress-bar\" role=\"progressbar\" style=\"background-color: red; width: 0%\" aria-valuenow=\"0\" aria-valuemin=\"0\" aria-valuemax=\"100\"></div>\n",
       "</div>\n"
      ]
     },
     "metadata": {},
     "output_type": "display_data"
    },
    {
     "data": {
      "text/html": [
       "<div>\n",
       "  <span style=\"float: left;\">first at ReadWrite.scala:587</span>\n",
       "</div>\n"
      ]
     },
     "metadata": {},
     "output_type": "display_data"
    },
    {
     "data": {
      "text/html": [
       "<div class=\"progress\">\n",
       "  <div class=\"progress-bar\" role=\"progressbar\" style=\"background-color: blue; width: 100%; word-wrap: normal; white-space: nowrap; text-align: center; color: white\" aria-valuenow=\"100\" aria-valuemin=\"0\" aria-valuemax=\"100\">\n",
       "    1 / 1\n",
       "  </div>\n",
       "  <div class=\"progress-bar\" role=\"progressbar\" style=\"background-color: red; width: 0%\" aria-valuenow=\"0\" aria-valuemin=\"0\" aria-valuemax=\"100\"></div>\n",
       "</div>\n"
      ]
     },
     "metadata": {},
     "output_type": "display_data"
    },
    {
     "data": {
      "text/html": [
       "<div>\n",
       "  <span style=\"float: left;\">first at ReadWrite.scala:587</span>\n",
       "</div>\n"
      ]
     },
     "metadata": {},
     "output_type": "display_data"
    },
    {
     "data": {
      "text/html": [
       "<div class=\"progress\">\n",
       "  <div class=\"progress-bar\" role=\"progressbar\" style=\"background-color: blue; width: 100%; word-wrap: normal; white-space: nowrap; text-align: center; color: white\" aria-valuenow=\"100\" aria-valuemin=\"0\" aria-valuemax=\"100\">\n",
       "    1 / 1\n",
       "  </div>\n",
       "  <div class=\"progress-bar\" role=\"progressbar\" style=\"background-color: red; width: 0%\" aria-valuenow=\"0\" aria-valuemin=\"0\" aria-valuemax=\"100\"></div>\n",
       "</div>\n"
      ]
     },
     "metadata": {},
     "output_type": "display_data"
    },
    {
     "data": {
      "text/html": [
       "<div>\n",
       "  <span style=\"float: left;\">first at Feature.scala:120</span>\n",
       "</div>\n"
      ]
     },
     "metadata": {},
     "output_type": "display_data"
    },
    {
     "data": {
      "text/html": [
       "<div class=\"progress\">\n",
       "  <div class=\"progress-bar\" role=\"progressbar\" style=\"background-color: blue; width: 100%; word-wrap: normal; white-space: nowrap; text-align: center; color: white\" aria-valuenow=\"100\" aria-valuemin=\"0\" aria-valuemax=\"100\">\n",
       "    1 / 1\n",
       "  </div>\n",
       "  <div class=\"progress-bar\" role=\"progressbar\" style=\"background-color: red; width: 0%\" aria-valuenow=\"0\" aria-valuemin=\"0\" aria-valuemax=\"100\"></div>\n",
       "</div>\n"
      ]
     },
     "metadata": {},
     "output_type": "display_data"
    },
    {
     "data": {
      "text/html": [
       "<div>\n",
       "  <span style=\"float: left;\">first at Feature.scala:120</span>\n",
       "</div>\n"
      ]
     },
     "metadata": {},
     "output_type": "display_data"
    },
    {
     "data": {
      "text/html": [
       "<div class=\"progress\">\n",
       "  <div class=\"progress-bar\" role=\"progressbar\" style=\"background-color: blue; width: 100%; word-wrap: normal; white-space: nowrap; text-align: center; color: white\" aria-valuenow=\"100\" aria-valuemin=\"0\" aria-valuemax=\"100\">\n",
       "    4 / 4\n",
       "  </div>\n",
       "  <div class=\"progress-bar\" role=\"progressbar\" style=\"background-color: red; width: 0%\" aria-valuenow=\"0\" aria-valuemin=\"0\" aria-valuemax=\"100\"></div>\n",
       "</div>\n"
      ]
     },
     "metadata": {},
     "output_type": "display_data"
    },
    {
     "data": {
      "text/html": [
       "<div>\n",
       "  <span style=\"float: left;\">first at Feature.scala:120</span>\n",
       "</div>\n"
      ]
     },
     "metadata": {},
     "output_type": "display_data"
    },
    {
     "data": {
      "text/html": [
       "<div class=\"progress\">\n",
       "  <div class=\"progress-bar\" role=\"progressbar\" style=\"background-color: blue; width: 100%; word-wrap: normal; white-space: nowrap; text-align: center; color: white\" aria-valuenow=\"100\" aria-valuemin=\"0\" aria-valuemax=\"100\">\n",
       "    12 / 12\n",
       "  </div>\n",
       "  <div class=\"progress-bar\" role=\"progressbar\" style=\"background-color: red; width: 0%\" aria-valuenow=\"0\" aria-valuemin=\"0\" aria-valuemax=\"100\"></div>\n",
       "</div>\n"
      ]
     },
     "metadata": {},
     "output_type": "display_data"
    },
    {
     "data": {
      "text/plain": [
       "\u001b[32mimport \u001b[39m\u001b[36mcom.johnsnowlabs.nlp.pretrained.PretrainedPipeline\n",
       "\n",
       "\u001b[39m\n",
       "\u001b[36mpipeline\u001b[39m: \u001b[32mPretrainedPipeline\u001b[39m = \u001b[33mPretrainedPipeline\u001b[39m(\n",
       "  \u001b[32m\"explain_document_ml\"\u001b[39m,\n",
       "  \u001b[32m\"en\"\u001b[39m,\n",
       "  \u001b[32m\"public/models\"\u001b[39m,\n",
       "  false,\n",
       "  \u001b[32mNone\u001b[39m\n",
       ")"
      ]
     },
     "execution_count": 3,
     "metadata": {},
     "output_type": "execute_result"
    }
   ],
   "source": [
    "import com.johnsnowlabs.nlp.pretrained.PretrainedPipeline\n",
    "\n",
    "val pipeline = PretrainedPipeline(\"explain_document_ml\", lang=\"en\")"
   ]
  },
  {
   "cell_type": "code",
   "execution_count": 4,
   "metadata": {},
   "outputs": [
    {
     "data": {
      "text/plain": [
       "\u001b[36mres3\u001b[39m: \u001b[32mArray\u001b[39m[\u001b[32morg\u001b[39m.\u001b[32mapache\u001b[39m.\u001b[32mspark\u001b[39m.\u001b[32mml\u001b[39m.\u001b[32mTransformer\u001b[39m] = \u001b[33mArray\u001b[39m(\n",
       "  document_2ec0b742eccd,\n",
       "  SENTENCE_98fb8e28cb7b,\n",
       "  REGEX_TOKENIZER_4428d18fe84e,\n",
       "  SPELL_e4ea67180337,\n",
       "  LEMMATIZER_c62ad8f355f9,\n",
       "  STEMMER_75edcc4a9cdb,\n",
       "  POS_3df318ebb81c\n",
       ")"
      ]
     },
     "execution_count": 4,
     "metadata": {},
     "output_type": "execute_result"
    }
   ],
   "source": [
    "pipeline.model.stages"
   ]
  },
  {
   "cell_type": "code",
   "execution_count": 4,
   "metadata": {},
   "outputs": [],
   "source": [
    "// Load pretrained pipeline from local disk:\n",
    "// import java.lang.System\n",
    "// val userHome = System.getProperty(\"user.home\")\n",
    "\n",
    "// val pipeline_local = PretrainedPipeline.fromDisk(s\"$userHome/cache_pretrained/explain_document_ml_en_3.1.3_3.0_1632168876620\")"
   ]
  },
  {
   "cell_type": "code",
   "execution_count": 5,
   "metadata": {},
   "outputs": [
    {
     "data": {
      "text/plain": [
       "\u001b[36mtestDoc\u001b[39m: \u001b[32mString\u001b[39m = \u001b[32m\"\"\"\n",
       "Peter is a very good persn.\n",
       "My life in Russia is very intersting.\n",
       "John and Peter are brthers. However they don't support each other that much.\n",
       "Lucas Dunbercker is no longer happy. He has a good car though.\n",
       "Europe is very culture rich. There are huge churches! and big houses!\n",
       "\"\"\"\u001b[39m"
      ]
     },
     "execution_count": 5,
     "metadata": {},
     "output_type": "execute_result"
    }
   ],
   "source": [
    "val testDoc = \"\"\"\n",
    "Peter is a very good persn.\n",
    "My life in Russia is very intersting.\n",
    "John and Peter are brthers. However they don't support each other that much.\n",
    "Lucas Dunbercker is no longer happy. He has a good car though.\n",
    "Europe is very culture rich. There are huge churches! and big houses!\n",
    "\"\"\""
   ]
  },
  {
   "cell_type": "code",
   "execution_count": 6,
   "metadata": {},
   "outputs": [
    {
     "data": {
      "text/plain": [
       "\u001b[36mresult\u001b[39m: \u001b[32mMap\u001b[39m[\u001b[32mString\u001b[39m, \u001b[32mSeq\u001b[39m[\u001b[32mString\u001b[39m]] = \u001b[33mMap\u001b[39m(\n",
       "  \u001b[32m\"document\"\u001b[39m -> \u001b[33mList\u001b[39m(\n",
       "    \u001b[32m\"\"\"\n",
       "Peter is a very good persn.\n",
       "My life in Russia is very intersting.\n",
       "John and Peter are brthers. However they don't support each other that much.\n",
       "Lucas Dunbercker is no longer happy. He has a good car though.\n",
       "Europe is very culture rich. There are huge churches! and big houses!\n",
       "\"\"\"\u001b[39m\n",
       "  ),\n",
       "  \u001b[32m\"spell\"\u001b[39m -> \u001b[33mList\u001b[39m(\n",
       "    \u001b[32m\"Peter\"\u001b[39m,\n",
       "    \u001b[32m\"is\"\u001b[39m,\n",
       "    \u001b[32m\"a\"\u001b[39m,\n",
       "    \u001b[32m\"very\"\u001b[39m,\n",
       "    \u001b[32m\"good\"\u001b[39m,\n",
       "    \u001b[32m\"person\"\u001b[39m,\n",
       "    \u001b[32m\".\"\u001b[39m,\n",
       "    \u001b[32m\"My\"\u001b[39m,\n",
       "    \u001b[32m\"life\"\u001b[39m,\n",
       "    \u001b[32m\"in\"\u001b[39m,\n",
       "    \u001b[32m\"Russia\"\u001b[39m,\n",
       "    \u001b[32m\"is\"\u001b[39m,\n",
       "    \u001b[32m\"very\"\u001b[39m,\n",
       "    \u001b[32m\"interesting\"\u001b[39m,\n",
       "    \u001b[32m\".\"\u001b[39m,\n",
       "    \u001b[32m\"John\"\u001b[39m,\n",
       "    \u001b[32m\"and\"\u001b[39m,\n",
       "    \u001b[32m\"Peter\"\u001b[39m,\n",
       "    \u001b[32m\"are\"\u001b[39m,\n",
       "    \u001b[32m\"brothers\"\u001b[39m,\n",
       "    \u001b[32m\".\"\u001b[39m,\n",
       "    \u001b[32m\"However\"\u001b[39m,\n",
       "    \u001b[32m\"they\"\u001b[39m,\n",
       "    \u001b[32m\"don't\"\u001b[39m,\n",
       "    \u001b[32m\"support\"\u001b[39m,\n",
       "    \u001b[32m\"each\"\u001b[39m,\n",
       "    \u001b[32m\"other\"\u001b[39m,\n",
       "    \u001b[32m\"that\"\u001b[39m,\n",
       "..."
      ]
     },
     "execution_count": 6,
     "metadata": {},
     "output_type": "execute_result"
    }
   ],
   "source": [
    "val result = pipeline.annotate(testDoc)"
   ]
  },
  {
   "cell_type": "code",
   "execution_count": 7,
   "metadata": {},
   "outputs": [
    {
     "data": {
      "text/plain": [
       "\u001b[36mres6\u001b[39m: \u001b[32mSet\u001b[39m[\u001b[32mString\u001b[39m] = \u001b[33mSet\u001b[39m(\n",
       "  \u001b[32m\"document\"\u001b[39m,\n",
       "  \u001b[32m\"spell\"\u001b[39m,\n",
       "  \u001b[32m\"pos\"\u001b[39m,\n",
       "  \u001b[32m\"lemmas\"\u001b[39m,\n",
       "  \u001b[32m\"token\"\u001b[39m,\n",
       "  \u001b[32m\"stems\"\u001b[39m,\n",
       "  \u001b[32m\"sentence\"\u001b[39m\n",
       ")"
      ]
     },
     "execution_count": 7,
     "metadata": {},
     "output_type": "execute_result"
    }
   ],
   "source": [
    "result.keySet"
   ]
  },
  {
   "cell_type": "code",
   "execution_count": 8,
   "metadata": {},
   "outputs": [
    {
     "data": {
      "text/plain": [
       "\u001b[36mres7\u001b[39m: \u001b[32mOption\u001b[39m[\u001b[32mSeq\u001b[39m[\u001b[32mString\u001b[39m]] = \u001b[33mSome\u001b[39m(\n",
       "  \u001b[33mList\u001b[39m(\n",
       "    \u001b[32m\"Peter is a very good persn.\"\u001b[39m,\n",
       "    \u001b[32m\"My life in Russia is very intersting.\"\u001b[39m,\n",
       "    \u001b[32m\"John and Peter are brthers.\"\u001b[39m,\n",
       "    \u001b[32m\"However they don't support each other that much.\"\u001b[39m,\n",
       "    \u001b[32m\"Lucas Dunbercker is no longer happy.\"\u001b[39m,\n",
       "    \u001b[32m\"He has a good car though.\"\u001b[39m,\n",
       "    \u001b[32m\"Europe is very culture rich.\"\u001b[39m,\n",
       "    \u001b[32m\"There are huge churches!\"\u001b[39m,\n",
       "    \u001b[32m\"and big houses!\"\u001b[39m\n",
       "  )\n",
       ")"
      ]
     },
     "execution_count": 8,
     "metadata": {},
     "output_type": "execute_result"
    }
   ],
   "source": [
    "result.get(\"sentence\")"
   ]
  },
  {
   "cell_type": "code",
   "execution_count": 9,
   "metadata": {},
   "outputs": [
    {
     "data": {
      "text/plain": [
       "\u001b[36mres8\u001b[39m: \u001b[32mOption\u001b[39m[\u001b[32mSeq\u001b[39m[\u001b[32mString\u001b[39m]] = \u001b[33mSome\u001b[39m(\n",
       "  \u001b[33mList\u001b[39m(\n",
       "    \u001b[32m\"Peter\"\u001b[39m,\n",
       "    \u001b[32m\"is\"\u001b[39m,\n",
       "    \u001b[32m\"a\"\u001b[39m,\n",
       "    \u001b[32m\"very\"\u001b[39m,\n",
       "    \u001b[32m\"good\"\u001b[39m,\n",
       "    \u001b[32m\"persn\"\u001b[39m,\n",
       "    \u001b[32m\".\"\u001b[39m,\n",
       "    \u001b[32m\"My\"\u001b[39m,\n",
       "    \u001b[32m\"life\"\u001b[39m,\n",
       "    \u001b[32m\"in\"\u001b[39m,\n",
       "    \u001b[32m\"Russia\"\u001b[39m,\n",
       "    \u001b[32m\"is\"\u001b[39m,\n",
       "    \u001b[32m\"very\"\u001b[39m,\n",
       "    \u001b[32m\"intersting\"\u001b[39m,\n",
       "    \u001b[32m\".\"\u001b[39m,\n",
       "    \u001b[32m\"John\"\u001b[39m,\n",
       "    \u001b[32m\"and\"\u001b[39m,\n",
       "    \u001b[32m\"Peter\"\u001b[39m,\n",
       "    \u001b[32m\"are\"\u001b[39m,\n",
       "    \u001b[32m\"brthers\"\u001b[39m,\n",
       "    \u001b[32m\".\"\u001b[39m,\n",
       "    \u001b[32m\"However\"\u001b[39m,\n",
       "    \u001b[32m\"they\"\u001b[39m,\n",
       "    \u001b[32m\"don't\"\u001b[39m,\n",
       "    \u001b[32m\"support\"\u001b[39m,\n",
       "    \u001b[32m\"each\"\u001b[39m,\n",
       "    \u001b[32m\"other\"\u001b[39m,\n",
       "    \u001b[32m\"that\"\u001b[39m,\n",
       "    \u001b[32m\"much\"\u001b[39m,\n",
       "    \u001b[32m\".\"\u001b[39m,\n",
       "    \u001b[32m\"Lucas\"\u001b[39m,\n",
       "    \u001b[32m\"Dunbercker\"\u001b[39m,\n",
       "    \u001b[32m\"is\"\u001b[39m,\n",
       "    \u001b[32m\"no\"\u001b[39m,\n",
       "    \u001b[32m\"longer\"\u001b[39m,\n",
       "    \u001b[32m\"happy\"\u001b[39m,\n",
       "    \u001b[32m\".\"\u001b[39m,\n",
       "..."
      ]
     },
     "execution_count": 9,
     "metadata": {},
     "output_type": "execute_result"
    }
   ],
   "source": [
    "result.get(\"token\")"
   ]
  },
  {
   "cell_type": "code",
   "execution_count": 10,
   "metadata": {},
   "outputs": [
    {
     "data": {
      "text/plain": [
       "\u001b[36mres9\u001b[39m: \u001b[32mOption\u001b[39m[\u001b[32mSeq\u001b[39m[(\u001b[32mString\u001b[39m, \u001b[32mString\u001b[39m)]] = \u001b[33mSome\u001b[39m(\n",
       "  \u001b[33mList\u001b[39m(\n",
       "    (\u001b[32m\"Peter\"\u001b[39m, \u001b[32m\"NNP\"\u001b[39m),\n",
       "    (\u001b[32m\"is\"\u001b[39m, \u001b[32m\"VBZ\"\u001b[39m),\n",
       "    (\u001b[32m\"a\"\u001b[39m, \u001b[32m\"DT\"\u001b[39m),\n",
       "    (\u001b[32m\"very\"\u001b[39m, \u001b[32m\"RB\"\u001b[39m),\n",
       "    (\u001b[32m\"good\"\u001b[39m, \u001b[32m\"JJ\"\u001b[39m),\n",
       "    (\u001b[32m\"persn\"\u001b[39m, \u001b[32m\"NN\"\u001b[39m),\n",
       "    (\u001b[32m\".\"\u001b[39m, \u001b[32m\".\"\u001b[39m),\n",
       "    (\u001b[32m\"My\"\u001b[39m, \u001b[32m\"PRP$\"\u001b[39m),\n",
       "    (\u001b[32m\"life\"\u001b[39m, \u001b[32m\"NN\"\u001b[39m),\n",
       "    (\u001b[32m\"in\"\u001b[39m, \u001b[32m\"IN\"\u001b[39m),\n",
       "    (\u001b[32m\"Russia\"\u001b[39m, \u001b[32m\"NNP\"\u001b[39m),\n",
       "    (\u001b[32m\"is\"\u001b[39m, \u001b[32m\"VBZ\"\u001b[39m),\n",
       "    (\u001b[32m\"very\"\u001b[39m, \u001b[32m\"RB\"\u001b[39m),\n",
       "    (\u001b[32m\"intersting\"\u001b[39m, \u001b[32m\"VBG\"\u001b[39m),\n",
       "    (\u001b[32m\".\"\u001b[39m, \u001b[32m\".\"\u001b[39m),\n",
       "    (\u001b[32m\"John\"\u001b[39m, \u001b[32m\"NNP\"\u001b[39m),\n",
       "    (\u001b[32m\"and\"\u001b[39m, \u001b[32m\"CC\"\u001b[39m),\n",
       "    (\u001b[32m\"Peter\"\u001b[39m, \u001b[32m\"NNP\"\u001b[39m),\n",
       "    (\u001b[32m\"are\"\u001b[39m, \u001b[32m\"VBP\"\u001b[39m),\n",
       "    (\u001b[32m\"brthers\"\u001b[39m, \u001b[32m\"NNS\"\u001b[39m),\n",
       "    (\u001b[32m\".\"\u001b[39m, \u001b[32m\".\"\u001b[39m),\n",
       "    (\u001b[32m\"However\"\u001b[39m, \u001b[32m\"RB\"\u001b[39m),\n",
       "    (\u001b[32m\"they\"\u001b[39m, \u001b[32m\"PRP\"\u001b[39m),\n",
       "    (\u001b[32m\"don't\"\u001b[39m, \u001b[32m\"VBP\"\u001b[39m),\n",
       "    (\u001b[32m\"support\"\u001b[39m, \u001b[32m\"VB\"\u001b[39m),\n",
       "    (\u001b[32m\"each\"\u001b[39m, \u001b[32m\"DT\"\u001b[39m),\n",
       "    (\u001b[32m\"other\"\u001b[39m, \u001b[32m\"JJ\"\u001b[39m),\n",
       "    (\u001b[32m\"that\"\u001b[39m, \u001b[32m\"IN\"\u001b[39m),\n",
       "    (\u001b[32m\"much\"\u001b[39m, \u001b[32m\"JJ\"\u001b[39m),\n",
       "    (\u001b[32m\".\"\u001b[39m, \u001b[32m\".\"\u001b[39m),\n",
       "    (\u001b[32m\"Lucas\"\u001b[39m, \u001b[32m\"NNP\"\u001b[39m),\n",
       "    (\u001b[32m\"Dunbercker\"\u001b[39m, \u001b[32m\"NNP\"\u001b[39m),\n",
       "    (\u001b[32m\"is\"\u001b[39m, \u001b[32m\"VBZ\"\u001b[39m),\n",
       "    (\u001b[32m\"no\"\u001b[39m, \u001b[32m\"DT\"\u001b[39m),\n",
       "    (\u001b[32m\"longer\"\u001b[39m, \u001b[32m\"RB\"\u001b[39m),\n",
       "    (\u001b[32m\"happy\"\u001b[39m, \u001b[32m\"JJ\"\u001b[39m),\n",
       "    (\u001b[32m\".\"\u001b[39m, \u001b[32m\".\"\u001b[39m),\n",
       "..."
      ]
     },
     "execution_count": 10,
     "metadata": {},
     "output_type": "execute_result"
    }
   ],
   "source": [
    "for {\n",
    "    t <- result.get(\"token\")\n",
    "    p <- result.get(\"pos\")\n",
    "}yield t.zip(p)"
   ]
  },
  {
   "cell_type": "code",
   "execution_count": 11,
   "metadata": {},
   "outputs": [
    {
     "data": {
      "text/plain": [
       "\u001b[36mres10\u001b[39m: \u001b[32mOption\u001b[39m[\u001b[32mSeq\u001b[39m[(\u001b[32mString\u001b[39m, \u001b[32mString\u001b[39m, \u001b[32mString\u001b[39m, \u001b[32mString\u001b[39m)]] = \u001b[33mSome\u001b[39m(\n",
       "  \u001b[33mList\u001b[39m(\n",
       "    (\u001b[32m\"Peter\"\u001b[39m, \u001b[32m\"Peter\"\u001b[39m, \u001b[32m\"peter\"\u001b[39m, \u001b[32m\"Peter\"\u001b[39m),\n",
       "    (\u001b[32m\"is\"\u001b[39m, \u001b[32m\"be\"\u001b[39m, \u001b[32m\"i\"\u001b[39m, \u001b[32m\"is\"\u001b[39m),\n",
       "    (\u001b[32m\"a\"\u001b[39m, \u001b[32m\"a\"\u001b[39m, \u001b[32m\"a\"\u001b[39m, \u001b[32m\"a\"\u001b[39m),\n",
       "    (\u001b[32m\"very\"\u001b[39m, \u001b[32m\"very\"\u001b[39m, \u001b[32m\"veri\"\u001b[39m, \u001b[32m\"very\"\u001b[39m),\n",
       "    (\u001b[32m\"good\"\u001b[39m, \u001b[32m\"good\"\u001b[39m, \u001b[32m\"good\"\u001b[39m, \u001b[32m\"good\"\u001b[39m),\n",
       "    (\u001b[32m\"persn\"\u001b[39m, \u001b[32m\"person\"\u001b[39m, \u001b[32m\"person\"\u001b[39m, \u001b[32m\"person\"\u001b[39m),\n",
       "    (\u001b[32m\".\"\u001b[39m, \u001b[32m\".\"\u001b[39m, \u001b[32m\".\"\u001b[39m, \u001b[32m\".\"\u001b[39m),\n",
       "    (\u001b[32m\"My\"\u001b[39m, \u001b[32m\"My\"\u001b[39m, \u001b[32m\"my\"\u001b[39m, \u001b[32m\"My\"\u001b[39m),\n",
       "    (\u001b[32m\"life\"\u001b[39m, \u001b[32m\"life\"\u001b[39m, \u001b[32m\"life\"\u001b[39m, \u001b[32m\"life\"\u001b[39m),\n",
       "    (\u001b[32m\"in\"\u001b[39m, \u001b[32m\"in\"\u001b[39m, \u001b[32m\"in\"\u001b[39m, \u001b[32m\"in\"\u001b[39m),\n",
       "    (\u001b[32m\"Russia\"\u001b[39m, \u001b[32m\"Russia\"\u001b[39m, \u001b[32m\"russia\"\u001b[39m, \u001b[32m\"Russia\"\u001b[39m),\n",
       "    (\u001b[32m\"is\"\u001b[39m, \u001b[32m\"be\"\u001b[39m, \u001b[32m\"i\"\u001b[39m, \u001b[32m\"is\"\u001b[39m),\n",
       "    (\u001b[32m\"very\"\u001b[39m, \u001b[32m\"very\"\u001b[39m, \u001b[32m\"veri\"\u001b[39m, \u001b[32m\"very\"\u001b[39m),\n",
       "    (\u001b[32m\"intersting\"\u001b[39m, \u001b[32m\"interest\"\u001b[39m, \u001b[32m\"interest\"\u001b[39m, \u001b[32m\"interesting\"\u001b[39m),\n",
       "    (\u001b[32m\".\"\u001b[39m, \u001b[32m\".\"\u001b[39m, \u001b[32m\".\"\u001b[39m, \u001b[32m\".\"\u001b[39m),\n",
       "    (\u001b[32m\"John\"\u001b[39m, \u001b[32m\"John\"\u001b[39m, \u001b[32m\"john\"\u001b[39m, \u001b[32m\"John\"\u001b[39m),\n",
       "    (\u001b[32m\"and\"\u001b[39m, \u001b[32m\"and\"\u001b[39m, \u001b[32m\"and\"\u001b[39m, \u001b[32m\"and\"\u001b[39m),\n",
       "    (\u001b[32m\"Peter\"\u001b[39m, \u001b[32m\"Peter\"\u001b[39m, \u001b[32m\"peter\"\u001b[39m, \u001b[32m\"Peter\"\u001b[39m),\n",
       "    (\u001b[32m\"are\"\u001b[39m, \u001b[32m\"be\"\u001b[39m, \u001b[32m\"ar\"\u001b[39m, \u001b[32m\"are\"\u001b[39m),\n",
       "    (\u001b[32m\"brthers\"\u001b[39m, \u001b[32m\"brother\"\u001b[39m, \u001b[32m\"brother\"\u001b[39m, \u001b[32m\"brothers\"\u001b[39m),\n",
       "    (\u001b[32m\".\"\u001b[39m, \u001b[32m\".\"\u001b[39m, \u001b[32m\".\"\u001b[39m, \u001b[32m\".\"\u001b[39m),\n",
       "    (\u001b[32m\"However\"\u001b[39m, \u001b[32m\"However\"\u001b[39m, \u001b[32m\"howev\"\u001b[39m, \u001b[32m\"However\"\u001b[39m),\n",
       "    (\u001b[32m\"they\"\u001b[39m, \u001b[32m\"they\"\u001b[39m, \u001b[32m\"thei\"\u001b[39m, \u001b[32m\"they\"\u001b[39m),\n",
       "    (\u001b[32m\"don't\"\u001b[39m, \u001b[32m\"don't\"\u001b[39m, \u001b[32m\"don't\"\u001b[39m, \u001b[32m\"don't\"\u001b[39m),\n",
       "    (\u001b[32m\"support\"\u001b[39m, \u001b[32m\"support\"\u001b[39m, \u001b[32m\"support\"\u001b[39m, \u001b[32m\"support\"\u001b[39m),\n",
       "    (\u001b[32m\"each\"\u001b[39m, \u001b[32m\"each\"\u001b[39m, \u001b[32m\"each\"\u001b[39m, \u001b[32m\"each\"\u001b[39m),\n",
       "    (\u001b[32m\"other\"\u001b[39m, \u001b[32m\"other\"\u001b[39m, \u001b[32m\"other\"\u001b[39m, \u001b[32m\"other\"\u001b[39m),\n",
       "    (\u001b[32m\"that\"\u001b[39m, \u001b[32m\"that\"\u001b[39m, \u001b[32m\"that\"\u001b[39m, \u001b[32m\"that\"\u001b[39m),\n",
       "    (\u001b[32m\"much\"\u001b[39m, \u001b[32m\"much\"\u001b[39m, \u001b[32m\"much\"\u001b[39m, \u001b[32m\"much\"\u001b[39m),\n",
       "    (\u001b[32m\".\"\u001b[39m, \u001b[32m\".\"\u001b[39m, \u001b[32m\".\"\u001b[39m, \u001b[32m\".\"\u001b[39m),\n",
       "    (\u001b[32m\"Lucas\"\u001b[39m, \u001b[32m\"Lucas\"\u001b[39m, \u001b[32m\"luca\"\u001b[39m, \u001b[32m\"Lucas\"\u001b[39m),\n",
       "    (\u001b[32m\"Dunbercker\"\u001b[39m, \u001b[32m\"Dunbercker\"\u001b[39m, \u001b[32m\"dunberck\"\u001b[39m, \u001b[32m\"Dunbercker\"\u001b[39m),\n",
       "    (\u001b[32m\"is\"\u001b[39m, \u001b[32m\"be\"\u001b[39m, \u001b[32m\"i\"\u001b[39m, \u001b[32m\"is\"\u001b[39m),\n",
       "    (\u001b[32m\"no\"\u001b[39m, \u001b[32m\"no\"\u001b[39m, \u001b[32m\"no\"\u001b[39m, \u001b[32m\"no\"\u001b[39m),\n",
       "    (\u001b[32m\"longer\"\u001b[39m, \u001b[32m\"long\"\u001b[39m, \u001b[32m\"longer\"\u001b[39m, \u001b[32m\"longer\"\u001b[39m),\n",
       "    (\u001b[32m\"happy\"\u001b[39m, \u001b[32m\"happy\"\u001b[39m, \u001b[32m\"happi\"\u001b[39m, \u001b[32m\"happy\"\u001b[39m),\n",
       "    (\u001b[32m\".\"\u001b[39m, \u001b[32m\".\"\u001b[39m, \u001b[32m\".\"\u001b[39m, \u001b[32m\".\"\u001b[39m),\n",
       "..."
      ]
     },
     "execution_count": 11,
     "metadata": {},
     "output_type": "execute_result"
    }
   ],
   "source": [
    "for {\n",
    "    t <- result.get(\"token\")\n",
    "    l <- result.get(\"lemmas\")\n",
    "    st <- result.get(\"stems\")\n",
    "    sp <- result.get(\"spell\")\n",
    "}yield t zip l zip st zip sp map { case (((t,l),st),sp) => (t,l,st,sp)}"
   ]
  },
  {
   "cell_type": "code",
   "execution_count": 12,
   "metadata": {},
   "outputs": [
    {
     "name": "stdout",
     "output_type": "stream",
     "text": [
      "+----------+-----------+----+--------+--------+\n",
      "|     token|  corrected| POS|  lemmas|   stems|\n",
      "+----------+-----------+----+--------+--------+\n",
      "|     Peter|      Peter| NNP|   Peter|   peter|\n",
      "|        is|         is| VBZ|      be|       i|\n",
      "|         a|          a|  DT|       a|       a|\n",
      "|      very|       very|  RB|    very|    veri|\n",
      "|      good|       good|  JJ|    good|    good|\n",
      "|     persn|     person|  NN|  person|  person|\n",
      "|         .|          .|   .|       .|       .|\n",
      "|        My|         My|PRP$|      My|      my|\n",
      "|      life|       life|  NN|    life|    life|\n",
      "|        in|         in|  IN|      in|      in|\n",
      "|    Russia|     Russia| NNP|  Russia|  russia|\n",
      "|        is|         is| VBZ|      be|       i|\n",
      "|      very|       very|  RB|    very|    veri|\n",
      "|intersting|interesting| VBG|interest|interest|\n",
      "|         .|          .|   .|       .|       .|\n",
      "|      John|       John| NNP|    John|    john|\n",
      "|       and|        and|  CC|     and|     and|\n",
      "|     Peter|      Peter| NNP|   Peter|   peter|\n",
      "|       are|        are| VBP|      be|      ar|\n",
      "|   brthers|   brothers| NNS| brother| brother|\n",
      "+----------+-----------+----+--------+--------+\n",
      "only showing top 20 rows\n",
      "\n"
     ]
    },
    {
     "data": {
      "text/plain": [
       "\u001b[36mdfOpt\u001b[39m: \u001b[32mOption\u001b[39m[\u001b[32mSeq\u001b[39m[(\u001b[32mString\u001b[39m, \u001b[32mString\u001b[39m, \u001b[32mString\u001b[39m, \u001b[32mString\u001b[39m, \u001b[32mString\u001b[39m)]] = \u001b[33mSome\u001b[39m(\n",
       "  \u001b[33mList\u001b[39m(\n",
       "    (\u001b[32m\"Peter\"\u001b[39m, \u001b[32m\"Peter\"\u001b[39m, \u001b[32m\"NNP\"\u001b[39m, \u001b[32m\"Peter\"\u001b[39m, \u001b[32m\"peter\"\u001b[39m),\n",
       "    (\u001b[32m\"is\"\u001b[39m, \u001b[32m\"is\"\u001b[39m, \u001b[32m\"VBZ\"\u001b[39m, \u001b[32m\"be\"\u001b[39m, \u001b[32m\"i\"\u001b[39m),\n",
       "    (\u001b[32m\"a\"\u001b[39m, \u001b[32m\"a\"\u001b[39m, \u001b[32m\"DT\"\u001b[39m, \u001b[32m\"a\"\u001b[39m, \u001b[32m\"a\"\u001b[39m),\n",
       "    (\u001b[32m\"very\"\u001b[39m, \u001b[32m\"very\"\u001b[39m, \u001b[32m\"RB\"\u001b[39m, \u001b[32m\"very\"\u001b[39m, \u001b[32m\"veri\"\u001b[39m),\n",
       "    (\u001b[32m\"good\"\u001b[39m, \u001b[32m\"good\"\u001b[39m, \u001b[32m\"JJ\"\u001b[39m, \u001b[32m\"good\"\u001b[39m, \u001b[32m\"good\"\u001b[39m),\n",
       "    (\u001b[32m\"persn\"\u001b[39m, \u001b[32m\"person\"\u001b[39m, \u001b[32m\"NN\"\u001b[39m, \u001b[32m\"person\"\u001b[39m, \u001b[32m\"person\"\u001b[39m),\n",
       "    (\u001b[32m\".\"\u001b[39m, \u001b[32m\".\"\u001b[39m, \u001b[32m\".\"\u001b[39m, \u001b[32m\".\"\u001b[39m, \u001b[32m\".\"\u001b[39m),\n",
       "    (\u001b[32m\"My\"\u001b[39m, \u001b[32m\"My\"\u001b[39m, \u001b[32m\"PRP$\"\u001b[39m, \u001b[32m\"My\"\u001b[39m, \u001b[32m\"my\"\u001b[39m),\n",
       "    (\u001b[32m\"life\"\u001b[39m, \u001b[32m\"life\"\u001b[39m, \u001b[32m\"NN\"\u001b[39m, \u001b[32m\"life\"\u001b[39m, \u001b[32m\"life\"\u001b[39m),\n",
       "    (\u001b[32m\"in\"\u001b[39m, \u001b[32m\"in\"\u001b[39m, \u001b[32m\"IN\"\u001b[39m, \u001b[32m\"in\"\u001b[39m, \u001b[32m\"in\"\u001b[39m),\n",
       "    (\u001b[32m\"Russia\"\u001b[39m, \u001b[32m\"Russia\"\u001b[39m, \u001b[32m\"NNP\"\u001b[39m, \u001b[32m\"Russia\"\u001b[39m, \u001b[32m\"russia\"\u001b[39m),\n",
       "    (\u001b[32m\"is\"\u001b[39m, \u001b[32m\"is\"\u001b[39m, \u001b[32m\"VBZ\"\u001b[39m, \u001b[32m\"be\"\u001b[39m, \u001b[32m\"i\"\u001b[39m),\n",
       "    (\u001b[32m\"very\"\u001b[39m, \u001b[32m\"very\"\u001b[39m, \u001b[32m\"RB\"\u001b[39m, \u001b[32m\"very\"\u001b[39m, \u001b[32m\"veri\"\u001b[39m),\n",
       "    (\u001b[32m\"intersting\"\u001b[39m, \u001b[32m\"interesting\"\u001b[39m, \u001b[32m\"VBG\"\u001b[39m, \u001b[32m\"interest\"\u001b[39m, \u001b[32m\"interest\"\u001b[39m),\n",
       "    (\u001b[32m\".\"\u001b[39m, \u001b[32m\".\"\u001b[39m, \u001b[32m\".\"\u001b[39m, \u001b[32m\".\"\u001b[39m, \u001b[32m\".\"\u001b[39m),\n",
       "    (\u001b[32m\"John\"\u001b[39m, \u001b[32m\"John\"\u001b[39m, \u001b[32m\"NNP\"\u001b[39m, \u001b[32m\"John\"\u001b[39m, \u001b[32m\"john\"\u001b[39m),\n",
       "    (\u001b[32m\"and\"\u001b[39m, \u001b[32m\"and\"\u001b[39m, \u001b[32m\"CC\"\u001b[39m, \u001b[32m\"and\"\u001b[39m, \u001b[32m\"and\"\u001b[39m),\n",
       "    (\u001b[32m\"Peter\"\u001b[39m, \u001b[32m\"Peter\"\u001b[39m, \u001b[32m\"NNP\"\u001b[39m, \u001b[32m\"Peter\"\u001b[39m, \u001b[32m\"peter\"\u001b[39m),\n",
       "    (\u001b[32m\"are\"\u001b[39m, \u001b[32m\"are\"\u001b[39m, \u001b[32m\"VBP\"\u001b[39m, \u001b[32m\"be\"\u001b[39m, \u001b[32m\"ar\"\u001b[39m),\n",
       "    (\u001b[32m\"brthers\"\u001b[39m, \u001b[32m\"brothers\"\u001b[39m, \u001b[32m\"NNS\"\u001b[39m, \u001b[32m\"brother\"\u001b[39m, \u001b[32m\"brother\"\u001b[39m),\n",
       "    (\u001b[32m\".\"\u001b[39m, \u001b[32m\".\"\u001b[39m, \u001b[32m\".\"\u001b[39m, \u001b[32m\".\"\u001b[39m, \u001b[32m\".\"\u001b[39m),\n",
       "    (\u001b[32m\"However\"\u001b[39m, \u001b[32m\"However\"\u001b[39m, \u001b[32m\"RB\"\u001b[39m, \u001b[32m\"However\"\u001b[39m, \u001b[32m\"howev\"\u001b[39m),\n",
       "    (\u001b[32m\"they\"\u001b[39m, \u001b[32m\"they\"\u001b[39m, \u001b[32m\"PRP\"\u001b[39m, \u001b[32m\"they\"\u001b[39m, \u001b[32m\"thei\"\u001b[39m),\n",
       "    (\u001b[32m\"don't\"\u001b[39m, \u001b[32m\"don't\"\u001b[39m, \u001b[32m\"VBP\"\u001b[39m, \u001b[32m\"don't\"\u001b[39m, \u001b[32m\"don't\"\u001b[39m),\n",
       "    (\u001b[32m\"support\"\u001b[39m, \u001b[32m\"support\"\u001b[39m, \u001b[32m\"VB\"\u001b[39m, \u001b[32m\"support\"\u001b[39m, \u001b[32m\"support\"\u001b[39m),\n",
       "    (\u001b[32m\"each\"\u001b[39m, \u001b[32m\"each\"\u001b[39m, \u001b[32m\"DT\"\u001b[39m, \u001b[32m\"each\"\u001b[39m, \u001b[32m\"each\"\u001b[39m),\n",
       "    (\u001b[32m\"other\"\u001b[39m, \u001b[32m\"other\"\u001b[39m, \u001b[32m\"JJ\"\u001b[39m, \u001b[32m\"other\"\u001b[39m, \u001b[32m\"other\"\u001b[39m),\n",
       "    (\u001b[32m\"that\"\u001b[39m, \u001b[32m\"that\"\u001b[39m, \u001b[32m\"IN\"\u001b[39m, \u001b[32m\"that\"\u001b[39m, \u001b[32m\"that\"\u001b[39m),\n",
       "    (\u001b[32m\"much\"\u001b[39m, \u001b[32m\"much\"\u001b[39m, \u001b[32m\"JJ\"\u001b[39m, \u001b[32m\"much\"\u001b[39m, \u001b[32m\"much\"\u001b[39m),\n",
       "    (\u001b[32m\".\"\u001b[39m, \u001b[32m\".\"\u001b[39m, \u001b[32m\".\"\u001b[39m, \u001b[32m\".\"\u001b[39m, \u001b[32m\".\"\u001b[39m),\n",
       "    (\u001b[32m\"Lucas\"\u001b[39m, \u001b[32m\"Lucas\"\u001b[39m, \u001b[32m\"NNP\"\u001b[39m, \u001b[32m\"Lucas\"\u001b[39m, \u001b[32m\"luca\"\u001b[39m),\n",
       "    (\u001b[32m\"Dunbercker\"\u001b[39m, \u001b[32m\"Dunbercker\"\u001b[39m, \u001b[32m\"NNP\"\u001b[39m, \u001b[32m\"Dunbercker\"\u001b[39m, \u001b[32m\"dunberck\"\u001b[39m),\n",
       "    (\u001b[32m\"is\"\u001b[39m, \u001b[32m\"is\"\u001b[39m, \u001b[32m\"VBZ\"\u001b[39m, \u001b[32m\"be\"\u001b[39m, \u001b[32m\"i\"\u001b[39m),\n",
       "    (\u001b[32m\"no\"\u001b[39m, \u001b[32m\"no\"\u001b[39m, \u001b[32m\"DT\"\u001b[39m, \u001b[32m\"no\"\u001b[39m, \u001b[32m\"no\"\u001b[39m),\n",
       "    (\u001b[32m\"longer\"\u001b[39m, \u001b[32m\"longer\"\u001b[39m, \u001b[32m\"RB\"\u001b[39m, \u001b[32m\"long\"\u001b[39m, \u001b[32m\"longer\"\u001b[39m),\n",
       "    (\u001b[32m\"happy\"\u001b[39m, \u001b[32m\"happy\"\u001b[39m, \u001b[32m\"JJ\"\u001b[39m, \u001b[32m\"happy\"\u001b[39m, \u001b[32m\"happi\"\u001b[39m),\n",
       "    (\u001b[32m\".\"\u001b[39m, \u001b[32m\".\"\u001b[39m, \u001b[32m\".\"\u001b[39m, \u001b[32m\".\"\u001b[39m, \u001b[32m\".\"\u001b[39m),\n",
       "...\n",
       "\u001b[36mdf\u001b[39m: \u001b[32morg\u001b[39m.\u001b[32mapache\u001b[39m.\u001b[32mspark\u001b[39m.\u001b[32msql\u001b[39m.\u001b[32mpackage\u001b[39m.\u001b[32mDataFrame\u001b[39m = [token: string, corrected: string ... 3 more fields]"
      ]
     },
     "execution_count": 12,
     "metadata": {},
     "output_type": "execute_result"
    }
   ],
   "source": [
    "val dfOpt = for {\n",
    "    t <- result.get(\"token\")\n",
    "    c <- result.get(\"spell\")\n",
    "    p <- result.get(\"pos\")\n",
    "    l <- result.get(\"lemmas\")\n",
    "    s <- result.get(\"stems\")\n",
    "}yield t zip c zip p zip l zip s map { case ((((t, c),p),l),s) => (t,c,p,l,s)}\n",
    "\n",
    "val df = sparkSession.createDataFrame(dfOpt.get).toDF(\"token\", \"corrected\", \"POS\", \"lemmas\", \"stems\")\n",
    "df.show()"
   ]
  },
  {
   "cell_type": "markdown",
   "metadata": {},
   "source": [
    "### Explain Document DL"
   ]
  },
  {
   "cell_type": "markdown",
   "metadata": {},
   "source": [
    "**Stages**\n",
    "- DocumentAssembler\n",
    "- SentenceDetector\n",
    "- Tokenizer\n",
    "- NER (NER with GloVe 100D embeddings, CoNLL2003 dataset)\n",
    "- Lemmatizer\n",
    "- Stemmer\n",
    "- Part of Speech\n",
    "- SpellChecker (Norvig)\n"
   ]
  },
  {
   "cell_type": "code",
   "execution_count": 13,
   "metadata": {},
   "outputs": [
    {
     "name": "stdout",
     "output_type": "stream",
     "text": [
      "explain_document_dl download started this may take some time.\n",
      "Approximate size to download 169.3 MB\n",
      "Download done! Loading the resource.\n"
     ]
    },
    {
     "data": {
      "text/html": [
       "<div>\n",
       "  <span style=\"float: left;\">first at ReadWrite.scala:587</span>\n",
       "</div>\n"
      ]
     },
     "metadata": {},
     "output_type": "display_data"
    },
    {
     "data": {
      "text/html": [
       "<div class=\"progress\">\n",
       "  <div class=\"progress-bar\" role=\"progressbar\" style=\"background-color: blue; width: 100%; word-wrap: normal; white-space: nowrap; text-align: center; color: white\" aria-valuenow=\"100\" aria-valuemin=\"0\" aria-valuemax=\"100\">\n",
       "    1 / 1\n",
       "  </div>\n",
       "  <div class=\"progress-bar\" role=\"progressbar\" style=\"background-color: red; width: 0%\" aria-valuenow=\"0\" aria-valuemin=\"0\" aria-valuemax=\"100\"></div>\n",
       "</div>\n"
      ]
     },
     "metadata": {},
     "output_type": "display_data"
    },
    {
     "data": {
      "text/html": [
       "<div>\n",
       "  <span style=\"float: left;\">first at ReadWrite.scala:587</span>\n",
       "</div>\n"
      ]
     },
     "metadata": {},
     "output_type": "display_data"
    },
    {
     "data": {
      "text/html": [
       "<div class=\"progress\">\n",
       "  <div class=\"progress-bar\" role=\"progressbar\" style=\"background-color: blue; width: 100%; word-wrap: normal; white-space: nowrap; text-align: center; color: white\" aria-valuenow=\"100\" aria-valuemin=\"0\" aria-valuemax=\"100\">\n",
       "    1 / 1\n",
       "  </div>\n",
       "  <div class=\"progress-bar\" role=\"progressbar\" style=\"background-color: red; width: 0%\" aria-valuenow=\"0\" aria-valuemin=\"0\" aria-valuemax=\"100\"></div>\n",
       "</div>\n"
      ]
     },
     "metadata": {},
     "output_type": "display_data"
    },
    {
     "data": {
      "text/html": [
       "<div>\n",
       "  <span style=\"float: left;\">first at ReadWrite.scala:587</span>\n",
       "</div>\n"
      ]
     },
     "metadata": {},
     "output_type": "display_data"
    },
    {
     "data": {
      "text/html": [
       "<div class=\"progress\">\n",
       "  <div class=\"progress-bar\" role=\"progressbar\" style=\"background-color: blue; width: 100%; word-wrap: normal; white-space: nowrap; text-align: center; color: white\" aria-valuenow=\"100\" aria-valuemin=\"0\" aria-valuemax=\"100\">\n",
       "    1 / 1\n",
       "  </div>\n",
       "  <div class=\"progress-bar\" role=\"progressbar\" style=\"background-color: red; width: 0%\" aria-valuenow=\"0\" aria-valuemin=\"0\" aria-valuemax=\"100\"></div>\n",
       "</div>\n"
      ]
     },
     "metadata": {},
     "output_type": "display_data"
    },
    {
     "data": {
      "text/html": [
       "<div>\n",
       "  <span style=\"float: left;\">first at ReadWrite.scala:587</span>\n",
       "</div>\n"
      ]
     },
     "metadata": {},
     "output_type": "display_data"
    },
    {
     "data": {
      "text/html": [
       "<div class=\"progress\">\n",
       "  <div class=\"progress-bar\" role=\"progressbar\" style=\"background-color: blue; width: 100%; word-wrap: normal; white-space: nowrap; text-align: center; color: white\" aria-valuenow=\"100\" aria-valuemin=\"0\" aria-valuemax=\"100\">\n",
       "    1 / 1\n",
       "  </div>\n",
       "  <div class=\"progress-bar\" role=\"progressbar\" style=\"background-color: red; width: 0%\" aria-valuenow=\"0\" aria-valuemin=\"0\" aria-valuemax=\"100\"></div>\n",
       "</div>\n"
      ]
     },
     "metadata": {},
     "output_type": "display_data"
    },
    {
     "data": {
      "text/html": [
       "<div>\n",
       "  <span style=\"float: left;\">first at ReadWrite.scala:587</span>\n",
       "</div>\n"
      ]
     },
     "metadata": {},
     "output_type": "display_data"
    },
    {
     "data": {
      "text/html": [
       "<div class=\"progress\">\n",
       "  <div class=\"progress-bar\" role=\"progressbar\" style=\"background-color: blue; width: 100%; word-wrap: normal; white-space: nowrap; text-align: center; color: white\" aria-valuenow=\"100\" aria-valuemin=\"0\" aria-valuemax=\"100\">\n",
       "    1 / 1\n",
       "  </div>\n",
       "  <div class=\"progress-bar\" role=\"progressbar\" style=\"background-color: red; width: 0%\" aria-valuenow=\"0\" aria-valuemin=\"0\" aria-valuemax=\"100\"></div>\n",
       "</div>\n"
      ]
     },
     "metadata": {},
     "output_type": "display_data"
    },
    {
     "data": {
      "text/html": [
       "<div>\n",
       "  <span style=\"float: left;\">first at ReadWrite.scala:587</span>\n",
       "</div>\n"
      ]
     },
     "metadata": {},
     "output_type": "display_data"
    },
    {
     "data": {
      "text/html": [
       "<div class=\"progress\">\n",
       "  <div class=\"progress-bar\" role=\"progressbar\" style=\"background-color: blue; width: 100%; word-wrap: normal; white-space: nowrap; text-align: center; color: white\" aria-valuenow=\"100\" aria-valuemin=\"0\" aria-valuemax=\"100\">\n",
       "    1 / 1\n",
       "  </div>\n",
       "  <div class=\"progress-bar\" role=\"progressbar\" style=\"background-color: red; width: 0%\" aria-valuenow=\"0\" aria-valuemin=\"0\" aria-valuemax=\"100\"></div>\n",
       "</div>\n"
      ]
     },
     "metadata": {},
     "output_type": "display_data"
    },
    {
     "data": {
      "text/html": [
       "<div>\n",
       "  <span style=\"float: left;\">first at ReadWrite.scala:587</span>\n",
       "</div>\n"
      ]
     },
     "metadata": {},
     "output_type": "display_data"
    },
    {
     "data": {
      "text/html": [
       "<div class=\"progress\">\n",
       "  <div class=\"progress-bar\" role=\"progressbar\" style=\"background-color: blue; width: 100%; word-wrap: normal; white-space: nowrap; text-align: center; color: white\" aria-valuenow=\"100\" aria-valuemin=\"0\" aria-valuemax=\"100\">\n",
       "    1 / 1\n",
       "  </div>\n",
       "  <div class=\"progress-bar\" role=\"progressbar\" style=\"background-color: red; width: 0%\" aria-valuenow=\"0\" aria-valuemin=\"0\" aria-valuemax=\"100\"></div>\n",
       "</div>\n"
      ]
     },
     "metadata": {},
     "output_type": "display_data"
    },
    {
     "data": {
      "text/html": [
       "<div>\n",
       "  <span style=\"float: left;\">first at Feature.scala:120</span>\n",
       "</div>\n"
      ]
     },
     "metadata": {},
     "output_type": "display_data"
    },
    {
     "data": {
      "text/html": [
       "<div class=\"progress\">\n",
       "  <div class=\"progress-bar\" role=\"progressbar\" style=\"background-color: blue; width: 100%; word-wrap: normal; white-space: nowrap; text-align: center; color: white\" aria-valuenow=\"100\" aria-valuemin=\"0\" aria-valuemax=\"100\">\n",
       "    1 / 1\n",
       "  </div>\n",
       "  <div class=\"progress-bar\" role=\"progressbar\" style=\"background-color: red; width: 0%\" aria-valuenow=\"0\" aria-valuemin=\"0\" aria-valuemax=\"100\"></div>\n",
       "</div>\n"
      ]
     },
     "metadata": {},
     "output_type": "display_data"
    },
    {
     "data": {
      "text/html": [
       "<div>\n",
       "  <span style=\"float: left;\">first at Feature.scala:120</span>\n",
       "</div>\n"
      ]
     },
     "metadata": {},
     "output_type": "display_data"
    },
    {
     "data": {
      "text/html": [
       "<div class=\"progress\">\n",
       "  <div class=\"progress-bar\" role=\"progressbar\" style=\"background-color: blue; width: 100%; word-wrap: normal; white-space: nowrap; text-align: center; color: white\" aria-valuenow=\"100\" aria-valuemin=\"0\" aria-valuemax=\"100\">\n",
       "    4 / 4\n",
       "  </div>\n",
       "  <div class=\"progress-bar\" role=\"progressbar\" style=\"background-color: red; width: 0%\" aria-valuenow=\"0\" aria-valuemin=\"0\" aria-valuemax=\"100\"></div>\n",
       "</div>\n"
      ]
     },
     "metadata": {},
     "output_type": "display_data"
    },
    {
     "data": {
      "text/html": [
       "<div>\n",
       "  <span style=\"float: left;\">first at Feature.scala:120</span>\n",
       "</div>\n"
      ]
     },
     "metadata": {},
     "output_type": "display_data"
    },
    {
     "data": {
      "text/html": [
       "<div class=\"progress\">\n",
       "  <div class=\"progress-bar\" role=\"progressbar\" style=\"background-color: blue; width: 100%; word-wrap: normal; white-space: nowrap; text-align: center; color: white\" aria-valuenow=\"100\" aria-valuemin=\"0\" aria-valuemax=\"100\">\n",
       "    12 / 12\n",
       "  </div>\n",
       "  <div class=\"progress-bar\" role=\"progressbar\" style=\"background-color: red; width: 0%\" aria-valuenow=\"0\" aria-valuemin=\"0\" aria-valuemax=\"100\"></div>\n",
       "</div>\n"
      ]
     },
     "metadata": {},
     "output_type": "display_data"
    },
    {
     "data": {
      "text/html": [
       "<div>\n",
       "  <span style=\"float: left;\">first at ReadWrite.scala:587</span>\n",
       "</div>\n"
      ]
     },
     "metadata": {},
     "output_type": "display_data"
    },
    {
     "data": {
      "text/html": [
       "<div class=\"progress\">\n",
       "  <div class=\"progress-bar\" role=\"progressbar\" style=\"background-color: blue; width: 100%; word-wrap: normal; white-space: nowrap; text-align: center; color: white\" aria-valuenow=\"100\" aria-valuemin=\"0\" aria-valuemax=\"100\">\n",
       "    1 / 1\n",
       "  </div>\n",
       "  <div class=\"progress-bar\" role=\"progressbar\" style=\"background-color: red; width: 0%\" aria-valuenow=\"0\" aria-valuemin=\"0\" aria-valuemax=\"100\"></div>\n",
       "</div>\n"
      ]
     },
     "metadata": {},
     "output_type": "display_data"
    },
    {
     "data": {
      "text/html": [
       "<div>\n",
       "  <span style=\"float: left;\">first at ReadWrite.scala:587</span>\n",
       "</div>\n"
      ]
     },
     "metadata": {},
     "output_type": "display_data"
    },
    {
     "data": {
      "text/html": [
       "<div class=\"progress\">\n",
       "  <div class=\"progress-bar\" role=\"progressbar\" style=\"background-color: blue; width: 100%; word-wrap: normal; white-space: nowrap; text-align: center; color: white\" aria-valuenow=\"100\" aria-valuemin=\"0\" aria-valuemax=\"100\">\n",
       "    1 / 1\n",
       "  </div>\n",
       "  <div class=\"progress-bar\" role=\"progressbar\" style=\"background-color: red; width: 0%\" aria-valuenow=\"0\" aria-valuemin=\"0\" aria-valuemax=\"100\"></div>\n",
       "</div>\n"
      ]
     },
     "metadata": {},
     "output_type": "display_data"
    },
    {
     "data": {
      "text/html": [
       "<div>\n",
       "  <span style=\"float: left;\">collect at Feature.scala:161</span>\n",
       "</div>\n"
      ]
     },
     "metadata": {},
     "output_type": "display_data"
    },
    {
     "data": {
      "text/html": [
       "<div class=\"progress\">\n",
       "  <div class=\"progress-bar\" role=\"progressbar\" style=\"background-color: blue; width: 100%; word-wrap: normal; white-space: nowrap; text-align: center; color: white\" aria-valuenow=\"100\" aria-valuemin=\"0\" aria-valuemax=\"100\">\n",
       "    12 / 12\n",
       "  </div>\n",
       "  <div class=\"progress-bar\" role=\"progressbar\" style=\"background-color: red; width: 0%\" aria-valuenow=\"0\" aria-valuemin=\"0\" aria-valuemax=\"100\"></div>\n",
       "</div>\n"
      ]
     },
     "metadata": {},
     "output_type": "display_data"
    },
    {
     "data": {
      "text/html": [
       "<div>\n",
       "  <span style=\"float: left;\">first at ReadWrite.scala:587</span>\n",
       "</div>\n"
      ]
     },
     "metadata": {},
     "output_type": "display_data"
    },
    {
     "data": {
      "text/html": [
       "<div class=\"progress\">\n",
       "  <div class=\"progress-bar\" role=\"progressbar\" style=\"background-color: blue; width: 100%; word-wrap: normal; white-space: nowrap; text-align: center; color: white\" aria-valuenow=\"100\" aria-valuemin=\"0\" aria-valuemax=\"100\">\n",
       "    1 / 1\n",
       "  </div>\n",
       "  <div class=\"progress-bar\" role=\"progressbar\" style=\"background-color: red; width: 0%\" aria-valuenow=\"0\" aria-valuemin=\"0\" aria-valuemax=\"100\"></div>\n",
       "</div>\n"
      ]
     },
     "metadata": {},
     "output_type": "display_data"
    },
    {
     "data": {
      "text/html": [
       "<div>\n",
       "  <span style=\"float: left;\">first at ReadWrite.scala:587</span>\n",
       "</div>\n"
      ]
     },
     "metadata": {},
     "output_type": "display_data"
    },
    {
     "data": {
      "text/html": [
       "<div class=\"progress\">\n",
       "  <div class=\"progress-bar\" role=\"progressbar\" style=\"background-color: blue; width: 100%; word-wrap: normal; white-space: nowrap; text-align: center; color: white\" aria-valuenow=\"100\" aria-valuemin=\"0\" aria-valuemax=\"100\">\n",
       "    1 / 1\n",
       "  </div>\n",
       "  <div class=\"progress-bar\" role=\"progressbar\" style=\"background-color: red; width: 0%\" aria-valuenow=\"0\" aria-valuemin=\"0\" aria-valuemax=\"100\"></div>\n",
       "</div>\n"
      ]
     },
     "metadata": {},
     "output_type": "display_data"
    },
    {
     "data": {
      "text/html": [
       "<div>\n",
       "  <span style=\"float: left;\">collect at Feature.scala:161</span>\n",
       "</div>\n"
      ]
     },
     "metadata": {},
     "output_type": "display_data"
    },
    {
     "data": {
      "text/html": [
       "<div class=\"progress\">\n",
       "  <div class=\"progress-bar\" role=\"progressbar\" style=\"background-color: blue; width: 100%; word-wrap: normal; white-space: nowrap; text-align: center; color: white\" aria-valuenow=\"100\" aria-valuemin=\"0\" aria-valuemax=\"100\">\n",
       "    12 / 12\n",
       "  </div>\n",
       "  <div class=\"progress-bar\" role=\"progressbar\" style=\"background-color: red; width: 0%\" aria-valuenow=\"0\" aria-valuemin=\"0\" aria-valuemax=\"100\"></div>\n",
       "</div>\n"
      ]
     },
     "metadata": {},
     "output_type": "display_data"
    },
    {
     "data": {
      "text/html": [
       "<div>\n",
       "  <span style=\"float: left;\">first at ReadWrite.scala:587</span>\n",
       "</div>\n"
      ]
     },
     "metadata": {},
     "output_type": "display_data"
    },
    {
     "data": {
      "text/html": [
       "<div class=\"progress\">\n",
       "  <div class=\"progress-bar\" role=\"progressbar\" style=\"background-color: blue; width: 100%; word-wrap: normal; white-space: nowrap; text-align: center; color: white\" aria-valuenow=\"100\" aria-valuemin=\"0\" aria-valuemax=\"100\">\n",
       "    1 / 1\n",
       "  </div>\n",
       "  <div class=\"progress-bar\" role=\"progressbar\" style=\"background-color: red; width: 0%\" aria-valuenow=\"0\" aria-valuemin=\"0\" aria-valuemax=\"100\"></div>\n",
       "</div>\n"
      ]
     },
     "metadata": {},
     "output_type": "display_data"
    },
    {
     "data": {
      "text/html": [
       "<div>\n",
       "  <span style=\"float: left;\">first at ReadWrite.scala:587</span>\n",
       "</div>\n"
      ]
     },
     "metadata": {},
     "output_type": "display_data"
    },
    {
     "data": {
      "text/html": [
       "<div class=\"progress\">\n",
       "  <div class=\"progress-bar\" role=\"progressbar\" style=\"background-color: blue; width: 100%; word-wrap: normal; white-space: nowrap; text-align: center; color: white\" aria-valuenow=\"100\" aria-valuemin=\"0\" aria-valuemax=\"100\">\n",
       "    1 / 1\n",
       "  </div>\n",
       "  <div class=\"progress-bar\" role=\"progressbar\" style=\"background-color: red; width: 0%\" aria-valuenow=\"0\" aria-valuemin=\"0\" aria-valuemax=\"100\"></div>\n",
       "</div>\n"
      ]
     },
     "metadata": {},
     "output_type": "display_data"
    },
    {
     "data": {
      "text/html": [
       "<div>\n",
       "  <span style=\"float: left;\">first at ReadWrite.scala:587</span>\n",
       "</div>\n"
      ]
     },
     "metadata": {},
     "output_type": "display_data"
    },
    {
     "data": {
      "text/html": [
       "<div class=\"progress\">\n",
       "  <div class=\"progress-bar\" role=\"progressbar\" style=\"background-color: blue; width: 100%; word-wrap: normal; white-space: nowrap; text-align: center; color: white\" aria-valuenow=\"100\" aria-valuemin=\"0\" aria-valuemax=\"100\">\n",
       "    1 / 1\n",
       "  </div>\n",
       "  <div class=\"progress-bar\" role=\"progressbar\" style=\"background-color: red; width: 0%\" aria-valuenow=\"0\" aria-valuemin=\"0\" aria-valuemax=\"100\"></div>\n",
       "</div>\n"
      ]
     },
     "metadata": {},
     "output_type": "display_data"
    },
    {
     "data": {
      "text/html": [
       "<div>\n",
       "  <span style=\"float: left;\">first at ReadWrite.scala:587</span>\n",
       "</div>\n"
      ]
     },
     "metadata": {},
     "output_type": "display_data"
    },
    {
     "data": {
      "text/html": [
       "<div class=\"progress\">\n",
       "  <div class=\"progress-bar\" role=\"progressbar\" style=\"background-color: blue; width: 100%; word-wrap: normal; white-space: nowrap; text-align: center; color: white\" aria-valuenow=\"100\" aria-valuemin=\"0\" aria-valuemax=\"100\">\n",
       "    1 / 1\n",
       "  </div>\n",
       "  <div class=\"progress-bar\" role=\"progressbar\" style=\"background-color: red; width: 0%\" aria-valuenow=\"0\" aria-valuemin=\"0\" aria-valuemax=\"100\"></div>\n",
       "</div>\n"
      ]
     },
     "metadata": {},
     "output_type": "display_data"
    },
    {
     "data": {
      "text/html": [
       "<div>\n",
       "  <span style=\"float: left;\">first at Feature.scala:120</span>\n",
       "</div>\n"
      ]
     },
     "metadata": {},
     "output_type": "display_data"
    },
    {
     "data": {
      "text/html": [
       "<div class=\"progress\">\n",
       "  <div class=\"progress-bar\" role=\"progressbar\" style=\"background-color: blue; width: 100%; word-wrap: normal; white-space: nowrap; text-align: center; color: white\" aria-valuenow=\"100\" aria-valuemin=\"0\" aria-valuemax=\"100\">\n",
       "    1 / 1\n",
       "  </div>\n",
       "  <div class=\"progress-bar\" role=\"progressbar\" style=\"background-color: red; width: 0%\" aria-valuenow=\"0\" aria-valuemin=\"0\" aria-valuemax=\"100\"></div>\n",
       "</div>\n"
      ]
     },
     "metadata": {},
     "output_type": "display_data"
    },
    {
     "data": {
      "text/html": [
       "<div>\n",
       "  <span style=\"float: left;\">first at Feature.scala:120</span>\n",
       "</div>\n"
      ]
     },
     "metadata": {},
     "output_type": "display_data"
    },
    {
     "data": {
      "text/html": [
       "<div class=\"progress\">\n",
       "  <div class=\"progress-bar\" role=\"progressbar\" style=\"background-color: blue; width: 100%; word-wrap: normal; white-space: nowrap; text-align: center; color: white\" aria-valuenow=\"100\" aria-valuemin=\"0\" aria-valuemax=\"100\">\n",
       "    4 / 4\n",
       "  </div>\n",
       "  <div class=\"progress-bar\" role=\"progressbar\" style=\"background-color: red; width: 0%\" aria-valuenow=\"0\" aria-valuemin=\"0\" aria-valuemax=\"100\"></div>\n",
       "</div>\n"
      ]
     },
     "metadata": {},
     "output_type": "display_data"
    },
    {
     "data": {
      "text/html": [
       "<div>\n",
       "  <span style=\"float: left;\">first at Feature.scala:120</span>\n",
       "</div>\n"
      ]
     },
     "metadata": {},
     "output_type": "display_data"
    },
    {
     "data": {
      "text/html": [
       "<div class=\"progress\">\n",
       "  <div class=\"progress-bar\" role=\"progressbar\" style=\"background-color: blue; width: 100%; word-wrap: normal; white-space: nowrap; text-align: center; color: white\" aria-valuenow=\"100\" aria-valuemin=\"0\" aria-valuemax=\"100\">\n",
       "    12 / 12\n",
       "  </div>\n",
       "  <div class=\"progress-bar\" role=\"progressbar\" style=\"background-color: red; width: 0%\" aria-valuenow=\"0\" aria-valuemin=\"0\" aria-valuemax=\"100\"></div>\n",
       "</div>\n"
      ]
     },
     "metadata": {},
     "output_type": "display_data"
    },
    {
     "data": {
      "text/html": [
       "<div>\n",
       "  <span style=\"float: left;\">first at ReadWrite.scala:587</span>\n",
       "</div>\n"
      ]
     },
     "metadata": {},
     "output_type": "display_data"
    },
    {
     "data": {
      "text/html": [
       "<div class=\"progress\">\n",
       "  <div class=\"progress-bar\" role=\"progressbar\" style=\"background-color: blue; width: 100%; word-wrap: normal; white-space: nowrap; text-align: center; color: white\" aria-valuenow=\"100\" aria-valuemin=\"0\" aria-valuemax=\"100\">\n",
       "    1 / 1\n",
       "  </div>\n",
       "  <div class=\"progress-bar\" role=\"progressbar\" style=\"background-color: red; width: 0%\" aria-valuenow=\"0\" aria-valuemin=\"0\" aria-valuemax=\"100\"></div>\n",
       "</div>\n"
      ]
     },
     "metadata": {},
     "output_type": "display_data"
    },
    {
     "data": {
      "text/html": [
       "<div>\n",
       "  <span style=\"float: left;\">first at ReadWrite.scala:587</span>\n",
       "</div>\n"
      ]
     },
     "metadata": {},
     "output_type": "display_data"
    },
    {
     "data": {
      "text/html": [
       "<div class=\"progress\">\n",
       "  <div class=\"progress-bar\" role=\"progressbar\" style=\"background-color: blue; width: 100%; word-wrap: normal; white-space: nowrap; text-align: center; color: white\" aria-valuenow=\"100\" aria-valuemin=\"0\" aria-valuemax=\"100\">\n",
       "    1 / 1\n",
       "  </div>\n",
       "  <div class=\"progress-bar\" role=\"progressbar\" style=\"background-color: red; width: 0%\" aria-valuenow=\"0\" aria-valuemin=\"0\" aria-valuemax=\"100\"></div>\n",
       "</div>\n"
      ]
     },
     "metadata": {},
     "output_type": "display_data"
    },
    {
     "data": {
      "text/html": [
       "<div>\n",
       "  <span style=\"float: left;\">first at ReadWrite.scala:587</span>\n",
       "</div>\n"
      ]
     },
     "metadata": {},
     "output_type": "display_data"
    },
    {
     "data": {
      "text/html": [
       "<div class=\"progress\">\n",
       "  <div class=\"progress-bar\" role=\"progressbar\" style=\"background-color: blue; width: 100%; word-wrap: normal; white-space: nowrap; text-align: center; color: white\" aria-valuenow=\"100\" aria-valuemin=\"0\" aria-valuemax=\"100\">\n",
       "    1 / 1\n",
       "  </div>\n",
       "  <div class=\"progress-bar\" role=\"progressbar\" style=\"background-color: red; width: 0%\" aria-valuenow=\"0\" aria-valuemin=\"0\" aria-valuemax=\"100\"></div>\n",
       "</div>\n"
      ]
     },
     "metadata": {},
     "output_type": "display_data"
    },
    {
     "data": {
      "text/html": [
       "<div>\n",
       "  <span style=\"float: left;\">first at ReadWrite.scala:587</span>\n",
       "</div>\n"
      ]
     },
     "metadata": {},
     "output_type": "display_data"
    },
    {
     "data": {
      "text/html": [
       "<div class=\"progress\">\n",
       "  <div class=\"progress-bar\" role=\"progressbar\" style=\"background-color: blue; width: 100%; word-wrap: normal; white-space: nowrap; text-align: center; color: white\" aria-valuenow=\"100\" aria-valuemin=\"0\" aria-valuemax=\"100\">\n",
       "    1 / 1\n",
       "  </div>\n",
       "  <div class=\"progress-bar\" role=\"progressbar\" style=\"background-color: red; width: 0%\" aria-valuenow=\"0\" aria-valuemin=\"0\" aria-valuemax=\"100\"></div>\n",
       "</div>\n"
      ]
     },
     "metadata": {},
     "output_type": "display_data"
    },
    {
     "data": {
      "text/html": [
       "<div>\n",
       "  <span style=\"float: left;\">first at Feature.scala:120</span>\n",
       "</div>\n"
      ]
     },
     "metadata": {},
     "output_type": "display_data"
    },
    {
     "data": {
      "text/html": [
       "<div class=\"progress\">\n",
       "  <div class=\"progress-bar\" role=\"progressbar\" style=\"background-color: blue; width: 100%; word-wrap: normal; white-space: nowrap; text-align: center; color: white\" aria-valuenow=\"100\" aria-valuemin=\"0\" aria-valuemax=\"100\">\n",
       "    1 / 1\n",
       "  </div>\n",
       "  <div class=\"progress-bar\" role=\"progressbar\" style=\"background-color: red; width: 0%\" aria-valuenow=\"0\" aria-valuemin=\"0\" aria-valuemax=\"100\"></div>\n",
       "</div>\n"
      ]
     },
     "metadata": {},
     "output_type": "display_data"
    },
    {
     "data": {
      "text/html": [
       "<div>\n",
       "  <span style=\"float: left;\">first at Feature.scala:120</span>\n",
       "</div>\n"
      ]
     },
     "metadata": {},
     "output_type": "display_data"
    },
    {
     "data": {
      "text/html": [
       "<div class=\"progress\">\n",
       "  <div class=\"progress-bar\" role=\"progressbar\" style=\"background-color: blue; width: 100%; word-wrap: normal; white-space: nowrap; text-align: center; color: white\" aria-valuenow=\"100\" aria-valuemin=\"0\" aria-valuemax=\"100\">\n",
       "    4 / 4\n",
       "  </div>\n",
       "  <div class=\"progress-bar\" role=\"progressbar\" style=\"background-color: red; width: 0%\" aria-valuenow=\"0\" aria-valuemin=\"0\" aria-valuemax=\"100\"></div>\n",
       "</div>\n"
      ]
     },
     "metadata": {},
     "output_type": "display_data"
    },
    {
     "data": {
      "text/html": [
       "<div>\n",
       "  <span style=\"float: left;\">first at ReadWrite.scala:587</span>\n",
       "</div>\n"
      ]
     },
     "metadata": {},
     "output_type": "display_data"
    },
    {
     "data": {
      "text/html": [
       "<div class=\"progress\">\n",
       "  <div class=\"progress-bar\" role=\"progressbar\" style=\"background-color: blue; width: 100%; word-wrap: normal; white-space: nowrap; text-align: center; color: white\" aria-valuenow=\"100\" aria-valuemin=\"0\" aria-valuemax=\"100\">\n",
       "    1 / 1\n",
       "  </div>\n",
       "  <div class=\"progress-bar\" role=\"progressbar\" style=\"background-color: red; width: 0%\" aria-valuenow=\"0\" aria-valuemin=\"0\" aria-valuemax=\"100\"></div>\n",
       "</div>\n"
      ]
     },
     "metadata": {},
     "output_type": "display_data"
    },
    {
     "data": {
      "text/html": [
       "<div>\n",
       "  <span style=\"float: left;\">first at ReadWrite.scala:587</span>\n",
       "</div>\n"
      ]
     },
     "metadata": {},
     "output_type": "display_data"
    },
    {
     "data": {
      "text/html": [
       "<div class=\"progress\">\n",
       "  <div class=\"progress-bar\" role=\"progressbar\" style=\"background-color: blue; width: 100%; word-wrap: normal; white-space: nowrap; text-align: center; color: white\" aria-valuenow=\"100\" aria-valuemin=\"0\" aria-valuemax=\"100\">\n",
       "    1 / 1\n",
       "  </div>\n",
       "  <div class=\"progress-bar\" role=\"progressbar\" style=\"background-color: red; width: 0%\" aria-valuenow=\"0\" aria-valuemin=\"0\" aria-valuemax=\"100\"></div>\n",
       "</div>\n"
      ]
     },
     "metadata": {},
     "output_type": "display_data"
    },
    {
     "data": {
      "text/plain": [
       "\u001b[36mpipeline_dl\u001b[39m: \u001b[32mPretrainedPipeline\u001b[39m = \u001b[33mPretrainedPipeline\u001b[39m(\n",
       "  \u001b[32m\"explain_document_dl\"\u001b[39m,\n",
       "  \u001b[32m\"en\"\u001b[39m,\n",
       "  \u001b[32m\"public/models\"\u001b[39m,\n",
       "  false,\n",
       "  \u001b[32mNone\u001b[39m\n",
       ")"
      ]
     },
     "execution_count": 13,
     "metadata": {},
     "output_type": "execute_result"
    }
   ],
   "source": [
    "val pipeline_dl = PretrainedPipeline(\"explain_document_dl\", lang=\"en\")"
   ]
  },
  {
   "cell_type": "code",
   "execution_count": 14,
   "metadata": {},
   "outputs": [
    {
     "data": {
      "text/plain": [
       "\u001b[36mres13\u001b[39m: \u001b[32mArray\u001b[39m[\u001b[32morg\u001b[39m.\u001b[32mapache\u001b[39m.\u001b[32mspark\u001b[39m.\u001b[32mml\u001b[39m.\u001b[32mTransformer\u001b[39m] = \u001b[33mArray\u001b[39m(\n",
       "  document_7939d5bf1083,\n",
       "  SENTENCE_05265b07c745,\n",
       "  REGEX_TOKENIZER_c5c312143f63,\n",
       "  SPELL_e4ea67180337,\n",
       "  LEMMATIZER_c62ad8f355f9,\n",
       "  STEMMER_ba49f7631065,\n",
       "  POS_d01c734956fe,\n",
       "  WORD_EMBEDDINGS_MODEL_48cffc8b9a76,\n",
       "  NerDLModel_d4424c9af5f4,\n",
       "  NER_CONVERTER_a81db9af2d23\n",
       ")"
      ]
     },
     "execution_count": 14,
     "metadata": {},
     "output_type": "execute_result"
    }
   ],
   "source": [
    "pipeline_dl.model.stages"
   ]
  },
  {
   "cell_type": "code",
   "execution_count": 15,
   "metadata": {},
   "outputs": [
    {
     "data": {
      "text/plain": [
       "\u001b[36mstageSize\u001b[39m: \u001b[32mInt\u001b[39m = \u001b[32m10\u001b[39m\n",
       "\u001b[36mres14_1\u001b[39m: \u001b[32mArray\u001b[39m[\u001b[32mClass\u001b[39m[\u001b[32m?0\u001b[39m] forSome { type \u001b[32m?0\u001b[39m }] = \u001b[33mArray\u001b[39m(\n",
       "  class com.johnsnowlabs.nlp.annotators.ner.dl.NerDLModel$RowIdentifiedSentence,\n",
       "  class com.johnsnowlabs.nlp.annotators.ner.dl.NerDLModel$RowIdentifiedSentence$\n",
       ")"
      ]
     },
     "execution_count": 15,
     "metadata": {},
     "output_type": "execute_result"
    }
   ],
   "source": [
    "val stageSize = pipeline_dl.model.stages.length\n",
    "pipeline_dl.model.stages(stageSize-2).getClass.getClasses"
   ]
  },
  {
   "cell_type": "code",
   "execution_count": 16,
   "metadata": {},
   "outputs": [
    {
     "data": {
      "text/plain": [
       "\u001b[36mresult\u001b[39m: \u001b[32mMap\u001b[39m[\u001b[32mString\u001b[39m, \u001b[32mSeq\u001b[39m[\u001b[32mString\u001b[39m]] = \u001b[33mMap\u001b[39m(\n",
       "  \u001b[32m\"entities\"\u001b[39m -> \u001b[33mList\u001b[39m(\u001b[32m\"Peter\"\u001b[39m, \u001b[32m\"Russia\"\u001b[39m, \u001b[32m\"John\"\u001b[39m, \u001b[32m\"Peter\"\u001b[39m, \u001b[32m\"Lucas Dunbercker\"\u001b[39m, \u001b[32m\"Europe\"\u001b[39m),\n",
       "  \u001b[32m\"stem\"\u001b[39m -> \u001b[33mList\u001b[39m(\n",
       "    \u001b[32m\"peter\"\u001b[39m,\n",
       "    \u001b[32m\"i\"\u001b[39m,\n",
       "    \u001b[32m\"a\"\u001b[39m,\n",
       "    \u001b[32m\"veri\"\u001b[39m,\n",
       "    \u001b[32m\"good\"\u001b[39m,\n",
       "    \u001b[32m\"person\"\u001b[39m,\n",
       "    \u001b[32m\".\"\u001b[39m,\n",
       "    \u001b[32m\"my\"\u001b[39m,\n",
       "    \u001b[32m\"life\"\u001b[39m,\n",
       "    \u001b[32m\"in\"\u001b[39m,\n",
       "    \u001b[32m\"russia\"\u001b[39m,\n",
       "    \u001b[32m\"i\"\u001b[39m,\n",
       "    \u001b[32m\"veri\"\u001b[39m,\n",
       "    \u001b[32m\"interest\"\u001b[39m,\n",
       "    \u001b[32m\".\"\u001b[39m,\n",
       "    \u001b[32m\"john\"\u001b[39m,\n",
       "    \u001b[32m\"and\"\u001b[39m,\n",
       "    \u001b[32m\"peter\"\u001b[39m,\n",
       "    \u001b[32m\"ar\"\u001b[39m,\n",
       "    \u001b[32m\"brother\"\u001b[39m,\n",
       "    \u001b[32m\".\"\u001b[39m,\n",
       "    \u001b[32m\"howev\"\u001b[39m,\n",
       "    \u001b[32m\"thei\"\u001b[39m,\n",
       "    \u001b[32m\"don't\"\u001b[39m,\n",
       "    \u001b[32m\"support\"\u001b[39m,\n",
       "    \u001b[32m\"each\"\u001b[39m,\n",
       "    \u001b[32m\"other\"\u001b[39m,\n",
       "    \u001b[32m\"that\"\u001b[39m,\n",
       "    \u001b[32m\"much\"\u001b[39m,\n",
       "    \u001b[32m\".\"\u001b[39m,\n",
       "    \u001b[32m\"luca\"\u001b[39m,\n",
       "    \u001b[32m\"dunberck\"\u001b[39m,\n",
       "    \u001b[32m\"i\"\u001b[39m,\n",
       "    \u001b[32m\"no\"\u001b[39m,\n",
       "    \u001b[32m\"longer\"\u001b[39m,\n",
       "..."
      ]
     },
     "execution_count": 16,
     "metadata": {},
     "output_type": "execute_result"
    }
   ],
   "source": [
    "val result = pipeline_dl.annotate(testDoc)"
   ]
  },
  {
   "cell_type": "code",
   "execution_count": 17,
   "metadata": {},
   "outputs": [
    {
     "data": {
      "text/plain": [
       "\u001b[36mres16\u001b[39m: \u001b[32mSet\u001b[39m[\u001b[32mString\u001b[39m] = \u001b[33mSet\u001b[39m(\n",
       "  \u001b[32m\"entities\"\u001b[39m,\n",
       "  \u001b[32m\"stem\"\u001b[39m,\n",
       "  \u001b[32m\"checked\"\u001b[39m,\n",
       "  \u001b[32m\"lemma\"\u001b[39m,\n",
       "  \u001b[32m\"document\"\u001b[39m,\n",
       "  \u001b[32m\"pos\"\u001b[39m,\n",
       "  \u001b[32m\"token\"\u001b[39m,\n",
       "  \u001b[32m\"ner\"\u001b[39m,\n",
       "  \u001b[32m\"embeddings\"\u001b[39m,\n",
       "  \u001b[32m\"sentence\"\u001b[39m\n",
       ")"
      ]
     },
     "execution_count": 17,
     "metadata": {},
     "output_type": "execute_result"
    }
   ],
   "source": [
    "result.keySet"
   ]
  },
  {
   "cell_type": "code",
   "execution_count": 18,
   "metadata": {},
   "outputs": [
    {
     "data": {
      "text/plain": [
       "\u001b[36mres17\u001b[39m: \u001b[32mOption\u001b[39m[\u001b[32mSeq\u001b[39m[\u001b[32mString\u001b[39m]] = \u001b[33mSome\u001b[39m(\n",
       "  \u001b[33mList\u001b[39m(\u001b[32m\"Peter\"\u001b[39m, \u001b[32m\"Russia\"\u001b[39m, \u001b[32m\"John\"\u001b[39m, \u001b[32m\"Peter\"\u001b[39m, \u001b[32m\"Lucas Dunbercker\"\u001b[39m, \u001b[32m\"Europe\"\u001b[39m)\n",
       ")"
      ]
     },
     "execution_count": 18,
     "metadata": {},
     "output_type": "execute_result"
    }
   ],
   "source": [
    "result.get(\"entities\")"
   ]
  },
  {
   "cell_type": "code",
   "execution_count": 19,
   "metadata": {},
   "outputs": [
    {
     "name": "stdout",
     "output_type": "stream",
     "text": [
      "+----------+---------+---------------+----+--------+--------+\n",
      "|     token|ner_label|spell_corrected| POS|  lemmas|   stems|\n",
      "+----------+---------+---------------+----+--------+--------+\n",
      "|     Peter|    B-PER|          Peter| NNP|   Peter|   peter|\n",
      "|        is|        O|             is| VBZ|      be|       i|\n",
      "|         a|        O|              a|  DT|       a|       a|\n",
      "|      very|        O|           very|  RB|    very|    veri|\n",
      "|      good|        O|           good|  JJ|    good|    good|\n",
      "|     persn|        O|         person|  NN|  person|  person|\n",
      "|         .|        O|              .|   .|       .|       .|\n",
      "|        My|        O|             My|PRP$|      My|      my|\n",
      "|      life|        O|           life|  NN|    life|    life|\n",
      "|        in|        O|             in|  IN|      in|      in|\n",
      "|    Russia|    B-LOC|         Russia| NNP|  Russia|  russia|\n",
      "|        is|        O|             is| VBZ|      be|       i|\n",
      "|      very|        O|           very|  RB|    very|    veri|\n",
      "|intersting|        O|    interesting| VBG|interest|interest|\n",
      "|         .|        O|              .|   .|       .|       .|\n",
      "|      John|    B-PER|           John| NNP|    John|    john|\n",
      "|       and|        O|            and|  CC|     and|     and|\n",
      "|     Peter|    B-PER|          Peter| NNP|   Peter|   peter|\n",
      "|       are|        O|            are| VBP|      be|      ar|\n",
      "|   brthers|        O|       brothers| NNS| brother| brother|\n",
      "+----------+---------+---------------+----+--------+--------+\n",
      "only showing top 20 rows\n",
      "\n"
     ]
    },
    {
     "data": {
      "text/plain": [
       "\u001b[36mdfOpt\u001b[39m: \u001b[32mOption\u001b[39m[\u001b[32mSeq\u001b[39m[(\u001b[32mString\u001b[39m, \u001b[32mString\u001b[39m, \u001b[32mString\u001b[39m, \u001b[32mString\u001b[39m, \u001b[32mString\u001b[39m, \u001b[32mString\u001b[39m)]] = \u001b[33mSome\u001b[39m(\n",
       "  \u001b[33mList\u001b[39m(\n",
       "    (\u001b[32m\"Peter\"\u001b[39m, \u001b[32m\"B-PER\"\u001b[39m, \u001b[32m\"Peter\"\u001b[39m, \u001b[32m\"NNP\"\u001b[39m, \u001b[32m\"Peter\"\u001b[39m, \u001b[32m\"peter\"\u001b[39m),\n",
       "    (\u001b[32m\"is\"\u001b[39m, \u001b[32m\"O\"\u001b[39m, \u001b[32m\"is\"\u001b[39m, \u001b[32m\"VBZ\"\u001b[39m, \u001b[32m\"be\"\u001b[39m, \u001b[32m\"i\"\u001b[39m),\n",
       "    (\u001b[32m\"a\"\u001b[39m, \u001b[32m\"O\"\u001b[39m, \u001b[32m\"a\"\u001b[39m, \u001b[32m\"DT\"\u001b[39m, \u001b[32m\"a\"\u001b[39m, \u001b[32m\"a\"\u001b[39m),\n",
       "    (\u001b[32m\"very\"\u001b[39m, \u001b[32m\"O\"\u001b[39m, \u001b[32m\"very\"\u001b[39m, \u001b[32m\"RB\"\u001b[39m, \u001b[32m\"very\"\u001b[39m, \u001b[32m\"veri\"\u001b[39m),\n",
       "    (\u001b[32m\"good\"\u001b[39m, \u001b[32m\"O\"\u001b[39m, \u001b[32m\"good\"\u001b[39m, \u001b[32m\"JJ\"\u001b[39m, \u001b[32m\"good\"\u001b[39m, \u001b[32m\"good\"\u001b[39m),\n",
       "    (\u001b[32m\"persn\"\u001b[39m, \u001b[32m\"O\"\u001b[39m, \u001b[32m\"person\"\u001b[39m, \u001b[32m\"NN\"\u001b[39m, \u001b[32m\"person\"\u001b[39m, \u001b[32m\"person\"\u001b[39m),\n",
       "    (\u001b[32m\".\"\u001b[39m, \u001b[32m\"O\"\u001b[39m, \u001b[32m\".\"\u001b[39m, \u001b[32m\".\"\u001b[39m, \u001b[32m\".\"\u001b[39m, \u001b[32m\".\"\u001b[39m),\n",
       "    (\u001b[32m\"My\"\u001b[39m, \u001b[32m\"O\"\u001b[39m, \u001b[32m\"My\"\u001b[39m, \u001b[32m\"PRP$\"\u001b[39m, \u001b[32m\"My\"\u001b[39m, \u001b[32m\"my\"\u001b[39m),\n",
       "    (\u001b[32m\"life\"\u001b[39m, \u001b[32m\"O\"\u001b[39m, \u001b[32m\"life\"\u001b[39m, \u001b[32m\"NN\"\u001b[39m, \u001b[32m\"life\"\u001b[39m, \u001b[32m\"life\"\u001b[39m),\n",
       "    (\u001b[32m\"in\"\u001b[39m, \u001b[32m\"O\"\u001b[39m, \u001b[32m\"in\"\u001b[39m, \u001b[32m\"IN\"\u001b[39m, \u001b[32m\"in\"\u001b[39m, \u001b[32m\"in\"\u001b[39m),\n",
       "    (\u001b[32m\"Russia\"\u001b[39m, \u001b[32m\"B-LOC\"\u001b[39m, \u001b[32m\"Russia\"\u001b[39m, \u001b[32m\"NNP\"\u001b[39m, \u001b[32m\"Russia\"\u001b[39m, \u001b[32m\"russia\"\u001b[39m),\n",
       "    (\u001b[32m\"is\"\u001b[39m, \u001b[32m\"O\"\u001b[39m, \u001b[32m\"is\"\u001b[39m, \u001b[32m\"VBZ\"\u001b[39m, \u001b[32m\"be\"\u001b[39m, \u001b[32m\"i\"\u001b[39m),\n",
       "    (\u001b[32m\"very\"\u001b[39m, \u001b[32m\"O\"\u001b[39m, \u001b[32m\"very\"\u001b[39m, \u001b[32m\"RB\"\u001b[39m, \u001b[32m\"very\"\u001b[39m, \u001b[32m\"veri\"\u001b[39m),\n",
       "    (\u001b[32m\"intersting\"\u001b[39m, \u001b[32m\"O\"\u001b[39m, \u001b[32m\"interesting\"\u001b[39m, \u001b[32m\"VBG\"\u001b[39m, \u001b[32m\"interest\"\u001b[39m, \u001b[32m\"interest\"\u001b[39m),\n",
       "    (\u001b[32m\".\"\u001b[39m, \u001b[32m\"O\"\u001b[39m, \u001b[32m\".\"\u001b[39m, \u001b[32m\".\"\u001b[39m, \u001b[32m\".\"\u001b[39m, \u001b[32m\".\"\u001b[39m),\n",
       "    (\u001b[32m\"John\"\u001b[39m, \u001b[32m\"B-PER\"\u001b[39m, \u001b[32m\"John\"\u001b[39m, \u001b[32m\"NNP\"\u001b[39m, \u001b[32m\"John\"\u001b[39m, \u001b[32m\"john\"\u001b[39m),\n",
       "    (\u001b[32m\"and\"\u001b[39m, \u001b[32m\"O\"\u001b[39m, \u001b[32m\"and\"\u001b[39m, \u001b[32m\"CC\"\u001b[39m, \u001b[32m\"and\"\u001b[39m, \u001b[32m\"and\"\u001b[39m),\n",
       "    (\u001b[32m\"Peter\"\u001b[39m, \u001b[32m\"B-PER\"\u001b[39m, \u001b[32m\"Peter\"\u001b[39m, \u001b[32m\"NNP\"\u001b[39m, \u001b[32m\"Peter\"\u001b[39m, \u001b[32m\"peter\"\u001b[39m),\n",
       "    (\u001b[32m\"are\"\u001b[39m, \u001b[32m\"O\"\u001b[39m, \u001b[32m\"are\"\u001b[39m, \u001b[32m\"VBP\"\u001b[39m, \u001b[32m\"be\"\u001b[39m, \u001b[32m\"ar\"\u001b[39m),\n",
       "    (\u001b[32m\"brthers\"\u001b[39m, \u001b[32m\"O\"\u001b[39m, \u001b[32m\"brothers\"\u001b[39m, \u001b[32m\"NNS\"\u001b[39m, \u001b[32m\"brother\"\u001b[39m, \u001b[32m\"brother\"\u001b[39m),\n",
       "    (\u001b[32m\".\"\u001b[39m, \u001b[32m\"O\"\u001b[39m, \u001b[32m\".\"\u001b[39m, \u001b[32m\".\"\u001b[39m, \u001b[32m\".\"\u001b[39m, \u001b[32m\".\"\u001b[39m),\n",
       "    (\u001b[32m\"However\"\u001b[39m, \u001b[32m\"O\"\u001b[39m, \u001b[32m\"However\"\u001b[39m, \u001b[32m\"RB\"\u001b[39m, \u001b[32m\"However\"\u001b[39m, \u001b[32m\"howev\"\u001b[39m),\n",
       "    (\u001b[32m\"they\"\u001b[39m, \u001b[32m\"O\"\u001b[39m, \u001b[32m\"they\"\u001b[39m, \u001b[32m\"PRP\"\u001b[39m, \u001b[32m\"they\"\u001b[39m, \u001b[32m\"thei\"\u001b[39m),\n",
       "    (\u001b[32m\"don't\"\u001b[39m, \u001b[32m\"O\"\u001b[39m, \u001b[32m\"don't\"\u001b[39m, \u001b[32m\"VBP\"\u001b[39m, \u001b[32m\"don't\"\u001b[39m, \u001b[32m\"don't\"\u001b[39m),\n",
       "    (\u001b[32m\"support\"\u001b[39m, \u001b[32m\"O\"\u001b[39m, \u001b[32m\"support\"\u001b[39m, \u001b[32m\"VB\"\u001b[39m, \u001b[32m\"support\"\u001b[39m, \u001b[32m\"support\"\u001b[39m),\n",
       "    (\u001b[32m\"each\"\u001b[39m, \u001b[32m\"O\"\u001b[39m, \u001b[32m\"each\"\u001b[39m, \u001b[32m\"DT\"\u001b[39m, \u001b[32m\"each\"\u001b[39m, \u001b[32m\"each\"\u001b[39m),\n",
       "    (\u001b[32m\"other\"\u001b[39m, \u001b[32m\"O\"\u001b[39m, \u001b[32m\"other\"\u001b[39m, \u001b[32m\"JJ\"\u001b[39m, \u001b[32m\"other\"\u001b[39m, \u001b[32m\"other\"\u001b[39m),\n",
       "    (\u001b[32m\"that\"\u001b[39m, \u001b[32m\"O\"\u001b[39m, \u001b[32m\"that\"\u001b[39m, \u001b[32m\"IN\"\u001b[39m, \u001b[32m\"that\"\u001b[39m, \u001b[32m\"that\"\u001b[39m),\n",
       "    (\u001b[32m\"much\"\u001b[39m, \u001b[32m\"O\"\u001b[39m, \u001b[32m\"much\"\u001b[39m, \u001b[32m\"JJ\"\u001b[39m, \u001b[32m\"much\"\u001b[39m, \u001b[32m\"much\"\u001b[39m),\n",
       "    (\u001b[32m\".\"\u001b[39m, \u001b[32m\"O\"\u001b[39m, \u001b[32m\".\"\u001b[39m, \u001b[32m\".\"\u001b[39m, \u001b[32m\".\"\u001b[39m, \u001b[32m\".\"\u001b[39m),\n",
       "    (\u001b[32m\"Lucas\"\u001b[39m, \u001b[32m\"B-PER\"\u001b[39m, \u001b[32m\"Lucas\"\u001b[39m, \u001b[32m\"NNP\"\u001b[39m, \u001b[32m\"Lucas\"\u001b[39m, \u001b[32m\"luca\"\u001b[39m),\n",
       "    (\u001b[32m\"Dunbercker\"\u001b[39m, \u001b[32m\"I-PER\"\u001b[39m, \u001b[32m\"Dunbercker\"\u001b[39m, \u001b[32m\"NNP\"\u001b[39m, \u001b[32m\"Dunbercker\"\u001b[39m, \u001b[32m\"dunberck\"\u001b[39m),\n",
       "    (\u001b[32m\"is\"\u001b[39m, \u001b[32m\"O\"\u001b[39m, \u001b[32m\"is\"\u001b[39m, \u001b[32m\"VBZ\"\u001b[39m, \u001b[32m\"be\"\u001b[39m, \u001b[32m\"i\"\u001b[39m),\n",
       "    (\u001b[32m\"no\"\u001b[39m, \u001b[32m\"O\"\u001b[39m, \u001b[32m\"no\"\u001b[39m, \u001b[32m\"DT\"\u001b[39m, \u001b[32m\"no\"\u001b[39m, \u001b[32m\"no\"\u001b[39m),\n",
       "    (\u001b[32m\"longer\"\u001b[39m, \u001b[32m\"O\"\u001b[39m, \u001b[32m\"longer\"\u001b[39m, \u001b[32m\"RB\"\u001b[39m, \u001b[32m\"long\"\u001b[39m, \u001b[32m\"longer\"\u001b[39m),\n",
       "    (\u001b[32m\"happy\"\u001b[39m, \u001b[32m\"O\"\u001b[39m, \u001b[32m\"happy\"\u001b[39m, \u001b[32m\"JJ\"\u001b[39m, \u001b[32m\"happy\"\u001b[39m, \u001b[32m\"happi\"\u001b[39m),\n",
       "    (\u001b[32m\".\"\u001b[39m, \u001b[32m\"O\"\u001b[39m, \u001b[32m\".\"\u001b[39m, \u001b[32m\".\"\u001b[39m, \u001b[32m\".\"\u001b[39m, \u001b[32m\".\"\u001b[39m),\n",
       "...\n",
       "\u001b[36mdf\u001b[39m: \u001b[32morg\u001b[39m.\u001b[32mapache\u001b[39m.\u001b[32mspark\u001b[39m.\u001b[32msql\u001b[39m.\u001b[32mpackage\u001b[39m.\u001b[32mDataFrame\u001b[39m = [token: string, ner_label: string ... 4 more fields]"
      ]
     },
     "execution_count": 19,
     "metadata": {},
     "output_type": "execute_result"
    }
   ],
   "source": [
    "val dfOpt = for {\n",
    "    t <- result.get(\"token\")\n",
    "    n <- result.get(\"ner\")\n",
    "    c <- result.get(\"checked\")\n",
    "    p <- result.get(\"pos\")\n",
    "    l <- result.get(\"lemma\")\n",
    "    s <- result.get(\"stem\")\n",
    "}yield t zip n zip c zip p zip l zip s map { case (((((t,n),c),p),l),s) => (t,n,c,p,l,s)}\n",
    "\n",
    "val df = sparkSession.createDataFrame(dfOpt.get).toDF(\"token\", \"ner_label\", \"spell_corrected\", \"POS\", \"lemmas\", \"stems\")\n",
    "df.show()"
   ]
  },
  {
   "cell_type": "markdown",
   "metadata": {},
   "source": [
    "### Recognize Entities DL"
   ]
  },
  {
   "cell_type": "code",
   "execution_count": 20,
   "metadata": {},
   "outputs": [
    {
     "name": "stdout",
     "output_type": "stream",
     "text": [
      "recognize_entities_dl download started this may take some time.\n",
      "Approximate size to download 160.1 MB\n",
      "Download done! Loading the resource.\n"
     ]
    },
    {
     "data": {
      "text/html": [
       "<div>\n",
       "  <span style=\"float: left;\">first at ReadWrite.scala:587</span>\n",
       "</div>\n"
      ]
     },
     "metadata": {},
     "output_type": "display_data"
    },
    {
     "data": {
      "text/html": [
       "<div class=\"progress\">\n",
       "  <div class=\"progress-bar\" role=\"progressbar\" style=\"background-color: blue; width: 100%; word-wrap: normal; white-space: nowrap; text-align: center; color: white\" aria-valuenow=\"100\" aria-valuemin=\"0\" aria-valuemax=\"100\">\n",
       "    1 / 1\n",
       "  </div>\n",
       "  <div class=\"progress-bar\" role=\"progressbar\" style=\"background-color: red; width: 0%\" aria-valuenow=\"0\" aria-valuemin=\"0\" aria-valuemax=\"100\"></div>\n",
       "</div>\n"
      ]
     },
     "metadata": {},
     "output_type": "display_data"
    },
    {
     "data": {
      "text/html": [
       "<div>\n",
       "  <span style=\"float: left;\">first at ReadWrite.scala:587</span>\n",
       "</div>\n"
      ]
     },
     "metadata": {},
     "output_type": "display_data"
    },
    {
     "data": {
      "text/html": [
       "<div class=\"progress\">\n",
       "  <div class=\"progress-bar\" role=\"progressbar\" style=\"background-color: blue; width: 100%; word-wrap: normal; white-space: nowrap; text-align: center; color: white\" aria-valuenow=\"100\" aria-valuemin=\"0\" aria-valuemax=\"100\">\n",
       "    1 / 1\n",
       "  </div>\n",
       "  <div class=\"progress-bar\" role=\"progressbar\" style=\"background-color: red; width: 0%\" aria-valuenow=\"0\" aria-valuemin=\"0\" aria-valuemax=\"100\"></div>\n",
       "</div>\n"
      ]
     },
     "metadata": {},
     "output_type": "display_data"
    },
    {
     "data": {
      "text/html": [
       "<div>\n",
       "  <span style=\"float: left;\">first at ReadWrite.scala:587</span>\n",
       "</div>\n"
      ]
     },
     "metadata": {},
     "output_type": "display_data"
    },
    {
     "data": {
      "text/html": [
       "<div class=\"progress\">\n",
       "  <div class=\"progress-bar\" role=\"progressbar\" style=\"background-color: blue; width: 100%; word-wrap: normal; white-space: nowrap; text-align: center; color: white\" aria-valuenow=\"100\" aria-valuemin=\"0\" aria-valuemax=\"100\">\n",
       "    1 / 1\n",
       "  </div>\n",
       "  <div class=\"progress-bar\" role=\"progressbar\" style=\"background-color: red; width: 0%\" aria-valuenow=\"0\" aria-valuemin=\"0\" aria-valuemax=\"100\"></div>\n",
       "</div>\n"
      ]
     },
     "metadata": {},
     "output_type": "display_data"
    },
    {
     "data": {
      "text/html": [
       "<div>\n",
       "  <span style=\"float: left;\">first at ReadWrite.scala:587</span>\n",
       "</div>\n"
      ]
     },
     "metadata": {},
     "output_type": "display_data"
    },
    {
     "data": {
      "text/html": [
       "<div class=\"progress\">\n",
       "  <div class=\"progress-bar\" role=\"progressbar\" style=\"background-color: blue; width: 100%; word-wrap: normal; white-space: nowrap; text-align: center; color: white\" aria-valuenow=\"100\" aria-valuemin=\"0\" aria-valuemax=\"100\">\n",
       "    1 / 1\n",
       "  </div>\n",
       "  <div class=\"progress-bar\" role=\"progressbar\" style=\"background-color: red; width: 0%\" aria-valuenow=\"0\" aria-valuemin=\"0\" aria-valuemax=\"100\"></div>\n",
       "</div>\n"
      ]
     },
     "metadata": {},
     "output_type": "display_data"
    },
    {
     "data": {
      "text/html": [
       "<div>\n",
       "  <span style=\"float: left;\">first at ReadWrite.scala:587</span>\n",
       "</div>\n"
      ]
     },
     "metadata": {},
     "output_type": "display_data"
    },
    {
     "data": {
      "text/html": [
       "<div class=\"progress\">\n",
       "  <div class=\"progress-bar\" role=\"progressbar\" style=\"background-color: blue; width: 100%; word-wrap: normal; white-space: nowrap; text-align: center; color: white\" aria-valuenow=\"100\" aria-valuemin=\"0\" aria-valuemax=\"100\">\n",
       "    1 / 1\n",
       "  </div>\n",
       "  <div class=\"progress-bar\" role=\"progressbar\" style=\"background-color: red; width: 0%\" aria-valuenow=\"0\" aria-valuemin=\"0\" aria-valuemax=\"100\"></div>\n",
       "</div>\n"
      ]
     },
     "metadata": {},
     "output_type": "display_data"
    },
    {
     "data": {
      "text/html": [
       "<div>\n",
       "  <span style=\"float: left;\">first at ReadWrite.scala:587</span>\n",
       "</div>\n"
      ]
     },
     "metadata": {},
     "output_type": "display_data"
    },
    {
     "data": {
      "text/html": [
       "<div class=\"progress\">\n",
       "  <div class=\"progress-bar\" role=\"progressbar\" style=\"background-color: blue; width: 100%; word-wrap: normal; white-space: nowrap; text-align: center; color: white\" aria-valuenow=\"100\" aria-valuemin=\"0\" aria-valuemax=\"100\">\n",
       "    1 / 1\n",
       "  </div>\n",
       "  <div class=\"progress-bar\" role=\"progressbar\" style=\"background-color: red; width: 0%\" aria-valuenow=\"0\" aria-valuemin=\"0\" aria-valuemax=\"100\"></div>\n",
       "</div>\n"
      ]
     },
     "metadata": {},
     "output_type": "display_data"
    },
    {
     "data": {
      "text/html": [
       "<div>\n",
       "  <span style=\"float: left;\">first at ReadWrite.scala:587</span>\n",
       "</div>\n"
      ]
     },
     "metadata": {},
     "output_type": "display_data"
    },
    {
     "data": {
      "text/html": [
       "<div class=\"progress\">\n",
       "  <div class=\"progress-bar\" role=\"progressbar\" style=\"background-color: blue; width: 100%; word-wrap: normal; white-space: nowrap; text-align: center; color: white\" aria-valuenow=\"100\" aria-valuemin=\"0\" aria-valuemax=\"100\">\n",
       "    1 / 1\n",
       "  </div>\n",
       "  <div class=\"progress-bar\" role=\"progressbar\" style=\"background-color: red; width: 0%\" aria-valuenow=\"0\" aria-valuemin=\"0\" aria-valuemax=\"100\"></div>\n",
       "</div>\n"
      ]
     },
     "metadata": {},
     "output_type": "display_data"
    },
    {
     "data": {
      "text/html": [
       "<div>\n",
       "  <span style=\"float: left;\">first at Feature.scala:120</span>\n",
       "</div>\n"
      ]
     },
     "metadata": {},
     "output_type": "display_data"
    },
    {
     "data": {
      "text/html": [
       "<div class=\"progress\">\n",
       "  <div class=\"progress-bar\" role=\"progressbar\" style=\"background-color: blue; width: 100%; word-wrap: normal; white-space: nowrap; text-align: center; color: white\" aria-valuenow=\"100\" aria-valuemin=\"0\" aria-valuemax=\"100\">\n",
       "    1 / 1\n",
       "  </div>\n",
       "  <div class=\"progress-bar\" role=\"progressbar\" style=\"background-color: red; width: 0%\" aria-valuenow=\"0\" aria-valuemin=\"0\" aria-valuemax=\"100\"></div>\n",
       "</div>\n"
      ]
     },
     "metadata": {},
     "output_type": "display_data"
    },
    {
     "data": {
      "text/html": [
       "<div>\n",
       "  <span style=\"float: left;\">first at Feature.scala:120</span>\n",
       "</div>\n"
      ]
     },
     "metadata": {},
     "output_type": "display_data"
    },
    {
     "data": {
      "text/html": [
       "<div class=\"progress\">\n",
       "  <div class=\"progress-bar\" role=\"progressbar\" style=\"background-color: blue; width: 100%; word-wrap: normal; white-space: nowrap; text-align: center; color: white\" aria-valuenow=\"100\" aria-valuemin=\"0\" aria-valuemax=\"100\">\n",
       "    4 / 4\n",
       "  </div>\n",
       "  <div class=\"progress-bar\" role=\"progressbar\" style=\"background-color: red; width: 0%\" aria-valuenow=\"0\" aria-valuemin=\"0\" aria-valuemax=\"100\"></div>\n",
       "</div>\n"
      ]
     },
     "metadata": {},
     "output_type": "display_data"
    },
    {
     "data": {
      "text/html": [
       "<div>\n",
       "  <span style=\"float: left;\">first at Feature.scala:120</span>\n",
       "</div>\n"
      ]
     },
     "metadata": {},
     "output_type": "display_data"
    },
    {
     "data": {
      "text/html": [
       "<div class=\"progress\">\n",
       "  <div class=\"progress-bar\" role=\"progressbar\" style=\"background-color: blue; width: 100%; word-wrap: normal; white-space: nowrap; text-align: center; color: white\" aria-valuenow=\"100\" aria-valuemin=\"0\" aria-valuemax=\"100\">\n",
       "    12 / 12\n",
       "  </div>\n",
       "  <div class=\"progress-bar\" role=\"progressbar\" style=\"background-color: red; width: 0%\" aria-valuenow=\"0\" aria-valuemin=\"0\" aria-valuemax=\"100\"></div>\n",
       "</div>\n"
      ]
     },
     "metadata": {},
     "output_type": "display_data"
    },
    {
     "data": {
      "text/html": [
       "<div>\n",
       "  <span style=\"float: left;\">first at ReadWrite.scala:587</span>\n",
       "</div>\n"
      ]
     },
     "metadata": {},
     "output_type": "display_data"
    },
    {
     "data": {
      "text/html": [
       "<div class=\"progress\">\n",
       "  <div class=\"progress-bar\" role=\"progressbar\" style=\"background-color: blue; width: 100%; word-wrap: normal; white-space: nowrap; text-align: center; color: white\" aria-valuenow=\"100\" aria-valuemin=\"0\" aria-valuemax=\"100\">\n",
       "    1 / 1\n",
       "  </div>\n",
       "  <div class=\"progress-bar\" role=\"progressbar\" style=\"background-color: red; width: 0%\" aria-valuenow=\"0\" aria-valuemin=\"0\" aria-valuemax=\"100\"></div>\n",
       "</div>\n"
      ]
     },
     "metadata": {},
     "output_type": "display_data"
    },
    {
     "data": {
      "text/html": [
       "<div>\n",
       "  <span style=\"float: left;\">first at ReadWrite.scala:587</span>\n",
       "</div>\n"
      ]
     },
     "metadata": {},
     "output_type": "display_data"
    },
    {
     "data": {
      "text/html": [
       "<div class=\"progress\">\n",
       "  <div class=\"progress-bar\" role=\"progressbar\" style=\"background-color: blue; width: 100%; word-wrap: normal; white-space: nowrap; text-align: center; color: white\" aria-valuenow=\"100\" aria-valuemin=\"0\" aria-valuemax=\"100\">\n",
       "    1 / 1\n",
       "  </div>\n",
       "  <div class=\"progress-bar\" role=\"progressbar\" style=\"background-color: red; width: 0%\" aria-valuenow=\"0\" aria-valuemin=\"0\" aria-valuemax=\"100\"></div>\n",
       "</div>\n"
      ]
     },
     "metadata": {},
     "output_type": "display_data"
    },
    {
     "data": {
      "text/html": [
       "<div>\n",
       "  <span style=\"float: left;\">first at ReadWrite.scala:587</span>\n",
       "</div>\n"
      ]
     },
     "metadata": {},
     "output_type": "display_data"
    },
    {
     "data": {
      "text/html": [
       "<div class=\"progress\">\n",
       "  <div class=\"progress-bar\" role=\"progressbar\" style=\"background-color: blue; width: 100%; word-wrap: normal; white-space: nowrap; text-align: center; color: white\" aria-valuenow=\"100\" aria-valuemin=\"0\" aria-valuemax=\"100\">\n",
       "    1 / 1\n",
       "  </div>\n",
       "  <div class=\"progress-bar\" role=\"progressbar\" style=\"background-color: red; width: 0%\" aria-valuenow=\"0\" aria-valuemin=\"0\" aria-valuemax=\"100\"></div>\n",
       "</div>\n"
      ]
     },
     "metadata": {},
     "output_type": "display_data"
    },
    {
     "data": {
      "text/html": [
       "<div>\n",
       "  <span style=\"float: left;\">first at ReadWrite.scala:587</span>\n",
       "</div>\n"
      ]
     },
     "metadata": {},
     "output_type": "display_data"
    },
    {
     "data": {
      "text/html": [
       "<div class=\"progress\">\n",
       "  <div class=\"progress-bar\" role=\"progressbar\" style=\"background-color: blue; width: 100%; word-wrap: normal; white-space: nowrap; text-align: center; color: white\" aria-valuenow=\"100\" aria-valuemin=\"0\" aria-valuemax=\"100\">\n",
       "    1 / 1\n",
       "  </div>\n",
       "  <div class=\"progress-bar\" role=\"progressbar\" style=\"background-color: red; width: 0%\" aria-valuenow=\"0\" aria-valuemin=\"0\" aria-valuemax=\"100\"></div>\n",
       "</div>\n"
      ]
     },
     "metadata": {},
     "output_type": "display_data"
    },
    {
     "data": {
      "text/html": [
       "<div>\n",
       "  <span style=\"float: left;\">first at Feature.scala:120</span>\n",
       "</div>\n"
      ]
     },
     "metadata": {},
     "output_type": "display_data"
    },
    {
     "data": {
      "text/html": [
       "<div class=\"progress\">\n",
       "  <div class=\"progress-bar\" role=\"progressbar\" style=\"background-color: blue; width: 100%; word-wrap: normal; white-space: nowrap; text-align: center; color: white\" aria-valuenow=\"100\" aria-valuemin=\"0\" aria-valuemax=\"100\">\n",
       "    1 / 1\n",
       "  </div>\n",
       "  <div class=\"progress-bar\" role=\"progressbar\" style=\"background-color: red; width: 0%\" aria-valuenow=\"0\" aria-valuemin=\"0\" aria-valuemax=\"100\"></div>\n",
       "</div>\n"
      ]
     },
     "metadata": {},
     "output_type": "display_data"
    },
    {
     "data": {
      "text/html": [
       "<div>\n",
       "  <span style=\"float: left;\">first at Feature.scala:120</span>\n",
       "</div>\n"
      ]
     },
     "metadata": {},
     "output_type": "display_data"
    },
    {
     "data": {
      "text/html": [
       "<div class=\"progress\">\n",
       "  <div class=\"progress-bar\" role=\"progressbar\" style=\"background-color: blue; width: 100%; word-wrap: normal; white-space: nowrap; text-align: center; color: white\" aria-valuenow=\"100\" aria-valuemin=\"0\" aria-valuemax=\"100\">\n",
       "    4 / 4\n",
       "  </div>\n",
       "  <div class=\"progress-bar\" role=\"progressbar\" style=\"background-color: red; width: 0%\" aria-valuenow=\"0\" aria-valuemin=\"0\" aria-valuemax=\"100\"></div>\n",
       "</div>\n"
      ]
     },
     "metadata": {},
     "output_type": "display_data"
    },
    {
     "data": {
      "text/html": [
       "<div>\n",
       "  <span style=\"float: left;\">first at ReadWrite.scala:587</span>\n",
       "</div>\n"
      ]
     },
     "metadata": {},
     "output_type": "display_data"
    },
    {
     "data": {
      "text/html": [
       "<div class=\"progress\">\n",
       "  <div class=\"progress-bar\" role=\"progressbar\" style=\"background-color: blue; width: 100%; word-wrap: normal; white-space: nowrap; text-align: center; color: white\" aria-valuenow=\"100\" aria-valuemin=\"0\" aria-valuemax=\"100\">\n",
       "    1 / 1\n",
       "  </div>\n",
       "  <div class=\"progress-bar\" role=\"progressbar\" style=\"background-color: red; width: 0%\" aria-valuenow=\"0\" aria-valuemin=\"0\" aria-valuemax=\"100\"></div>\n",
       "</div>\n"
      ]
     },
     "metadata": {},
     "output_type": "display_data"
    },
    {
     "data": {
      "text/html": [
       "<div>\n",
       "  <span style=\"float: left;\">first at ReadWrite.scala:587</span>\n",
       "</div>\n"
      ]
     },
     "metadata": {},
     "output_type": "display_data"
    },
    {
     "data": {
      "text/html": [
       "<div class=\"progress\">\n",
       "  <div class=\"progress-bar\" role=\"progressbar\" style=\"background-color: blue; width: 100%; word-wrap: normal; white-space: nowrap; text-align: center; color: white\" aria-valuenow=\"100\" aria-valuemin=\"0\" aria-valuemax=\"100\">\n",
       "    1 / 1\n",
       "  </div>\n",
       "  <div class=\"progress-bar\" role=\"progressbar\" style=\"background-color: red; width: 0%\" aria-valuenow=\"0\" aria-valuemin=\"0\" aria-valuemax=\"100\"></div>\n",
       "</div>\n"
      ]
     },
     "metadata": {},
     "output_type": "display_data"
    },
    {
     "data": {
      "text/plain": [
       "\u001b[36mrecognize_entities\u001b[39m: \u001b[32mPretrainedPipeline\u001b[39m = \u001b[33mPretrainedPipeline\u001b[39m(\n",
       "  \u001b[32m\"recognize_entities_dl\"\u001b[39m,\n",
       "  \u001b[32m\"en\"\u001b[39m,\n",
       "  \u001b[32m\"public/models\"\u001b[39m,\n",
       "  false,\n",
       "  \u001b[32mNone\u001b[39m\n",
       ")"
      ]
     },
     "execution_count": 20,
     "metadata": {},
     "output_type": "execute_result"
    }
   ],
   "source": [
    "val recognize_entities = PretrainedPipeline(\"recognize_entities_dl\", lang=\"en\")"
   ]
  },
  {
   "cell_type": "code",
   "execution_count": 21,
   "metadata": {},
   "outputs": [
    {
     "data": {
      "text/plain": [
       "\u001b[36mres20\u001b[39m: \u001b[32mArray\u001b[39m[\u001b[32morg\u001b[39m.\u001b[32mapache\u001b[39m.\u001b[32mspark\u001b[39m.\u001b[32mml\u001b[39m.\u001b[32mTransformer\u001b[39m] = \u001b[33mArray\u001b[39m(\n",
       "  document_1c58bc1aca5d,\n",
       "  SENTENCE_328d8a47c1a8,\n",
       "  REGEX_TOKENIZER_b6c4cbc5a4ea,\n",
       "  WORD_EMBEDDINGS_MODEL_48cffc8b9a76,\n",
       "  NerDLModel_d4424c9af5f4,\n",
       "  NER_CONVERTER_389b80afbf7d\n",
       ")"
      ]
     },
     "execution_count": 21,
     "metadata": {},
     "output_type": "execute_result"
    }
   ],
   "source": [
    "recognize_entities.model.stages"
   ]
  },
  {
   "cell_type": "code",
   "execution_count": 22,
   "metadata": {},
   "outputs": [
    {
     "data": {
      "text/plain": [
       "\u001b[36mstageSize\u001b[39m: \u001b[32mInt\u001b[39m = \u001b[32m6\u001b[39m\n",
       "\u001b[36mres21_1\u001b[39m: \u001b[32mArray\u001b[39m[\u001b[32mClass\u001b[39m[\u001b[32m?0\u001b[39m] forSome { type \u001b[32m?0\u001b[39m }] = \u001b[33mArray\u001b[39m(\n",
       "  class com.johnsnowlabs.nlp.annotators.ner.dl.NerDLModel$RowIdentifiedSentence,\n",
       "  class com.johnsnowlabs.nlp.annotators.ner.dl.NerDLModel$RowIdentifiedSentence$\n",
       ")"
      ]
     },
     "execution_count": 22,
     "metadata": {},
     "output_type": "execute_result"
    }
   ],
   "source": [
    "val stageSize = recognize_entities.model.stages.length\n",
    "recognize_entities.model.stages(stageSize-2).getClass.getClasses"
   ]
  },
  {
   "cell_type": "code",
   "execution_count": 23,
   "metadata": {},
   "outputs": [
    {
     "data": {
      "text/plain": [
       "\u001b[36mtestDoc\u001b[39m: \u001b[32mString\u001b[39m = \u001b[32m\"\"\"\n",
       "Peter is a very good persn.\n",
       "My life in Russia is very intersting.\n",
       "John and Peter are brthers. However they don't support each other that much.\n",
       "Lucas Dunbercker is no longer happy. He has a good car though.\n",
       "Europe is very culture rich. There are huge churches! and big houses!\n",
       "\"\"\"\u001b[39m\n",
       "\u001b[36mresult\u001b[39m: \u001b[32mMap\u001b[39m[\u001b[32mString\u001b[39m, \u001b[32mSeq\u001b[39m[\u001b[32mString\u001b[39m]] = \u001b[33mMap\u001b[39m(\n",
       "  \u001b[32m\"entities\"\u001b[39m -> \u001b[33mList\u001b[39m(\u001b[32m\"Peter\"\u001b[39m, \u001b[32m\"Russia\"\u001b[39m, \u001b[32m\"John\"\u001b[39m, \u001b[32m\"Peter\"\u001b[39m, \u001b[32m\"Lucas Dunbercker\"\u001b[39m, \u001b[32m\"Europe\"\u001b[39m),\n",
       "  \u001b[32m\"document\"\u001b[39m -> \u001b[33mList\u001b[39m(\n",
       "    \u001b[32m\"\"\"\n",
       "Peter is a very good persn.\n",
       "My life in Russia is very intersting.\n",
       "John and Peter are brthers. However they don't support each other that much.\n",
       "Lucas Dunbercker is no longer happy. He has a good car though.\n",
       "Europe is very culture rich. There are huge churches! and big houses!\n",
       "\"\"\"\u001b[39m\n",
       "  ),\n",
       "  \u001b[32m\"token\"\u001b[39m -> \u001b[33mList\u001b[39m(\n",
       "    \u001b[32m\"Peter\"\u001b[39m,\n",
       "    \u001b[32m\"is\"\u001b[39m,\n",
       "    \u001b[32m\"a\"\u001b[39m,\n",
       "    \u001b[32m\"very\"\u001b[39m,\n",
       "    \u001b[32m\"good\"\u001b[39m,\n",
       "    \u001b[32m\"persn\"\u001b[39m,\n",
       "    \u001b[32m\".\"\u001b[39m,\n",
       "    \u001b[32m\"My\"\u001b[39m,\n",
       "    \u001b[32m\"life\"\u001b[39m,\n",
       "    \u001b[32m\"in\"\u001b[39m,\n",
       "    \u001b[32m\"Russia\"\u001b[39m,\n",
       "    \u001b[32m\"is\"\u001b[39m,\n",
       "    \u001b[32m\"very\"\u001b[39m,\n",
       "    \u001b[32m\"intersting\"\u001b[39m,\n",
       "    \u001b[32m\".\"\u001b[39m,\n",
       "    \u001b[32m\"John\"\u001b[39m,\n",
       "    \u001b[32m\"and\"\u001b[39m,\n",
       "    \u001b[32m\"Peter\"\u001b[39m,\n",
       "    \u001b[32m\"are\"\u001b[39m,\n",
       "    \u001b[32m\"brthers\"\u001b[39m,\n",
       "    \u001b[32m\".\"\u001b[39m,\n",
       "    \u001b[32m\"However\"\u001b[39m,\n",
       "    \u001b[32m\"they\"\u001b[39m,\n",
       "    \u001b[32m\"don't\"\u001b[39m,\n",
       "    \u001b[32m\"support\"\u001b[39m,\n",
       "    \u001b[32m\"each\"\u001b[39m,\n",
       "...\n",
       "\u001b[36mres22_2\u001b[39m: \u001b[32mOption\u001b[39m[\u001b[32mSeq\u001b[39m[(\u001b[32mString\u001b[39m, \u001b[32mString\u001b[39m)]] = \u001b[33mSome\u001b[39m(\n",
       "  \u001b[33mList\u001b[39m(\n",
       "    (\u001b[32m\"Peter\"\u001b[39m, \u001b[32m\"B-PER\"\u001b[39m),\n",
       "    (\u001b[32m\"is\"\u001b[39m, \u001b[32m\"O\"\u001b[39m),\n",
       "    (\u001b[32m\"a\"\u001b[39m, \u001b[32m\"O\"\u001b[39m),\n",
       "    (\u001b[32m\"very\"\u001b[39m, \u001b[32m\"O\"\u001b[39m),\n",
       "    (\u001b[32m\"good\"\u001b[39m, \u001b[32m\"O\"\u001b[39m),\n",
       "    (\u001b[32m\"persn\"\u001b[39m, \u001b[32m\"O\"\u001b[39m),\n",
       "    (\u001b[32m\".\"\u001b[39m, \u001b[32m\"O\"\u001b[39m),\n",
       "    (\u001b[32m\"My\"\u001b[39m, \u001b[32m\"O\"\u001b[39m),\n",
       "    (\u001b[32m\"life\"\u001b[39m, \u001b[32m\"O\"\u001b[39m),\n",
       "    (\u001b[32m\"in\"\u001b[39m, \u001b[32m\"O\"\u001b[39m),\n",
       "    (\u001b[32m\"Russia\"\u001b[39m, \u001b[32m\"B-LOC\"\u001b[39m),\n",
       "    (\u001b[32m\"is\"\u001b[39m, \u001b[32m\"O\"\u001b[39m),\n",
       "    (\u001b[32m\"very\"\u001b[39m, \u001b[32m\"O\"\u001b[39m),\n",
       "    (\u001b[32m\"intersting\"\u001b[39m, \u001b[32m\"O\"\u001b[39m),\n",
       "    (\u001b[32m\".\"\u001b[39m, \u001b[32m\"O\"\u001b[39m),\n",
       "    (\u001b[32m\"John\"\u001b[39m, \u001b[32m\"B-PER\"\u001b[39m),\n",
       "    (\u001b[32m\"and\"\u001b[39m, \u001b[32m\"O\"\u001b[39m),\n",
       "    (\u001b[32m\"Peter\"\u001b[39m, \u001b[32m\"B-PER\"\u001b[39m),\n",
       "    (\u001b[32m\"are\"\u001b[39m, \u001b[32m\"O\"\u001b[39m),\n",
       "    (\u001b[32m\"brthers\"\u001b[39m, \u001b[32m\"O\"\u001b[39m),\n",
       "    (\u001b[32m\".\"\u001b[39m, \u001b[32m\"O\"\u001b[39m),\n",
       "    (\u001b[32m\"However\"\u001b[39m, \u001b[32m\"O\"\u001b[39m),\n",
       "    (\u001b[32m\"they\"\u001b[39m, \u001b[32m\"O\"\u001b[39m),\n",
       "    (\u001b[32m\"don't\"\u001b[39m, \u001b[32m\"O\"\u001b[39m),\n",
       "    (\u001b[32m\"support\"\u001b[39m, \u001b[32m\"O\"\u001b[39m),\n",
       "    (\u001b[32m\"each\"\u001b[39m, \u001b[32m\"O\"\u001b[39m),\n",
       "    (\u001b[32m\"other\"\u001b[39m, \u001b[32m\"O\"\u001b[39m),\n",
       "    (\u001b[32m\"that\"\u001b[39m, \u001b[32m\"O\"\u001b[39m),\n",
       "    (\u001b[32m\"much\"\u001b[39m, \u001b[32m\"O\"\u001b[39m),\n",
       "    (\u001b[32m\".\"\u001b[39m, \u001b[32m\"O\"\u001b[39m),\n",
       "    (\u001b[32m\"Lucas\"\u001b[39m, \u001b[32m\"B-PER\"\u001b[39m),\n",
       "    (\u001b[32m\"Dunbercker\"\u001b[39m, \u001b[32m\"I-PER\"\u001b[39m),\n",
       "    (\u001b[32m\"is\"\u001b[39m, \u001b[32m\"O\"\u001b[39m),\n",
       "    (\u001b[32m\"no\"\u001b[39m, \u001b[32m\"O\"\u001b[39m),\n",
       "    (\u001b[32m\"longer\"\u001b[39m, \u001b[32m\"O\"\u001b[39m),\n",
       "    (\u001b[32m\"happy\"\u001b[39m, \u001b[32m\"O\"\u001b[39m),\n",
       "    (\u001b[32m\".\"\u001b[39m, \u001b[32m\"O\"\u001b[39m),\n",
       "..."
      ]
     },
     "execution_count": 23,
     "metadata": {},
     "output_type": "execute_result"
    }
   ],
   "source": [
    "val testDoc = \"\"\"\n",
    "Peter is a very good persn.\n",
    "My life in Russia is very intersting.\n",
    "John and Peter are brthers. However they don't support each other that much.\n",
    "Lucas Dunbercker is no longer happy. He has a good car though.\n",
    "Europe is very culture rich. There are huge churches! and big houses!\n",
    "\"\"\"\n",
    "\n",
    "val result = recognize_entities.annotate(testDoc)\n",
    "\n",
    "for {\n",
    "    t <- result.get(\"token\")\n",
    "    n <- result.get(\"ner\")\n",
    "}yield t zip n\n"
   ]
  },
  {
   "cell_type": "markdown",
   "metadata": {},
   "source": [
    "### Clean Stop Words"
   ]
  },
  {
   "cell_type": "code",
   "execution_count": 24,
   "metadata": {},
   "outputs": [
    {
     "name": "stdout",
     "output_type": "stream",
     "text": [
      "clean_stop download started this may take some time.\n",
      "Approximate size to download 22.8 KB\n",
      "Download done! Loading the resource.\n"
     ]
    },
    {
     "data": {
      "text/html": [
       "<div>\n",
       "  <span style=\"float: left;\">first at ReadWrite.scala:587</span>\n",
       "</div>\n"
      ]
     },
     "metadata": {},
     "output_type": "display_data"
    },
    {
     "data": {
      "text/html": [
       "<div class=\"progress\">\n",
       "  <div class=\"progress-bar\" role=\"progressbar\" style=\"background-color: blue; width: 100%; word-wrap: normal; white-space: nowrap; text-align: center; color: white\" aria-valuenow=\"100\" aria-valuemin=\"0\" aria-valuemax=\"100\">\n",
       "    1 / 1\n",
       "  </div>\n",
       "  <div class=\"progress-bar\" role=\"progressbar\" style=\"background-color: red; width: 0%\" aria-valuenow=\"0\" aria-valuemin=\"0\" aria-valuemax=\"100\"></div>\n",
       "</div>\n"
      ]
     },
     "metadata": {},
     "output_type": "display_data"
    },
    {
     "data": {
      "text/html": [
       "<div>\n",
       "  <span style=\"float: left;\">first at ReadWrite.scala:587</span>\n",
       "</div>\n"
      ]
     },
     "metadata": {},
     "output_type": "display_data"
    },
    {
     "data": {
      "text/html": [
       "<div class=\"progress\">\n",
       "  <div class=\"progress-bar\" role=\"progressbar\" style=\"background-color: blue; width: 100%; word-wrap: normal; white-space: nowrap; text-align: center; color: white\" aria-valuenow=\"100\" aria-valuemin=\"0\" aria-valuemax=\"100\">\n",
       "    1 / 1\n",
       "  </div>\n",
       "  <div class=\"progress-bar\" role=\"progressbar\" style=\"background-color: red; width: 0%\" aria-valuenow=\"0\" aria-valuemin=\"0\" aria-valuemax=\"100\"></div>\n",
       "</div>\n"
      ]
     },
     "metadata": {},
     "output_type": "display_data"
    },
    {
     "data": {
      "text/html": [
       "<div>\n",
       "  <span style=\"float: left;\">first at ReadWrite.scala:587</span>\n",
       "</div>\n"
      ]
     },
     "metadata": {},
     "output_type": "display_data"
    },
    {
     "data": {
      "text/html": [
       "<div class=\"progress\">\n",
       "  <div class=\"progress-bar\" role=\"progressbar\" style=\"background-color: blue; width: 100%; word-wrap: normal; white-space: nowrap; text-align: center; color: white\" aria-valuenow=\"100\" aria-valuemin=\"0\" aria-valuemax=\"100\">\n",
       "    1 / 1\n",
       "  </div>\n",
       "  <div class=\"progress-bar\" role=\"progressbar\" style=\"background-color: red; width: 0%\" aria-valuenow=\"0\" aria-valuemin=\"0\" aria-valuemax=\"100\"></div>\n",
       "</div>\n"
      ]
     },
     "metadata": {},
     "output_type": "display_data"
    },
    {
     "data": {
      "text/html": [
       "<div>\n",
       "  <span style=\"float: left;\">first at ReadWrite.scala:587</span>\n",
       "</div>\n"
      ]
     },
     "metadata": {},
     "output_type": "display_data"
    },
    {
     "data": {
      "text/html": [
       "<div class=\"progress\">\n",
       "  <div class=\"progress-bar\" role=\"progressbar\" style=\"background-color: blue; width: 100%; word-wrap: normal; white-space: nowrap; text-align: center; color: white\" aria-valuenow=\"100\" aria-valuemin=\"0\" aria-valuemax=\"100\">\n",
       "    1 / 1\n",
       "  </div>\n",
       "  <div class=\"progress-bar\" role=\"progressbar\" style=\"background-color: red; width: 0%\" aria-valuenow=\"0\" aria-valuemin=\"0\" aria-valuemax=\"100\"></div>\n",
       "</div>\n"
      ]
     },
     "metadata": {},
     "output_type": "display_data"
    },
    {
     "data": {
      "text/html": [
       "<div>\n",
       "  <span style=\"float: left;\">first at ReadWrite.scala:587</span>\n",
       "</div>\n"
      ]
     },
     "metadata": {},
     "output_type": "display_data"
    },
    {
     "data": {
      "text/html": [
       "<div class=\"progress\">\n",
       "  <div class=\"progress-bar\" role=\"progressbar\" style=\"background-color: blue; width: 100%; word-wrap: normal; white-space: nowrap; text-align: center; color: white\" aria-valuenow=\"100\" aria-valuemin=\"0\" aria-valuemax=\"100\">\n",
       "    1 / 1\n",
       "  </div>\n",
       "  <div class=\"progress-bar\" role=\"progressbar\" style=\"background-color: red; width: 0%\" aria-valuenow=\"0\" aria-valuemin=\"0\" aria-valuemax=\"100\"></div>\n",
       "</div>\n"
      ]
     },
     "metadata": {},
     "output_type": "display_data"
    },
    {
     "data": {
      "text/html": [
       "<div>\n",
       "  <span style=\"float: left;\">first at ReadWrite.scala:587</span>\n",
       "</div>\n"
      ]
     },
     "metadata": {},
     "output_type": "display_data"
    },
    {
     "data": {
      "text/html": [
       "<div class=\"progress\">\n",
       "  <div class=\"progress-bar\" role=\"progressbar\" style=\"background-color: blue; width: 100%; word-wrap: normal; white-space: nowrap; text-align: center; color: white\" aria-valuenow=\"100\" aria-valuemin=\"0\" aria-valuemax=\"100\">\n",
       "    1 / 1\n",
       "  </div>\n",
       "  <div class=\"progress-bar\" role=\"progressbar\" style=\"background-color: red; width: 0%\" aria-valuenow=\"0\" aria-valuemin=\"0\" aria-valuemax=\"100\"></div>\n",
       "</div>\n"
      ]
     },
     "metadata": {},
     "output_type": "display_data"
    },
    {
     "data": {
      "text/html": [
       "<div>\n",
       "  <span style=\"float: left;\">first at ReadWrite.scala:587</span>\n",
       "</div>\n"
      ]
     },
     "metadata": {},
     "output_type": "display_data"
    },
    {
     "data": {
      "text/html": [
       "<div class=\"progress\">\n",
       "  <div class=\"progress-bar\" role=\"progressbar\" style=\"background-color: blue; width: 100%; word-wrap: normal; white-space: nowrap; text-align: center; color: white\" aria-valuenow=\"100\" aria-valuemin=\"0\" aria-valuemax=\"100\">\n",
       "    1 / 1\n",
       "  </div>\n",
       "  <div class=\"progress-bar\" role=\"progressbar\" style=\"background-color: red; width: 0%\" aria-valuenow=\"0\" aria-valuemin=\"0\" aria-valuemax=\"100\"></div>\n",
       "</div>\n"
      ]
     },
     "metadata": {},
     "output_type": "display_data"
    },
    {
     "data": {
      "text/html": [
       "<div>\n",
       "  <span style=\"float: left;\">first at Feature.scala:120</span>\n",
       "</div>\n"
      ]
     },
     "metadata": {},
     "output_type": "display_data"
    },
    {
     "data": {
      "text/html": [
       "<div class=\"progress\">\n",
       "  <div class=\"progress-bar\" role=\"progressbar\" style=\"background-color: blue; width: 100%; word-wrap: normal; white-space: nowrap; text-align: center; color: white\" aria-valuenow=\"100\" aria-valuemin=\"0\" aria-valuemax=\"100\">\n",
       "    1 / 1\n",
       "  </div>\n",
       "  <div class=\"progress-bar\" role=\"progressbar\" style=\"background-color: red; width: 0%\" aria-valuenow=\"0\" aria-valuemin=\"0\" aria-valuemax=\"100\"></div>\n",
       "</div>\n"
      ]
     },
     "metadata": {},
     "output_type": "display_data"
    },
    {
     "data": {
      "text/html": [
       "<div>\n",
       "  <span style=\"float: left;\">first at Feature.scala:120</span>\n",
       "</div>\n"
      ]
     },
     "metadata": {},
     "output_type": "display_data"
    },
    {
     "data": {
      "text/html": [
       "<div class=\"progress\">\n",
       "  <div class=\"progress-bar\" role=\"progressbar\" style=\"background-color: blue; width: 100%; word-wrap: normal; white-space: nowrap; text-align: center; color: white\" aria-valuenow=\"100\" aria-valuemin=\"0\" aria-valuemax=\"100\">\n",
       "    4 / 4\n",
       "  </div>\n",
       "  <div class=\"progress-bar\" role=\"progressbar\" style=\"background-color: red; width: 0%\" aria-valuenow=\"0\" aria-valuemin=\"0\" aria-valuemax=\"100\"></div>\n",
       "</div>\n"
      ]
     },
     "metadata": {},
     "output_type": "display_data"
    },
    {
     "data": {
      "text/html": [
       "<div>\n",
       "  <span style=\"float: left;\">first at Feature.scala:120</span>\n",
       "</div>\n"
      ]
     },
     "metadata": {},
     "output_type": "display_data"
    },
    {
     "data": {
      "text/html": [
       "<div class=\"progress\">\n",
       "  <div class=\"progress-bar\" role=\"progressbar\" style=\"background-color: blue; width: 100%; word-wrap: normal; white-space: nowrap; text-align: center; color: white\" aria-valuenow=\"100\" aria-valuemin=\"0\" aria-valuemax=\"100\">\n",
       "    12 / 12\n",
       "  </div>\n",
       "  <div class=\"progress-bar\" role=\"progressbar\" style=\"background-color: red; width: 0%\" aria-valuenow=\"0\" aria-valuemin=\"0\" aria-valuemax=\"100\"></div>\n",
       "</div>\n"
      ]
     },
     "metadata": {},
     "output_type": "display_data"
    },
    {
     "data": {
      "text/html": [
       "<div>\n",
       "  <span style=\"float: left;\">first at ReadWrite.scala:587</span>\n",
       "</div>\n"
      ]
     },
     "metadata": {},
     "output_type": "display_data"
    },
    {
     "data": {
      "text/html": [
       "<div class=\"progress\">\n",
       "  <div class=\"progress-bar\" role=\"progressbar\" style=\"background-color: blue; width: 100%; word-wrap: normal; white-space: nowrap; text-align: center; color: white\" aria-valuenow=\"100\" aria-valuemin=\"0\" aria-valuemax=\"100\">\n",
       "    1 / 1\n",
       "  </div>\n",
       "  <div class=\"progress-bar\" role=\"progressbar\" style=\"background-color: red; width: 0%\" aria-valuenow=\"0\" aria-valuemin=\"0\" aria-valuemax=\"100\"></div>\n",
       "</div>\n"
      ]
     },
     "metadata": {},
     "output_type": "display_data"
    },
    {
     "data": {
      "text/html": [
       "<div>\n",
       "  <span style=\"float: left;\">first at ReadWrite.scala:587</span>\n",
       "</div>\n"
      ]
     },
     "metadata": {},
     "output_type": "display_data"
    },
    {
     "data": {
      "text/html": [
       "<div class=\"progress\">\n",
       "  <div class=\"progress-bar\" role=\"progressbar\" style=\"background-color: blue; width: 100%; word-wrap: normal; white-space: nowrap; text-align: center; color: white\" aria-valuenow=\"100\" aria-valuemin=\"0\" aria-valuemax=\"100\">\n",
       "    1 / 1\n",
       "  </div>\n",
       "  <div class=\"progress-bar\" role=\"progressbar\" style=\"background-color: red; width: 0%\" aria-valuenow=\"0\" aria-valuemin=\"0\" aria-valuemax=\"100\"></div>\n",
       "</div>\n"
      ]
     },
     "metadata": {},
     "output_type": "display_data"
    },
    {
     "data": {
      "text/plain": [
       "\u001b[36mclean_stop\u001b[39m: \u001b[32mPretrainedPipeline\u001b[39m = \u001b[33mPretrainedPipeline\u001b[39m(\n",
       "  \u001b[32m\"clean_stop\"\u001b[39m,\n",
       "  \u001b[32m\"en\"\u001b[39m,\n",
       "  \u001b[32m\"public/models\"\u001b[39m,\n",
       "  false,\n",
       "  \u001b[32mNone\u001b[39m\n",
       ")"
      ]
     },
     "execution_count": 24,
     "metadata": {},
     "output_type": "execute_result"
    }
   ],
   "source": [
    "val clean_stop = PretrainedPipeline(\"clean_stop\", lang=\"en\")"
   ]
  },
  {
   "cell_type": "code",
   "execution_count": 25,
   "metadata": {},
   "outputs": [
    {
     "data": {
      "text/plain": [
       "\u001b[36mres24\u001b[39m: \u001b[32mArray\u001b[39m[\u001b[32morg\u001b[39m.\u001b[32mapache\u001b[39m.\u001b[32mspark\u001b[39m.\u001b[32mml\u001b[39m.\u001b[32mTransformer\u001b[39m] = \u001b[33mArray\u001b[39m(\n",
       "  document_90b4be8a6e0b,\n",
       "  SENTENCE_8ba1e4f73af0,\n",
       "  REGEX_TOKENIZER_fb4f98b445ce,\n",
       "  STOPWORDS_CLEANER_b5d381c851f5\n",
       ")"
      ]
     },
     "execution_count": 25,
     "metadata": {},
     "output_type": "execute_result"
    }
   ],
   "source": [
    "clean_stop.model.stages"
   ]
  },
  {
   "cell_type": "code",
   "execution_count": 26,
   "metadata": {},
   "outputs": [
    {
     "data": {
      "text/plain": [
       "\u001b[36mresult\u001b[39m: \u001b[32mMap\u001b[39m[\u001b[32mString\u001b[39m, \u001b[32mSeq\u001b[39m[\u001b[32mString\u001b[39m]] = \u001b[33mMap\u001b[39m(\n",
       "  \u001b[32m\"document\"\u001b[39m -> \u001b[33mList\u001b[39m(\n",
       "    \u001b[32m\"\"\"\n",
       "Peter is a very good persn.\n",
       "My life in Russia is very intersting.\n",
       "John and Peter are brthers. However they don't support each other that much.\n",
       "Lucas Dunbercker is no longer happy. He has a good car though.\n",
       "Europe is very culture rich. There are huge churches! and big houses!\n",
       "\"\"\"\u001b[39m\n",
       "  ),\n",
       "  \u001b[32m\"sentence\"\u001b[39m -> \u001b[33mList\u001b[39m(\n",
       "    \u001b[32m\"Peter is a very good persn.\"\u001b[39m,\n",
       "    \u001b[32m\"My life in Russia is very intersting.\"\u001b[39m,\n",
       "    \u001b[32m\"John and Peter are brthers.\"\u001b[39m,\n",
       "    \u001b[32m\"However they don't support each other that much.\"\u001b[39m,\n",
       "    \u001b[32m\"Lucas Dunbercker is no longer happy.\"\u001b[39m,\n",
       "    \u001b[32m\"He has a good car though.\"\u001b[39m,\n",
       "    \u001b[32m\"Europe is very culture rich.\"\u001b[39m,\n",
       "    \u001b[32m\"There are huge churches!\"\u001b[39m,\n",
       "    \u001b[32m\"and big houses!\"\u001b[39m\n",
       "  ),\n",
       "  \u001b[32m\"token\"\u001b[39m -> \u001b[33mList\u001b[39m(\n",
       "    \u001b[32m\"Peter\"\u001b[39m,\n",
       "    \u001b[32m\"is\"\u001b[39m,\n",
       "    \u001b[32m\"a\"\u001b[39m,\n",
       "    \u001b[32m\"very\"\u001b[39m,\n",
       "    \u001b[32m\"good\"\u001b[39m,\n",
       "    \u001b[32m\"persn\"\u001b[39m,\n",
       "    \u001b[32m\".\"\u001b[39m,\n",
       "    \u001b[32m\"My\"\u001b[39m,\n",
       "    \u001b[32m\"life\"\u001b[39m,\n",
       "    \u001b[32m\"in\"\u001b[39m,\n",
       "    \u001b[32m\"Russia\"\u001b[39m,\n",
       "    \u001b[32m\"is\"\u001b[39m,\n",
       "    \u001b[32m\"very\"\u001b[39m,\n",
       "    \u001b[32m\"intersting\"\u001b[39m,\n",
       "    \u001b[32m\".\"\u001b[39m,\n",
       "    \u001b[32m\"John\"\u001b[39m,\n",
       "    \u001b[32m\"and\"\u001b[39m,\n",
       "...\n",
       "\u001b[36mres25_1\u001b[39m: \u001b[32mSet\u001b[39m[\u001b[32mString\u001b[39m] = \u001b[33mSet\u001b[39m(\u001b[32m\"document\"\u001b[39m, \u001b[32m\"sentence\"\u001b[39m, \u001b[32m\"token\"\u001b[39m, \u001b[32m\"cleanTokens\"\u001b[39m)"
      ]
     },
     "execution_count": 26,
     "metadata": {},
     "output_type": "execute_result"
    }
   ],
   "source": [
    "val result = clean_stop.annotate(testDoc)\n",
    "result.keySet"
   ]
  },
  {
   "cell_type": "code",
   "execution_count": 27,
   "metadata": {},
   "outputs": [
    {
     "data": {
      "text/plain": [
       "\u001b[36mres26\u001b[39m: \u001b[32mString\u001b[39m = \u001b[32m\"Peter good persn . life Russia intersting . John Peter brthers . don't support . Lucas Dunbercker longer happy . good car . Europe culture rich . huge churches ! big houses !\"\u001b[39m"
      ]
     },
     "execution_count": 27,
     "metadata": {},
     "output_type": "execute_result"
    }
   ],
   "source": [
    "result.get(\"cleanTokens\").get.mkString(\" \")"
   ]
  },
  {
   "cell_type": "markdown",
   "metadata": {},
   "source": [
    "### Spell Checker \n",
    "\n",
    "(Norvig Algo)\n",
    "\n",
    "ref: https://norvig.com/spell-correct.html"
   ]
  },
  {
   "cell_type": "code",
   "execution_count": 28,
   "metadata": {},
   "outputs": [
    {
     "name": "stdout",
     "output_type": "stream",
     "text": [
      "check_spelling download started this may take some time.\n",
      "Approximate size to download 913.5 KB\n",
      "Download done! Loading the resource.\n"
     ]
    },
    {
     "data": {
      "text/html": [
       "<div>\n",
       "  <span style=\"float: left;\">first at ReadWrite.scala:587</span>\n",
       "</div>\n"
      ]
     },
     "metadata": {},
     "output_type": "display_data"
    },
    {
     "data": {
      "text/html": [
       "<div class=\"progress\">\n",
       "  <div class=\"progress-bar\" role=\"progressbar\" style=\"background-color: blue; width: 100%; word-wrap: normal; white-space: nowrap; text-align: center; color: white\" aria-valuenow=\"100\" aria-valuemin=\"0\" aria-valuemax=\"100\">\n",
       "    1 / 1\n",
       "  </div>\n",
       "  <div class=\"progress-bar\" role=\"progressbar\" style=\"background-color: red; width: 0%\" aria-valuenow=\"0\" aria-valuemin=\"0\" aria-valuemax=\"100\"></div>\n",
       "</div>\n"
      ]
     },
     "metadata": {},
     "output_type": "display_data"
    },
    {
     "data": {
      "text/html": [
       "<div>\n",
       "  <span style=\"float: left;\">first at ReadWrite.scala:587</span>\n",
       "</div>\n"
      ]
     },
     "metadata": {},
     "output_type": "display_data"
    },
    {
     "data": {
      "text/html": [
       "<div class=\"progress\">\n",
       "  <div class=\"progress-bar\" role=\"progressbar\" style=\"background-color: blue; width: 100%; word-wrap: normal; white-space: nowrap; text-align: center; color: white\" aria-valuenow=\"100\" aria-valuemin=\"0\" aria-valuemax=\"100\">\n",
       "    1 / 1\n",
       "  </div>\n",
       "  <div class=\"progress-bar\" role=\"progressbar\" style=\"background-color: red; width: 0%\" aria-valuenow=\"0\" aria-valuemin=\"0\" aria-valuemax=\"100\"></div>\n",
       "</div>\n"
      ]
     },
     "metadata": {},
     "output_type": "display_data"
    },
    {
     "data": {
      "text/html": [
       "<div>\n",
       "  <span style=\"float: left;\">first at ReadWrite.scala:587</span>\n",
       "</div>\n"
      ]
     },
     "metadata": {},
     "output_type": "display_data"
    },
    {
     "data": {
      "text/html": [
       "<div class=\"progress\">\n",
       "  <div class=\"progress-bar\" role=\"progressbar\" style=\"background-color: blue; width: 100%; word-wrap: normal; white-space: nowrap; text-align: center; color: white\" aria-valuenow=\"100\" aria-valuemin=\"0\" aria-valuemax=\"100\">\n",
       "    1 / 1\n",
       "  </div>\n",
       "  <div class=\"progress-bar\" role=\"progressbar\" style=\"background-color: red; width: 0%\" aria-valuenow=\"0\" aria-valuemin=\"0\" aria-valuemax=\"100\"></div>\n",
       "</div>\n"
      ]
     },
     "metadata": {},
     "output_type": "display_data"
    },
    {
     "data": {
      "text/html": [
       "<div>\n",
       "  <span style=\"float: left;\">first at ReadWrite.scala:587</span>\n",
       "</div>\n"
      ]
     },
     "metadata": {},
     "output_type": "display_data"
    },
    {
     "data": {
      "text/html": [
       "<div class=\"progress\">\n",
       "  <div class=\"progress-bar\" role=\"progressbar\" style=\"background-color: blue; width: 100%; word-wrap: normal; white-space: nowrap; text-align: center; color: white\" aria-valuenow=\"100\" aria-valuemin=\"0\" aria-valuemax=\"100\">\n",
       "    1 / 1\n",
       "  </div>\n",
       "  <div class=\"progress-bar\" role=\"progressbar\" style=\"background-color: red; width: 0%\" aria-valuenow=\"0\" aria-valuemin=\"0\" aria-valuemax=\"100\"></div>\n",
       "</div>\n"
      ]
     },
     "metadata": {},
     "output_type": "display_data"
    },
    {
     "data": {
      "text/html": [
       "<div>\n",
       "  <span style=\"float: left;\">first at ReadWrite.scala:587</span>\n",
       "</div>\n"
      ]
     },
     "metadata": {},
     "output_type": "display_data"
    },
    {
     "data": {
      "text/html": [
       "<div class=\"progress\">\n",
       "  <div class=\"progress-bar\" role=\"progressbar\" style=\"background-color: blue; width: 100%; word-wrap: normal; white-space: nowrap; text-align: center; color: white\" aria-valuenow=\"100\" aria-valuemin=\"0\" aria-valuemax=\"100\">\n",
       "    1 / 1\n",
       "  </div>\n",
       "  <div class=\"progress-bar\" role=\"progressbar\" style=\"background-color: red; width: 0%\" aria-valuenow=\"0\" aria-valuemin=\"0\" aria-valuemax=\"100\"></div>\n",
       "</div>\n"
      ]
     },
     "metadata": {},
     "output_type": "display_data"
    },
    {
     "data": {
      "text/html": [
       "<div>\n",
       "  <span style=\"float: left;\">first at ReadWrite.scala:587</span>\n",
       "</div>\n"
      ]
     },
     "metadata": {},
     "output_type": "display_data"
    },
    {
     "data": {
      "text/html": [
       "<div class=\"progress\">\n",
       "  <div class=\"progress-bar\" role=\"progressbar\" style=\"background-color: blue; width: 100%; word-wrap: normal; white-space: nowrap; text-align: center; color: white\" aria-valuenow=\"100\" aria-valuemin=\"0\" aria-valuemax=\"100\">\n",
       "    1 / 1\n",
       "  </div>\n",
       "  <div class=\"progress-bar\" role=\"progressbar\" style=\"background-color: red; width: 0%\" aria-valuenow=\"0\" aria-valuemin=\"0\" aria-valuemax=\"100\"></div>\n",
       "</div>\n"
      ]
     },
     "metadata": {},
     "output_type": "display_data"
    },
    {
     "data": {
      "text/html": [
       "<div>\n",
       "  <span style=\"float: left;\">first at ReadWrite.scala:587</span>\n",
       "</div>\n"
      ]
     },
     "metadata": {},
     "output_type": "display_data"
    },
    {
     "data": {
      "text/html": [
       "<div class=\"progress\">\n",
       "  <div class=\"progress-bar\" role=\"progressbar\" style=\"background-color: blue; width: 100%; word-wrap: normal; white-space: nowrap; text-align: center; color: white\" aria-valuenow=\"100\" aria-valuemin=\"0\" aria-valuemax=\"100\">\n",
       "    1 / 1\n",
       "  </div>\n",
       "  <div class=\"progress-bar\" role=\"progressbar\" style=\"background-color: red; width: 0%\" aria-valuenow=\"0\" aria-valuemin=\"0\" aria-valuemax=\"100\"></div>\n",
       "</div>\n"
      ]
     },
     "metadata": {},
     "output_type": "display_data"
    },
    {
     "data": {
      "text/html": [
       "<div>\n",
       "  <span style=\"float: left;\">first at Feature.scala:120</span>\n",
       "</div>\n"
      ]
     },
     "metadata": {},
     "output_type": "display_data"
    },
    {
     "data": {
      "text/html": [
       "<div class=\"progress\">\n",
       "  <div class=\"progress-bar\" role=\"progressbar\" style=\"background-color: blue; width: 100%; word-wrap: normal; white-space: nowrap; text-align: center; color: white\" aria-valuenow=\"100\" aria-valuemin=\"0\" aria-valuemax=\"100\">\n",
       "    1 / 1\n",
       "  </div>\n",
       "  <div class=\"progress-bar\" role=\"progressbar\" style=\"background-color: red; width: 0%\" aria-valuenow=\"0\" aria-valuemin=\"0\" aria-valuemax=\"100\"></div>\n",
       "</div>\n"
      ]
     },
     "metadata": {},
     "output_type": "display_data"
    },
    {
     "data": {
      "text/html": [
       "<div>\n",
       "  <span style=\"float: left;\">first at Feature.scala:120</span>\n",
       "</div>\n"
      ]
     },
     "metadata": {},
     "output_type": "display_data"
    },
    {
     "data": {
      "text/html": [
       "<div class=\"progress\">\n",
       "  <div class=\"progress-bar\" role=\"progressbar\" style=\"background-color: blue; width: 100%; word-wrap: normal; white-space: nowrap; text-align: center; color: white\" aria-valuenow=\"100\" aria-valuemin=\"0\" aria-valuemax=\"100\">\n",
       "    4 / 4\n",
       "  </div>\n",
       "  <div class=\"progress-bar\" role=\"progressbar\" style=\"background-color: red; width: 0%\" aria-valuenow=\"0\" aria-valuemin=\"0\" aria-valuemax=\"100\"></div>\n",
       "</div>\n"
      ]
     },
     "metadata": {},
     "output_type": "display_data"
    },
    {
     "data": {
      "text/html": [
       "<div>\n",
       "  <span style=\"float: left;\">first at Feature.scala:120</span>\n",
       "</div>\n"
      ]
     },
     "metadata": {},
     "output_type": "display_data"
    },
    {
     "data": {
      "text/html": [
       "<div class=\"progress\">\n",
       "  <div class=\"progress-bar\" role=\"progressbar\" style=\"background-color: blue; width: 100%; word-wrap: normal; white-space: nowrap; text-align: center; color: white\" aria-valuenow=\"100\" aria-valuemin=\"0\" aria-valuemax=\"100\">\n",
       "    12 / 12\n",
       "  </div>\n",
       "  <div class=\"progress-bar\" role=\"progressbar\" style=\"background-color: red; width: 0%\" aria-valuenow=\"0\" aria-valuemin=\"0\" aria-valuemax=\"100\"></div>\n",
       "</div>\n"
      ]
     },
     "metadata": {},
     "output_type": "display_data"
    },
    {
     "data": {
      "text/html": [
       "<div>\n",
       "  <span style=\"float: left;\">first at ReadWrite.scala:587</span>\n",
       "</div>\n"
      ]
     },
     "metadata": {},
     "output_type": "display_data"
    },
    {
     "data": {
      "text/html": [
       "<div class=\"progress\">\n",
       "  <div class=\"progress-bar\" role=\"progressbar\" style=\"background-color: blue; width: 100%; word-wrap: normal; white-space: nowrap; text-align: center; color: white\" aria-valuenow=\"100\" aria-valuemin=\"0\" aria-valuemax=\"100\">\n",
       "    1 / 1\n",
       "  </div>\n",
       "  <div class=\"progress-bar\" role=\"progressbar\" style=\"background-color: red; width: 0%\" aria-valuenow=\"0\" aria-valuemin=\"0\" aria-valuemax=\"100\"></div>\n",
       "</div>\n"
      ]
     },
     "metadata": {},
     "output_type": "display_data"
    },
    {
     "data": {
      "text/html": [
       "<div>\n",
       "  <span style=\"float: left;\">first at ReadWrite.scala:587</span>\n",
       "</div>\n"
      ]
     },
     "metadata": {},
     "output_type": "display_data"
    },
    {
     "data": {
      "text/html": [
       "<div class=\"progress\">\n",
       "  <div class=\"progress-bar\" role=\"progressbar\" style=\"background-color: blue; width: 100%; word-wrap: normal; white-space: nowrap; text-align: center; color: white\" aria-valuenow=\"100\" aria-valuemin=\"0\" aria-valuemax=\"100\">\n",
       "    1 / 1\n",
       "  </div>\n",
       "  <div class=\"progress-bar\" role=\"progressbar\" style=\"background-color: red; width: 0%\" aria-valuenow=\"0\" aria-valuemin=\"0\" aria-valuemax=\"100\"></div>\n",
       "</div>\n"
      ]
     },
     "metadata": {},
     "output_type": "display_data"
    },
    {
     "data": {
      "text/html": [
       "<div>\n",
       "  <span style=\"float: left;\">collect at Feature.scala:161</span>\n",
       "</div>\n"
      ]
     },
     "metadata": {},
     "output_type": "display_data"
    },
    {
     "data": {
      "text/html": [
       "<div class=\"progress\">\n",
       "  <div class=\"progress-bar\" role=\"progressbar\" style=\"background-color: blue; width: 100%; word-wrap: normal; white-space: nowrap; text-align: center; color: white\" aria-valuenow=\"100\" aria-valuemin=\"0\" aria-valuemax=\"100\">\n",
       "    12 / 12\n",
       "  </div>\n",
       "  <div class=\"progress-bar\" role=\"progressbar\" style=\"background-color: red; width: 0%\" aria-valuenow=\"0\" aria-valuemin=\"0\" aria-valuemax=\"100\"></div>\n",
       "</div>\n"
      ]
     },
     "metadata": {},
     "output_type": "display_data"
    },
    {
     "data": {
      "text/plain": [
       "\u001b[36mspell_checker\u001b[39m: \u001b[32mPretrainedPipeline\u001b[39m = \u001b[33mPretrainedPipeline\u001b[39m(\n",
       "  \u001b[32m\"check_spelling\"\u001b[39m,\n",
       "  \u001b[32m\"en\"\u001b[39m,\n",
       "  \u001b[32m\"public/models\"\u001b[39m,\n",
       "  false,\n",
       "  \u001b[32mNone\u001b[39m\n",
       ")"
      ]
     },
     "execution_count": 28,
     "metadata": {},
     "output_type": "execute_result"
    }
   ],
   "source": [
    "val spell_checker = PretrainedPipeline(\"check_spelling\", lang=\"en\")"
   ]
  },
  {
   "cell_type": "code",
   "execution_count": 29,
   "metadata": {},
   "outputs": [
    {
     "data": {
      "text/plain": [
       "\u001b[36mtestDoc\u001b[39m: \u001b[32mString\u001b[39m = \u001b[32m\"\"\"\n",
       "Peter is a very good persn.\n",
       "My life in Russia is very intersting.\n",
       "John and Peter are brthers. However they don't support each other that much.\n",
       "Lucas Dunbercker is no longer happy. He has a good car though.\n",
       "Europe is very culture rich. There are huge churches! and big houses!\n",
       "\"\"\"\u001b[39m\n",
       "\u001b[36mresult\u001b[39m: \u001b[32mMap\u001b[39m[\u001b[32mString\u001b[39m, \u001b[32mSeq\u001b[39m[\u001b[32mString\u001b[39m]] = \u001b[33mMap\u001b[39m(\n",
       "  \u001b[32m\"document\"\u001b[39m -> \u001b[33mList\u001b[39m(\n",
       "    \u001b[32m\"\"\"\n",
       "Peter is a very good persn.\n",
       "My life in Russia is very intersting.\n",
       "John and Peter are brthers. However they don't support each other that much.\n",
       "Lucas Dunbercker is no longer happy. He has a good car though.\n",
       "Europe is very culture rich. There are huge churches! and big houses!\n",
       "\"\"\"\u001b[39m\n",
       "  ),\n",
       "  \u001b[32m\"sentence\"\u001b[39m -> \u001b[33mList\u001b[39m(\n",
       "    \u001b[32m\"Peter is a very good persn.\"\u001b[39m,\n",
       "    \u001b[32m\"My life in Russia is very intersting.\"\u001b[39m,\n",
       "    \u001b[32m\"John and Peter are brthers.\"\u001b[39m,\n",
       "    \u001b[32m\"However they don't support each other that much.\"\u001b[39m,\n",
       "    \u001b[32m\"Lucas Dunbercker is no longer happy.\"\u001b[39m,\n",
       "    \u001b[32m\"He has a good car though.\"\u001b[39m,\n",
       "    \u001b[32m\"Europe is very culture rich.\"\u001b[39m,\n",
       "    \u001b[32m\"There are huge churches!\"\u001b[39m,\n",
       "    \u001b[32m\"and big houses!\"\u001b[39m\n",
       "  ),\n",
       "  \u001b[32m\"token\"\u001b[39m -> \u001b[33mList\u001b[39m(\n",
       "    \u001b[32m\"Peter\"\u001b[39m,\n",
       "    \u001b[32m\"is\"\u001b[39m,\n",
       "    \u001b[32m\"a\"\u001b[39m,\n",
       "    \u001b[32m\"very\"\u001b[39m,\n",
       "    \u001b[32m\"good\"\u001b[39m,\n",
       "    \u001b[32m\"persn\"\u001b[39m,\n",
       "    \u001b[32m\".\"\u001b[39m,\n",
       "    \u001b[32m\"My\"\u001b[39m,\n",
       "    \u001b[32m\"life\"\u001b[39m,\n",
       "    \u001b[32m\"in\"\u001b[39m,\n",
       "    \u001b[32m\"Russia\"\u001b[39m,\n",
       "    \u001b[32m\"is\"\u001b[39m,\n",
       "    \u001b[32m\"very\"\u001b[39m,\n",
       "    \u001b[32m\"intersting\"\u001b[39m,\n",
       "    \u001b[32m\".\"\u001b[39m,\n",
       "    \u001b[32m\"John\"\u001b[39m,\n",
       "    \u001b[32m\"and\"\u001b[39m,\n",
       "...\n",
       "\u001b[36mres28_2\u001b[39m: \u001b[32mSet\u001b[39m[\u001b[32mString\u001b[39m] = \u001b[33mSet\u001b[39m(\u001b[32m\"document\"\u001b[39m, \u001b[32m\"sentence\"\u001b[39m, \u001b[32m\"token\"\u001b[39m, \u001b[32m\"checked\"\u001b[39m)"
      ]
     },
     "execution_count": 29,
     "metadata": {},
     "output_type": "execute_result"
    }
   ],
   "source": [
    "val testDoc = \"\"\"\n",
    "Peter is a very good persn.\n",
    "My life in Russia is very intersting.\n",
    "John and Peter are brthers. However they don't support each other that much.\n",
    "Lucas Dunbercker is no longer happy. He has a good car though.\n",
    "Europe is very culture rich. There are huge churches! and big houses!\n",
    "\"\"\"\n",
    "\n",
    "val result = spell_checker.annotate(testDoc)\n",
    "\n",
    "result.keySet"
   ]
  },
  {
   "cell_type": "code",
   "execution_count": 30,
   "metadata": {},
   "outputs": [
    {
     "data": {
      "text/plain": [
       "\u001b[36mres29\u001b[39m: \u001b[32mOption\u001b[39m[\u001b[32mSeq\u001b[39m[(\u001b[32mString\u001b[39m, \u001b[32mString\u001b[39m)]] = \u001b[33mSome\u001b[39m(\n",
       "  \u001b[33mList\u001b[39m(\n",
       "    (\u001b[32m\"Peter\"\u001b[39m, \u001b[32m\"Peter\"\u001b[39m),\n",
       "    (\u001b[32m\"is\"\u001b[39m, \u001b[32m\"is\"\u001b[39m),\n",
       "    (\u001b[32m\"a\"\u001b[39m, \u001b[32m\"a\"\u001b[39m),\n",
       "    (\u001b[32m\"very\"\u001b[39m, \u001b[32m\"very\"\u001b[39m),\n",
       "    (\u001b[32m\"good\"\u001b[39m, \u001b[32m\"good\"\u001b[39m),\n",
       "    (\u001b[32m\"persn\"\u001b[39m, \u001b[32m\"person\"\u001b[39m),\n",
       "    (\u001b[32m\".\"\u001b[39m, \u001b[32m\".\"\u001b[39m),\n",
       "    (\u001b[32m\"My\"\u001b[39m, \u001b[32m\"My\"\u001b[39m),\n",
       "    (\u001b[32m\"life\"\u001b[39m, \u001b[32m\"life\"\u001b[39m),\n",
       "    (\u001b[32m\"in\"\u001b[39m, \u001b[32m\"in\"\u001b[39m),\n",
       "    (\u001b[32m\"Russia\"\u001b[39m, \u001b[32m\"Russia\"\u001b[39m),\n",
       "    (\u001b[32m\"is\"\u001b[39m, \u001b[32m\"is\"\u001b[39m),\n",
       "    (\u001b[32m\"very\"\u001b[39m, \u001b[32m\"very\"\u001b[39m),\n",
       "    (\u001b[32m\"intersting\"\u001b[39m, \u001b[32m\"interesting\"\u001b[39m),\n",
       "    (\u001b[32m\".\"\u001b[39m, \u001b[32m\".\"\u001b[39m),\n",
       "    (\u001b[32m\"John\"\u001b[39m, \u001b[32m\"John\"\u001b[39m),\n",
       "    (\u001b[32m\"and\"\u001b[39m, \u001b[32m\"and\"\u001b[39m),\n",
       "    (\u001b[32m\"Peter\"\u001b[39m, \u001b[32m\"Peter\"\u001b[39m),\n",
       "    (\u001b[32m\"are\"\u001b[39m, \u001b[32m\"are\"\u001b[39m),\n",
       "    (\u001b[32m\"brthers\"\u001b[39m, \u001b[32m\"brothers\"\u001b[39m),\n",
       "    (\u001b[32m\".\"\u001b[39m, \u001b[32m\".\"\u001b[39m),\n",
       "    (\u001b[32m\"However\"\u001b[39m, \u001b[32m\"However\"\u001b[39m),\n",
       "    (\u001b[32m\"they\"\u001b[39m, \u001b[32m\"they\"\u001b[39m),\n",
       "    (\u001b[32m\"don't\"\u001b[39m, \u001b[32m\"don't\"\u001b[39m),\n",
       "    (\u001b[32m\"support\"\u001b[39m, \u001b[32m\"support\"\u001b[39m),\n",
       "    (\u001b[32m\"each\"\u001b[39m, \u001b[32m\"each\"\u001b[39m),\n",
       "    (\u001b[32m\"other\"\u001b[39m, \u001b[32m\"other\"\u001b[39m),\n",
       "    (\u001b[32m\"that\"\u001b[39m, \u001b[32m\"that\"\u001b[39m),\n",
       "    (\u001b[32m\"much\"\u001b[39m, \u001b[32m\"much\"\u001b[39m),\n",
       "    (\u001b[32m\".\"\u001b[39m, \u001b[32m\".\"\u001b[39m),\n",
       "    (\u001b[32m\"Lucas\"\u001b[39m, \u001b[32m\"Lucas\"\u001b[39m),\n",
       "    (\u001b[32m\"Dunbercker\"\u001b[39m, \u001b[32m\"Dunbercker\"\u001b[39m),\n",
       "    (\u001b[32m\"is\"\u001b[39m, \u001b[32m\"is\"\u001b[39m),\n",
       "    (\u001b[32m\"no\"\u001b[39m, \u001b[32m\"no\"\u001b[39m),\n",
       "    (\u001b[32m\"longer\"\u001b[39m, \u001b[32m\"longer\"\u001b[39m),\n",
       "    (\u001b[32m\"happy\"\u001b[39m, \u001b[32m\"happy\"\u001b[39m),\n",
       "    (\u001b[32m\".\"\u001b[39m, \u001b[32m\".\"\u001b[39m),\n",
       "..."
      ]
     },
     "execution_count": 30,
     "metadata": {},
     "output_type": "execute_result"
    }
   ],
   "source": [
    "for {\n",
    "    t <- result.get(\"token\")\n",
    "    c <- result.get(\"checked\")\n",
    "}yield t zip c"
   ]
  },
  {
   "cell_type": "markdown",
   "metadata": {},
   "source": [
    "### Parsing a list of texts### Parsing a list of texts"
   ]
  },
  {
   "cell_type": "code",
   "execution_count": 31,
   "metadata": {},
   "outputs": [
    {
     "data": {
      "text/plain": [
       "\u001b[36mtestDoc_list\u001b[39m: \u001b[32mArray\u001b[39m[\u001b[32mString\u001b[39m] = \u001b[33mArray\u001b[39m(\n",
       "  \u001b[32m\"French author who helped pioner the science-fiction genre.\"\u001b[39m,\n",
       "  \u001b[32m\"Verne wrate about space, air, and underwater travel before navigable aircrast\"\u001b[39m,\n",
       "  \u001b[32m\"Practical submarines were invented, and before any means of space travel had been devised.\"\u001b[39m\n",
       ")\n",
       "\u001b[36mres30_1\u001b[39m: \u001b[32mArray\u001b[39m[\u001b[32mString\u001b[39m] = \u001b[33mArray\u001b[39m(\n",
       "  \u001b[32m\"French author who helped pioner the science-fiction genre.\"\u001b[39m,\n",
       "  \u001b[32m\"Verne wrate about space, air, and underwater travel before navigable aircrast\"\u001b[39m,\n",
       "  \u001b[32m\"Practical submarines were invented, and before any means of space travel had been devised.\"\u001b[39m\n",
       ")"
      ]
     },
     "execution_count": 31,
     "metadata": {},
     "output_type": "execute_result"
    }
   ],
   "source": [
    "val testDoc_list = Array(\"French author who helped pioner the science-fiction genre.\",\n",
    "\"Verne wrate about space, air, and underwater travel before navigable aircrast\",\n",
    "\"Practical submarines were invented, and before any means of space travel had been devised.\")\n",
    "\n",
    "testDoc_list"
   ]
  },
  {
   "cell_type": "code",
   "execution_count": 32,
   "metadata": {},
   "outputs": [
    {
     "data": {
      "text/plain": [
       "\u001b[36mpipeline\u001b[39m: \u001b[32mPretrainedPipeline\u001b[39m = \u001b[33mPretrainedPipeline\u001b[39m(\n",
       "  \u001b[32m\"explain_document_ml\"\u001b[39m,\n",
       "  \u001b[32m\"en\"\u001b[39m,\n",
       "  \u001b[32m\"public/models\"\u001b[39m,\n",
       "  false,\n",
       "  \u001b[32mNone\u001b[39m\n",
       ")"
      ]
     },
     "execution_count": 32,
     "metadata": {},
     "output_type": "execute_result"
    }
   ],
   "source": [
    "val pipeline = PretrainedPipeline(\"explain_document_ml\", lang=\"en\")"
   ]
  },
  {
   "cell_type": "code",
   "execution_count": 33,
   "metadata": {},
   "outputs": [
    {
     "data": {
      "text/plain": [
       "\u001b[36mresult_list\u001b[39m: \u001b[32mArray\u001b[39m[\u001b[32mMap\u001b[39m[\u001b[32mString\u001b[39m, \u001b[32mSeq\u001b[39m[\u001b[32mString\u001b[39m]]] = \u001b[33mArray\u001b[39m(\n",
       "  \u001b[33mMap\u001b[39m(\n",
       "    \u001b[32m\"document\"\u001b[39m -> \u001b[33mList\u001b[39m(\u001b[32m\"French author who helped pioner the science-fiction genre.\"\u001b[39m),\n",
       "    \u001b[32m\"spell\"\u001b[39m -> \u001b[33mList\u001b[39m(\n",
       "      \u001b[32m\"French\"\u001b[39m,\n",
       "      \u001b[32m\"author\"\u001b[39m,\n",
       "      \u001b[32m\"who\"\u001b[39m,\n",
       "      \u001b[32m\"helped\"\u001b[39m,\n",
       "      \u001b[32m\"pioneer\"\u001b[39m,\n",
       "      \u001b[32m\"the\"\u001b[39m,\n",
       "      \u001b[32m\"sciencefiction\"\u001b[39m,\n",
       "      \u001b[32m\"genre\"\u001b[39m,\n",
       "      \u001b[32m\".\"\u001b[39m\n",
       "    ),\n",
       "    \u001b[32m\"pos\"\u001b[39m -> \u001b[33mArrayBuffer\u001b[39m(\u001b[32m\"JJ\"\u001b[39m, \u001b[32m\"NN\"\u001b[39m, \u001b[32m\"WP\"\u001b[39m, \u001b[32m\"VBD\"\u001b[39m, \u001b[32m\"NN\"\u001b[39m, \u001b[32m\"DT\"\u001b[39m, \u001b[32m\"NN\"\u001b[39m, \u001b[32m\"NN\"\u001b[39m, \u001b[32m\".\"\u001b[39m),\n",
       "    \u001b[32m\"lemmas\"\u001b[39m -> \u001b[33mList\u001b[39m(\n",
       "      \u001b[32m\"French\"\u001b[39m,\n",
       "      \u001b[32m\"author\"\u001b[39m,\n",
       "      \u001b[32m\"who\"\u001b[39m,\n",
       "      \u001b[32m\"help\"\u001b[39m,\n",
       "      \u001b[32m\"pioneer\"\u001b[39m,\n",
       "      \u001b[32m\"the\"\u001b[39m,\n",
       "      \u001b[32m\"sciencefiction\"\u001b[39m,\n",
       "      \u001b[32m\"genre\"\u001b[39m,\n",
       "      \u001b[32m\".\"\u001b[39m\n",
       "    ),\n",
       "    \u001b[32m\"token\"\u001b[39m -> \u001b[33mList\u001b[39m(\n",
       "      \u001b[32m\"French\"\u001b[39m,\n",
       "      \u001b[32m\"author\"\u001b[39m,\n",
       "      \u001b[32m\"who\"\u001b[39m,\n",
       "      \u001b[32m\"helped\"\u001b[39m,\n",
       "      \u001b[32m\"pioner\"\u001b[39m,\n",
       "      \u001b[32m\"the\"\u001b[39m,\n",
       "      \u001b[32m\"science-fiction\"\u001b[39m,\n",
       "      \u001b[32m\"genre\"\u001b[39m,\n",
       "      \u001b[32m\".\"\u001b[39m\n",
       "    ),\n",
       "    \u001b[32m\"stems\"\u001b[39m -> \u001b[33mList\u001b[39m(\n",
       "...\n",
       "\u001b[36mres32_1\u001b[39m: \u001b[32mInt\u001b[39m = \u001b[32m3\u001b[39m"
      ]
     },
     "execution_count": 33,
     "metadata": {},
     "output_type": "execute_result"
    }
   ],
   "source": [
    "val result_list = pipeline.annotate(testDoc_list)\n",
    "result_list.length"
   ]
  },
  {
   "cell_type": "code",
   "execution_count": 34,
   "metadata": {},
   "outputs": [
    {
     "data": {
      "text/plain": [
       "\u001b[36mres33\u001b[39m: \u001b[32mMap\u001b[39m[\u001b[32mString\u001b[39m, \u001b[32mSeq\u001b[39m[\u001b[32mString\u001b[39m]] = \u001b[33mMap\u001b[39m(\n",
       "  \u001b[32m\"document\"\u001b[39m -> \u001b[33mList\u001b[39m(\u001b[32m\"French author who helped pioner the science-fiction genre.\"\u001b[39m),\n",
       "  \u001b[32m\"spell\"\u001b[39m -> \u001b[33mList\u001b[39m(\n",
       "    \u001b[32m\"French\"\u001b[39m,\n",
       "    \u001b[32m\"author\"\u001b[39m,\n",
       "    \u001b[32m\"who\"\u001b[39m,\n",
       "    \u001b[32m\"helped\"\u001b[39m,\n",
       "    \u001b[32m\"pioneer\"\u001b[39m,\n",
       "    \u001b[32m\"the\"\u001b[39m,\n",
       "    \u001b[32m\"sciencefiction\"\u001b[39m,\n",
       "    \u001b[32m\"genre\"\u001b[39m,\n",
       "    \u001b[32m\".\"\u001b[39m\n",
       "  ),\n",
       "  \u001b[32m\"pos\"\u001b[39m -> \u001b[33mArrayBuffer\u001b[39m(\u001b[32m\"JJ\"\u001b[39m, \u001b[32m\"NN\"\u001b[39m, \u001b[32m\"WP\"\u001b[39m, \u001b[32m\"VBD\"\u001b[39m, \u001b[32m\"NN\"\u001b[39m, \u001b[32m\"DT\"\u001b[39m, \u001b[32m\"NN\"\u001b[39m, \u001b[32m\"NN\"\u001b[39m, \u001b[32m\".\"\u001b[39m),\n",
       "  \u001b[32m\"lemmas\"\u001b[39m -> \u001b[33mList\u001b[39m(\n",
       "    \u001b[32m\"French\"\u001b[39m,\n",
       "    \u001b[32m\"author\"\u001b[39m,\n",
       "    \u001b[32m\"who\"\u001b[39m,\n",
       "    \u001b[32m\"help\"\u001b[39m,\n",
       "    \u001b[32m\"pioneer\"\u001b[39m,\n",
       "    \u001b[32m\"the\"\u001b[39m,\n",
       "    \u001b[32m\"sciencefiction\"\u001b[39m,\n",
       "    \u001b[32m\"genre\"\u001b[39m,\n",
       "    \u001b[32m\".\"\u001b[39m\n",
       "  ),\n",
       "  \u001b[32m\"token\"\u001b[39m -> \u001b[33mList\u001b[39m(\n",
       "    \u001b[32m\"French\"\u001b[39m,\n",
       "    \u001b[32m\"author\"\u001b[39m,\n",
       "    \u001b[32m\"who\"\u001b[39m,\n",
       "    \u001b[32m\"helped\"\u001b[39m,\n",
       "    \u001b[32m\"pioner\"\u001b[39m,\n",
       "    \u001b[32m\"the\"\u001b[39m,\n",
       "    \u001b[32m\"science-fiction\"\u001b[39m,\n",
       "    \u001b[32m\"genre\"\u001b[39m,\n",
       "    \u001b[32m\".\"\u001b[39m\n",
       "  ),\n",
       "  \u001b[32m\"stems\"\u001b[39m -> \u001b[33mList\u001b[39m(\n",
       "    \u001b[32m\"french\"\u001b[39m,\n",
       "..."
      ]
     },
     "execution_count": 34,
     "metadata": {},
     "output_type": "execute_result"
    }
   ],
   "source": [
    "result_list.head"
   ]
  },
  {
   "cell_type": "markdown",
   "metadata": {},
   "source": [
    "### Sentiment Analysis\n"
   ]
  },
  {
   "cell_type": "markdown",
   "metadata": {},
   "source": [
    "#### Vivek algo\n",
    "\n",
    "paper: `Fast and accurate sentiment classification using an enhanced Naive Bayes model`\n",
    "\n",
    "https://arxiv.org/abs/1305.6143\n",
    "\n",
    "code `https://github.com/vivekn/sentiment`"
   ]
  },
  {
   "cell_type": "code",
   "execution_count": 35,
   "metadata": {},
   "outputs": [
    {
     "name": "stdout",
     "output_type": "stream",
     "text": [
      "analyze_sentiment download started this may take some time.\n",
      "Approximate size to download 4.9 MB\n",
      "Download done! Loading the resource.\n"
     ]
    },
    {
     "data": {
      "text/html": [
       "<div>\n",
       "  <span style=\"float: left;\">first at ReadWrite.scala:587</span>\n",
       "</div>\n"
      ]
     },
     "metadata": {},
     "output_type": "display_data"
    },
    {
     "data": {
      "text/html": [
       "<div class=\"progress\">\n",
       "  <div class=\"progress-bar\" role=\"progressbar\" style=\"background-color: blue; width: 100%; word-wrap: normal; white-space: nowrap; text-align: center; color: white\" aria-valuenow=\"100\" aria-valuemin=\"0\" aria-valuemax=\"100\">\n",
       "    1 / 1\n",
       "  </div>\n",
       "  <div class=\"progress-bar\" role=\"progressbar\" style=\"background-color: red; width: 0%\" aria-valuenow=\"0\" aria-valuemin=\"0\" aria-valuemax=\"100\"></div>\n",
       "</div>\n"
      ]
     },
     "metadata": {},
     "output_type": "display_data"
    },
    {
     "data": {
      "text/html": [
       "<div>\n",
       "  <span style=\"float: left;\">first at ReadWrite.scala:587</span>\n",
       "</div>\n"
      ]
     },
     "metadata": {},
     "output_type": "display_data"
    },
    {
     "data": {
      "text/html": [
       "<div class=\"progress\">\n",
       "  <div class=\"progress-bar\" role=\"progressbar\" style=\"background-color: blue; width: 100%; word-wrap: normal; white-space: nowrap; text-align: center; color: white\" aria-valuenow=\"100\" aria-valuemin=\"0\" aria-valuemax=\"100\">\n",
       "    1 / 1\n",
       "  </div>\n",
       "  <div class=\"progress-bar\" role=\"progressbar\" style=\"background-color: red; width: 0%\" aria-valuenow=\"0\" aria-valuemin=\"0\" aria-valuemax=\"100\"></div>\n",
       "</div>\n"
      ]
     },
     "metadata": {},
     "output_type": "display_data"
    },
    {
     "data": {
      "text/html": [
       "<div>\n",
       "  <span style=\"float: left;\">first at ReadWrite.scala:587</span>\n",
       "</div>\n"
      ]
     },
     "metadata": {},
     "output_type": "display_data"
    },
    {
     "data": {
      "text/html": [
       "<div class=\"progress\">\n",
       "  <div class=\"progress-bar\" role=\"progressbar\" style=\"background-color: blue; width: 100%; word-wrap: normal; white-space: nowrap; text-align: center; color: white\" aria-valuenow=\"100\" aria-valuemin=\"0\" aria-valuemax=\"100\">\n",
       "    1 / 1\n",
       "  </div>\n",
       "  <div class=\"progress-bar\" role=\"progressbar\" style=\"background-color: red; width: 0%\" aria-valuenow=\"0\" aria-valuemin=\"0\" aria-valuemax=\"100\"></div>\n",
       "</div>\n"
      ]
     },
     "metadata": {},
     "output_type": "display_data"
    },
    {
     "data": {
      "text/html": [
       "<div>\n",
       "  <span style=\"float: left;\">first at ReadWrite.scala:587</span>\n",
       "</div>\n"
      ]
     },
     "metadata": {},
     "output_type": "display_data"
    },
    {
     "data": {
      "text/html": [
       "<div class=\"progress\">\n",
       "  <div class=\"progress-bar\" role=\"progressbar\" style=\"background-color: blue; width: 100%; word-wrap: normal; white-space: nowrap; text-align: center; color: white\" aria-valuenow=\"100\" aria-valuemin=\"0\" aria-valuemax=\"100\">\n",
       "    1 / 1\n",
       "  </div>\n",
       "  <div class=\"progress-bar\" role=\"progressbar\" style=\"background-color: red; width: 0%\" aria-valuenow=\"0\" aria-valuemin=\"0\" aria-valuemax=\"100\"></div>\n",
       "</div>\n"
      ]
     },
     "metadata": {},
     "output_type": "display_data"
    },
    {
     "data": {
      "text/html": [
       "<div>\n",
       "  <span style=\"float: left;\">first at ReadWrite.scala:587</span>\n",
       "</div>\n"
      ]
     },
     "metadata": {},
     "output_type": "display_data"
    },
    {
     "data": {
      "text/html": [
       "<div class=\"progress\">\n",
       "  <div class=\"progress-bar\" role=\"progressbar\" style=\"background-color: blue; width: 100%; word-wrap: normal; white-space: nowrap; text-align: center; color: white\" aria-valuenow=\"100\" aria-valuemin=\"0\" aria-valuemax=\"100\">\n",
       "    1 / 1\n",
       "  </div>\n",
       "  <div class=\"progress-bar\" role=\"progressbar\" style=\"background-color: red; width: 0%\" aria-valuenow=\"0\" aria-valuemin=\"0\" aria-valuemax=\"100\"></div>\n",
       "</div>\n"
      ]
     },
     "metadata": {},
     "output_type": "display_data"
    },
    {
     "data": {
      "text/html": [
       "<div>\n",
       "  <span style=\"float: left;\">first at ReadWrite.scala:587</span>\n",
       "</div>\n"
      ]
     },
     "metadata": {},
     "output_type": "display_data"
    },
    {
     "data": {
      "text/html": [
       "<div class=\"progress\">\n",
       "  <div class=\"progress-bar\" role=\"progressbar\" style=\"background-color: blue; width: 100%; word-wrap: normal; white-space: nowrap; text-align: center; color: white\" aria-valuenow=\"100\" aria-valuemin=\"0\" aria-valuemax=\"100\">\n",
       "    1 / 1\n",
       "  </div>\n",
       "  <div class=\"progress-bar\" role=\"progressbar\" style=\"background-color: red; width: 0%\" aria-valuenow=\"0\" aria-valuemin=\"0\" aria-valuemax=\"100\"></div>\n",
       "</div>\n"
      ]
     },
     "metadata": {},
     "output_type": "display_data"
    },
    {
     "data": {
      "text/html": [
       "<div>\n",
       "  <span style=\"float: left;\">first at ReadWrite.scala:587</span>\n",
       "</div>\n"
      ]
     },
     "metadata": {},
     "output_type": "display_data"
    },
    {
     "data": {
      "text/html": [
       "<div class=\"progress\">\n",
       "  <div class=\"progress-bar\" role=\"progressbar\" style=\"background-color: blue; width: 100%; word-wrap: normal; white-space: nowrap; text-align: center; color: white\" aria-valuenow=\"100\" aria-valuemin=\"0\" aria-valuemax=\"100\">\n",
       "    1 / 1\n",
       "  </div>\n",
       "  <div class=\"progress-bar\" role=\"progressbar\" style=\"background-color: red; width: 0%\" aria-valuenow=\"0\" aria-valuemin=\"0\" aria-valuemax=\"100\"></div>\n",
       "</div>\n"
      ]
     },
     "metadata": {},
     "output_type": "display_data"
    },
    {
     "data": {
      "text/html": [
       "<div>\n",
       "  <span style=\"float: left;\">first at Feature.scala:120</span>\n",
       "</div>\n"
      ]
     },
     "metadata": {},
     "output_type": "display_data"
    },
    {
     "data": {
      "text/html": [
       "<div class=\"progress\">\n",
       "  <div class=\"progress-bar\" role=\"progressbar\" style=\"background-color: blue; width: 100%; word-wrap: normal; white-space: nowrap; text-align: center; color: white\" aria-valuenow=\"100\" aria-valuemin=\"0\" aria-valuemax=\"100\">\n",
       "    1 / 1\n",
       "  </div>\n",
       "  <div class=\"progress-bar\" role=\"progressbar\" style=\"background-color: red; width: 0%\" aria-valuenow=\"0\" aria-valuemin=\"0\" aria-valuemax=\"100\"></div>\n",
       "</div>\n"
      ]
     },
     "metadata": {},
     "output_type": "display_data"
    },
    {
     "data": {
      "text/html": [
       "<div>\n",
       "  <span style=\"float: left;\">first at Feature.scala:120</span>\n",
       "</div>\n"
      ]
     },
     "metadata": {},
     "output_type": "display_data"
    },
    {
     "data": {
      "text/html": [
       "<div class=\"progress\">\n",
       "  <div class=\"progress-bar\" role=\"progressbar\" style=\"background-color: blue; width: 100%; word-wrap: normal; white-space: nowrap; text-align: center; color: white\" aria-valuenow=\"100\" aria-valuemin=\"0\" aria-valuemax=\"100\">\n",
       "    4 / 4\n",
       "  </div>\n",
       "  <div class=\"progress-bar\" role=\"progressbar\" style=\"background-color: red; width: 0%\" aria-valuenow=\"0\" aria-valuemin=\"0\" aria-valuemax=\"100\"></div>\n",
       "</div>\n"
      ]
     },
     "metadata": {},
     "output_type": "display_data"
    },
    {
     "data": {
      "text/html": [
       "<div>\n",
       "  <span style=\"float: left;\">first at Feature.scala:120</span>\n",
       "</div>\n"
      ]
     },
     "metadata": {},
     "output_type": "display_data"
    },
    {
     "data": {
      "text/html": [
       "<div class=\"progress\">\n",
       "  <div class=\"progress-bar\" role=\"progressbar\" style=\"background-color: blue; width: 100%; word-wrap: normal; white-space: nowrap; text-align: center; color: white\" aria-valuenow=\"100\" aria-valuemin=\"0\" aria-valuemax=\"100\">\n",
       "    12 / 12\n",
       "  </div>\n",
       "  <div class=\"progress-bar\" role=\"progressbar\" style=\"background-color: red; width: 0%\" aria-valuenow=\"0\" aria-valuemin=\"0\" aria-valuemax=\"100\"></div>\n",
       "</div>\n"
      ]
     },
     "metadata": {},
     "output_type": "display_data"
    },
    {
     "data": {
      "text/html": [
       "<div>\n",
       "  <span style=\"float: left;\">first at ReadWrite.scala:587</span>\n",
       "</div>\n"
      ]
     },
     "metadata": {},
     "output_type": "display_data"
    },
    {
     "data": {
      "text/html": [
       "<div class=\"progress\">\n",
       "  <div class=\"progress-bar\" role=\"progressbar\" style=\"background-color: blue; width: 100%; word-wrap: normal; white-space: nowrap; text-align: center; color: white\" aria-valuenow=\"100\" aria-valuemin=\"0\" aria-valuemax=\"100\">\n",
       "    1 / 1\n",
       "  </div>\n",
       "  <div class=\"progress-bar\" role=\"progressbar\" style=\"background-color: red; width: 0%\" aria-valuenow=\"0\" aria-valuemin=\"0\" aria-valuemax=\"100\"></div>\n",
       "</div>\n"
      ]
     },
     "metadata": {},
     "output_type": "display_data"
    },
    {
     "data": {
      "text/html": [
       "<div>\n",
       "  <span style=\"float: left;\">first at ReadWrite.scala:587</span>\n",
       "</div>\n"
      ]
     },
     "metadata": {},
     "output_type": "display_data"
    },
    {
     "data": {
      "text/html": [
       "<div class=\"progress\">\n",
       "  <div class=\"progress-bar\" role=\"progressbar\" style=\"background-color: blue; width: 100%; word-wrap: normal; white-space: nowrap; text-align: center; color: white\" aria-valuenow=\"100\" aria-valuemin=\"0\" aria-valuemax=\"100\">\n",
       "    1 / 1\n",
       "  </div>\n",
       "  <div class=\"progress-bar\" role=\"progressbar\" style=\"background-color: red; width: 0%\" aria-valuenow=\"0\" aria-valuemin=\"0\" aria-valuemax=\"100\"></div>\n",
       "</div>\n"
      ]
     },
     "metadata": {},
     "output_type": "display_data"
    },
    {
     "data": {
      "text/html": [
       "<div>\n",
       "  <span style=\"float: left;\">collect at Feature.scala:161</span>\n",
       "</div>\n"
      ]
     },
     "metadata": {},
     "output_type": "display_data"
    },
    {
     "data": {
      "text/html": [
       "<div class=\"progress\">\n",
       "  <div class=\"progress-bar\" role=\"progressbar\" style=\"background-color: blue; width: 100%; word-wrap: normal; white-space: nowrap; text-align: center; color: white\" aria-valuenow=\"100\" aria-valuemin=\"0\" aria-valuemax=\"100\">\n",
       "    12 / 12\n",
       "  </div>\n",
       "  <div class=\"progress-bar\" role=\"progressbar\" style=\"background-color: red; width: 0%\" aria-valuenow=\"0\" aria-valuemin=\"0\" aria-valuemax=\"100\"></div>\n",
       "</div>\n"
      ]
     },
     "metadata": {},
     "output_type": "display_data"
    },
    {
     "data": {
      "text/html": [
       "<div>\n",
       "  <span style=\"float: left;\">first at ReadWrite.scala:587</span>\n",
       "</div>\n"
      ]
     },
     "metadata": {},
     "output_type": "display_data"
    },
    {
     "data": {
      "text/html": [
       "<div class=\"progress\">\n",
       "  <div class=\"progress-bar\" role=\"progressbar\" style=\"background-color: blue; width: 100%; word-wrap: normal; white-space: nowrap; text-align: center; color: white\" aria-valuenow=\"100\" aria-valuemin=\"0\" aria-valuemax=\"100\">\n",
       "    1 / 1\n",
       "  </div>\n",
       "  <div class=\"progress-bar\" role=\"progressbar\" style=\"background-color: red; width: 0%\" aria-valuenow=\"0\" aria-valuemin=\"0\" aria-valuemax=\"100\"></div>\n",
       "</div>\n"
      ]
     },
     "metadata": {},
     "output_type": "display_data"
    },
    {
     "data": {
      "text/html": [
       "<div>\n",
       "  <span style=\"float: left;\">first at ReadWrite.scala:587</span>\n",
       "</div>\n"
      ]
     },
     "metadata": {},
     "output_type": "display_data"
    },
    {
     "data": {
      "text/html": [
       "<div class=\"progress\">\n",
       "  <div class=\"progress-bar\" role=\"progressbar\" style=\"background-color: blue; width: 100%; word-wrap: normal; white-space: nowrap; text-align: center; color: white\" aria-valuenow=\"100\" aria-valuemin=\"0\" aria-valuemax=\"100\">\n",
       "    1 / 1\n",
       "  </div>\n",
       "  <div class=\"progress-bar\" role=\"progressbar\" style=\"background-color: red; width: 0%\" aria-valuenow=\"0\" aria-valuemin=\"0\" aria-valuemax=\"100\"></div>\n",
       "</div>\n"
      ]
     },
     "metadata": {},
     "output_type": "display_data"
    },
    {
     "data": {
      "text/html": [
       "<div>\n",
       "  <span style=\"float: left;\">collect at Feature.scala:161</span>\n",
       "</div>\n"
      ]
     },
     "metadata": {},
     "output_type": "display_data"
    },
    {
     "data": {
      "text/html": [
       "<div class=\"progress\">\n",
       "  <div class=\"progress-bar\" role=\"progressbar\" style=\"background-color: blue; width: 100%; word-wrap: normal; white-space: nowrap; text-align: center; color: white\" aria-valuenow=\"100\" aria-valuemin=\"0\" aria-valuemax=\"100\">\n",
       "    12 / 12\n",
       "  </div>\n",
       "  <div class=\"progress-bar\" role=\"progressbar\" style=\"background-color: red; width: 0%\" aria-valuenow=\"0\" aria-valuemin=\"0\" aria-valuemax=\"100\"></div>\n",
       "</div>\n"
      ]
     },
     "metadata": {},
     "output_type": "display_data"
    },
    {
     "data": {
      "text/html": [
       "<div>\n",
       "  <span style=\"float: left;\">collect at Feature.scala:161</span>\n",
       "</div>\n"
      ]
     },
     "metadata": {},
     "output_type": "display_data"
    },
    {
     "data": {
      "text/html": [
       "<div class=\"progress\">\n",
       "  <div class=\"progress-bar\" role=\"progressbar\" style=\"background-color: blue; width: 100%; word-wrap: normal; white-space: nowrap; text-align: center; color: white\" aria-valuenow=\"100\" aria-valuemin=\"0\" aria-valuemax=\"100\">\n",
       "    12 / 12\n",
       "  </div>\n",
       "  <div class=\"progress-bar\" role=\"progressbar\" style=\"background-color: red; width: 0%\" aria-valuenow=\"0\" aria-valuemin=\"0\" aria-valuemax=\"100\"></div>\n",
       "</div>\n"
      ]
     },
     "metadata": {},
     "output_type": "display_data"
    },
    {
     "data": {
      "text/html": [
       "<div>\n",
       "  <span style=\"float: left;\">collect at Feature.scala:242</span>\n",
       "</div>\n"
      ]
     },
     "metadata": {},
     "output_type": "display_data"
    },
    {
     "data": {
      "text/html": [
       "<div class=\"progress\">\n",
       "  <div class=\"progress-bar\" role=\"progressbar\" style=\"background-color: blue; width: 100%; word-wrap: normal; white-space: nowrap; text-align: center; color: white\" aria-valuenow=\"100\" aria-valuemin=\"0\" aria-valuemax=\"100\">\n",
       "    12 / 12\n",
       "  </div>\n",
       "  <div class=\"progress-bar\" role=\"progressbar\" style=\"background-color: red; width: 0%\" aria-valuenow=\"0\" aria-valuemin=\"0\" aria-valuemax=\"100\"></div>\n",
       "</div>\n"
      ]
     },
     "metadata": {},
     "output_type": "display_data"
    },
    {
     "data": {
      "text/plain": [
       "\u001b[36msentiment\u001b[39m: \u001b[32mPretrainedPipeline\u001b[39m = \u001b[33mPretrainedPipeline\u001b[39m(\n",
       "  \u001b[32m\"analyze_sentiment\"\u001b[39m,\n",
       "  \u001b[32m\"en\"\u001b[39m,\n",
       "  \u001b[32m\"public/models\"\u001b[39m,\n",
       "  false,\n",
       "  \u001b[32mNone\u001b[39m\n",
       ")"
      ]
     },
     "execution_count": 35,
     "metadata": {},
     "output_type": "execute_result"
    }
   ],
   "source": [
    "val sentiment = PretrainedPipeline(\"analyze_sentiment\", lang=\"en\")"
   ]
  },
  {
   "cell_type": "code",
   "execution_count": 36,
   "metadata": {},
   "outputs": [
    {
     "data": {
      "text/plain": [
       "\u001b[36mresult\u001b[39m: \u001b[32mMap\u001b[39m[\u001b[32mString\u001b[39m, \u001b[32mSeq\u001b[39m[\u001b[32mString\u001b[39m]] = \u001b[33mMap\u001b[39m(\n",
       "  \u001b[32m\"checked\"\u001b[39m -> \u001b[33mList\u001b[39m(\n",
       "    \u001b[32m\"The\"\u001b[39m,\n",
       "    \u001b[32m\"movie\"\u001b[39m,\n",
       "    \u001b[32m\"I\"\u001b[39m,\n",
       "    \u001b[32m\"watched\"\u001b[39m,\n",
       "    \u001b[32m\"today\"\u001b[39m,\n",
       "    \u001b[32m\"was\"\u001b[39m,\n",
       "    \u001b[32m\"not\"\u001b[39m,\n",
       "    \u001b[32m\"a\"\u001b[39m,\n",
       "    \u001b[32m\"good\"\u001b[39m,\n",
       "    \u001b[32m\"one\"\u001b[39m\n",
       "  ),\n",
       "  \u001b[32m\"document\"\u001b[39m -> \u001b[33mList\u001b[39m(\u001b[32m\"The movie I watched today was not a good one\"\u001b[39m),\n",
       "  \u001b[32m\"sentiment\"\u001b[39m -> \u001b[33mList\u001b[39m(\u001b[32m\"negative\"\u001b[39m),\n",
       "  \u001b[32m\"token\"\u001b[39m -> \u001b[33mList\u001b[39m(\n",
       "    \u001b[32m\"The\"\u001b[39m,\n",
       "    \u001b[32m\"movie\"\u001b[39m,\n",
       "    \u001b[32m\"I\"\u001b[39m,\n",
       "    \u001b[32m\"watched\"\u001b[39m,\n",
       "    \u001b[32m\"today\"\u001b[39m,\n",
       "    \u001b[32m\"was\"\u001b[39m,\n",
       "    \u001b[32m\"not\"\u001b[39m,\n",
       "    \u001b[32m\"a\"\u001b[39m,\n",
       "    \u001b[32m\"good\"\u001b[39m,\n",
       "    \u001b[32m\"one\"\u001b[39m\n",
       "  ),\n",
       "  \u001b[32m\"sentence\"\u001b[39m -> \u001b[33mList\u001b[39m(\u001b[32m\"The movie I watched today was not a good one\"\u001b[39m)\n",
       ")\n",
       "\u001b[36mres35_1\u001b[39m: \u001b[32mOption\u001b[39m[\u001b[32mSeq\u001b[39m[\u001b[32mString\u001b[39m]] = \u001b[33mSome\u001b[39m(\u001b[33mList\u001b[39m(\u001b[32m\"negative\"\u001b[39m))"
      ]
     },
     "execution_count": 36,
     "metadata": {},
     "output_type": "execute_result"
    }
   ],
   "source": [
    "val result = sentiment.annotate(\"The movie I watched today was not a good one\")\n",
    "\n",
    "result.get(\"sentiment\")"
   ]
  },
  {
   "cell_type": "markdown",
   "metadata": {},
   "source": [
    "#### DL version (trained on imdb)"
   ]
  },
  {
   "cell_type": "code",
   "execution_count": 36,
   "metadata": {},
   "outputs": [],
   "source": [
    "// val sentiment_imdb = PretrainedPipeline(\"analyze_sentimentdl_use_imdb\", lang=\"en\")"
   ]
  },
  {
   "cell_type": "code",
   "execution_count": 37,
   "metadata": {},
   "outputs": [
    {
     "name": "stdout",
     "output_type": "stream",
     "text": [
      "analyze_sentimentdl_glove_imdb download started this may take some time.\n",
      "Approximate size to download 155.3 MB\n",
      "Download done! Loading the resource.\n"
     ]
    },
    {
     "data": {
      "text/html": [
       "<div>\n",
       "  <span style=\"float: left;\">first at ReadWrite.scala:587</span>\n",
       "</div>\n"
      ]
     },
     "metadata": {},
     "output_type": "display_data"
    },
    {
     "data": {
      "text/html": [
       "<div class=\"progress\">\n",
       "  <div class=\"progress-bar\" role=\"progressbar\" style=\"background-color: blue; width: 100%; word-wrap: normal; white-space: nowrap; text-align: center; color: white\" aria-valuenow=\"100\" aria-valuemin=\"0\" aria-valuemax=\"100\">\n",
       "    1 / 1\n",
       "  </div>\n",
       "  <div class=\"progress-bar\" role=\"progressbar\" style=\"background-color: red; width: 0%\" aria-valuenow=\"0\" aria-valuemin=\"0\" aria-valuemax=\"100\"></div>\n",
       "</div>\n"
      ]
     },
     "metadata": {},
     "output_type": "display_data"
    },
    {
     "data": {
      "text/html": [
       "<div>\n",
       "  <span style=\"float: left;\">first at ReadWrite.scala:587</span>\n",
       "</div>\n"
      ]
     },
     "metadata": {},
     "output_type": "display_data"
    },
    {
     "data": {
      "text/html": [
       "<div class=\"progress\">\n",
       "  <div class=\"progress-bar\" role=\"progressbar\" style=\"background-color: blue; width: 100%; word-wrap: normal; white-space: nowrap; text-align: center; color: white\" aria-valuenow=\"100\" aria-valuemin=\"0\" aria-valuemax=\"100\">\n",
       "    1 / 1\n",
       "  </div>\n",
       "  <div class=\"progress-bar\" role=\"progressbar\" style=\"background-color: red; width: 0%\" aria-valuenow=\"0\" aria-valuemin=\"0\" aria-valuemax=\"100\"></div>\n",
       "</div>\n"
      ]
     },
     "metadata": {},
     "output_type": "display_data"
    },
    {
     "data": {
      "text/html": [
       "<div>\n",
       "  <span style=\"float: left;\">first at ReadWrite.scala:587</span>\n",
       "</div>\n"
      ]
     },
     "metadata": {},
     "output_type": "display_data"
    },
    {
     "data": {
      "text/html": [
       "<div class=\"progress\">\n",
       "  <div class=\"progress-bar\" role=\"progressbar\" style=\"background-color: blue; width: 100%; word-wrap: normal; white-space: nowrap; text-align: center; color: white\" aria-valuenow=\"100\" aria-valuemin=\"0\" aria-valuemax=\"100\">\n",
       "    1 / 1\n",
       "  </div>\n",
       "  <div class=\"progress-bar\" role=\"progressbar\" style=\"background-color: red; width: 0%\" aria-valuenow=\"0\" aria-valuemin=\"0\" aria-valuemax=\"100\"></div>\n",
       "</div>\n"
      ]
     },
     "metadata": {},
     "output_type": "display_data"
    },
    {
     "data": {
      "text/html": [
       "<div>\n",
       "  <span style=\"float: left;\">first at ReadWrite.scala:587</span>\n",
       "</div>\n"
      ]
     },
     "metadata": {},
     "output_type": "display_data"
    },
    {
     "data": {
      "text/html": [
       "<div class=\"progress\">\n",
       "  <div class=\"progress-bar\" role=\"progressbar\" style=\"background-color: blue; width: 100%; word-wrap: normal; white-space: nowrap; text-align: center; color: white\" aria-valuenow=\"100\" aria-valuemin=\"0\" aria-valuemax=\"100\">\n",
       "    1 / 1\n",
       "  </div>\n",
       "  <div class=\"progress-bar\" role=\"progressbar\" style=\"background-color: red; width: 0%\" aria-valuenow=\"0\" aria-valuemin=\"0\" aria-valuemax=\"100\"></div>\n",
       "</div>\n"
      ]
     },
     "metadata": {},
     "output_type": "display_data"
    },
    {
     "data": {
      "text/html": [
       "<div>\n",
       "  <span style=\"float: left;\">first at ReadWrite.scala:587</span>\n",
       "</div>\n"
      ]
     },
     "metadata": {},
     "output_type": "display_data"
    },
    {
     "data": {
      "text/html": [
       "<div class=\"progress\">\n",
       "  <div class=\"progress-bar\" role=\"progressbar\" style=\"background-color: blue; width: 100%; word-wrap: normal; white-space: nowrap; text-align: center; color: white\" aria-valuenow=\"100\" aria-valuemin=\"0\" aria-valuemax=\"100\">\n",
       "    1 / 1\n",
       "  </div>\n",
       "  <div class=\"progress-bar\" role=\"progressbar\" style=\"background-color: red; width: 0%\" aria-valuenow=\"0\" aria-valuemin=\"0\" aria-valuemax=\"100\"></div>\n",
       "</div>\n"
      ]
     },
     "metadata": {},
     "output_type": "display_data"
    },
    {
     "data": {
      "text/html": [
       "<div>\n",
       "  <span style=\"float: left;\">first at ReadWrite.scala:587</span>\n",
       "</div>\n"
      ]
     },
     "metadata": {},
     "output_type": "display_data"
    },
    {
     "data": {
      "text/html": [
       "<div class=\"progress\">\n",
       "  <div class=\"progress-bar\" role=\"progressbar\" style=\"background-color: blue; width: 100%; word-wrap: normal; white-space: nowrap; text-align: center; color: white\" aria-valuenow=\"100\" aria-valuemin=\"0\" aria-valuemax=\"100\">\n",
       "    1 / 1\n",
       "  </div>\n",
       "  <div class=\"progress-bar\" role=\"progressbar\" style=\"background-color: red; width: 0%\" aria-valuenow=\"0\" aria-valuemin=\"0\" aria-valuemax=\"100\"></div>\n",
       "</div>\n"
      ]
     },
     "metadata": {},
     "output_type": "display_data"
    },
    {
     "data": {
      "text/html": [
       "<div>\n",
       "  <span style=\"float: left;\">first at ReadWrite.scala:587</span>\n",
       "</div>\n"
      ]
     },
     "metadata": {},
     "output_type": "display_data"
    },
    {
     "data": {
      "text/html": [
       "<div class=\"progress\">\n",
       "  <div class=\"progress-bar\" role=\"progressbar\" style=\"background-color: blue; width: 100%; word-wrap: normal; white-space: nowrap; text-align: center; color: white\" aria-valuenow=\"100\" aria-valuemin=\"0\" aria-valuemax=\"100\">\n",
       "    1 / 1\n",
       "  </div>\n",
       "  <div class=\"progress-bar\" role=\"progressbar\" style=\"background-color: red; width: 0%\" aria-valuenow=\"0\" aria-valuemin=\"0\" aria-valuemax=\"100\"></div>\n",
       "</div>\n"
      ]
     },
     "metadata": {},
     "output_type": "display_data"
    },
    {
     "data": {
      "text/html": [
       "<div>\n",
       "  <span style=\"float: left;\">first at Feature.scala:120</span>\n",
       "</div>\n"
      ]
     },
     "metadata": {},
     "output_type": "display_data"
    },
    {
     "data": {
      "text/html": [
       "<div class=\"progress\">\n",
       "  <div class=\"progress-bar\" role=\"progressbar\" style=\"background-color: blue; width: 100%; word-wrap: normal; white-space: nowrap; text-align: center; color: white\" aria-valuenow=\"100\" aria-valuemin=\"0\" aria-valuemax=\"100\">\n",
       "    1 / 1\n",
       "  </div>\n",
       "  <div class=\"progress-bar\" role=\"progressbar\" style=\"background-color: red; width: 0%\" aria-valuenow=\"0\" aria-valuemin=\"0\" aria-valuemax=\"100\"></div>\n",
       "</div>\n"
      ]
     },
     "metadata": {},
     "output_type": "display_data"
    },
    {
     "data": {
      "text/html": [
       "<div>\n",
       "  <span style=\"float: left;\">first at Feature.scala:120</span>\n",
       "</div>\n"
      ]
     },
     "metadata": {},
     "output_type": "display_data"
    },
    {
     "data": {
      "text/html": [
       "<div class=\"progress\">\n",
       "  <div class=\"progress-bar\" role=\"progressbar\" style=\"background-color: blue; width: 100%; word-wrap: normal; white-space: nowrap; text-align: center; color: white\" aria-valuenow=\"100\" aria-valuemin=\"0\" aria-valuemax=\"100\">\n",
       "    4 / 4\n",
       "  </div>\n",
       "  <div class=\"progress-bar\" role=\"progressbar\" style=\"background-color: red; width: 0%\" aria-valuenow=\"0\" aria-valuemin=\"0\" aria-valuemax=\"100\"></div>\n",
       "</div>\n"
      ]
     },
     "metadata": {},
     "output_type": "display_data"
    },
    {
     "data": {
      "text/html": [
       "<div>\n",
       "  <span style=\"float: left;\">first at Feature.scala:120</span>\n",
       "</div>\n"
      ]
     },
     "metadata": {},
     "output_type": "display_data"
    },
    {
     "data": {
      "text/html": [
       "<div class=\"progress\">\n",
       "  <div class=\"progress-bar\" role=\"progressbar\" style=\"background-color: blue; width: 100%; word-wrap: normal; white-space: nowrap; text-align: center; color: white\" aria-valuenow=\"100\" aria-valuemin=\"0\" aria-valuemax=\"100\">\n",
       "    12 / 12\n",
       "  </div>\n",
       "  <div class=\"progress-bar\" role=\"progressbar\" style=\"background-color: red; width: 0%\" aria-valuenow=\"0\" aria-valuemin=\"0\" aria-valuemax=\"100\"></div>\n",
       "</div>\n"
      ]
     },
     "metadata": {},
     "output_type": "display_data"
    },
    {
     "data": {
      "text/html": [
       "<div>\n",
       "  <span style=\"float: left;\">first at ReadWrite.scala:587</span>\n",
       "</div>\n"
      ]
     },
     "metadata": {},
     "output_type": "display_data"
    },
    {
     "data": {
      "text/html": [
       "<div class=\"progress\">\n",
       "  <div class=\"progress-bar\" role=\"progressbar\" style=\"background-color: blue; width: 100%; word-wrap: normal; white-space: nowrap; text-align: center; color: white\" aria-valuenow=\"100\" aria-valuemin=\"0\" aria-valuemax=\"100\">\n",
       "    1 / 1\n",
       "  </div>\n",
       "  <div class=\"progress-bar\" role=\"progressbar\" style=\"background-color: red; width: 0%\" aria-valuenow=\"0\" aria-valuemin=\"0\" aria-valuemax=\"100\"></div>\n",
       "</div>\n"
      ]
     },
     "metadata": {},
     "output_type": "display_data"
    },
    {
     "data": {
      "text/html": [
       "<div>\n",
       "  <span style=\"float: left;\">first at ReadWrite.scala:587</span>\n",
       "</div>\n"
      ]
     },
     "metadata": {},
     "output_type": "display_data"
    },
    {
     "data": {
      "text/html": [
       "<div class=\"progress\">\n",
       "  <div class=\"progress-bar\" role=\"progressbar\" style=\"background-color: blue; width: 100%; word-wrap: normal; white-space: nowrap; text-align: center; color: white\" aria-valuenow=\"100\" aria-valuemin=\"0\" aria-valuemax=\"100\">\n",
       "    1 / 1\n",
       "  </div>\n",
       "  <div class=\"progress-bar\" role=\"progressbar\" style=\"background-color: red; width: 0%\" aria-valuenow=\"0\" aria-valuemin=\"0\" aria-valuemax=\"100\"></div>\n",
       "</div>\n"
      ]
     },
     "metadata": {},
     "output_type": "display_data"
    },
    {
     "data": {
      "text/html": [
       "<div>\n",
       "  <span style=\"float: left;\">first at ReadWrite.scala:587</span>\n",
       "</div>\n"
      ]
     },
     "metadata": {},
     "output_type": "display_data"
    },
    {
     "data": {
      "text/html": [
       "<div class=\"progress\">\n",
       "  <div class=\"progress-bar\" role=\"progressbar\" style=\"background-color: blue; width: 100%; word-wrap: normal; white-space: nowrap; text-align: center; color: white\" aria-valuenow=\"100\" aria-valuemin=\"0\" aria-valuemax=\"100\">\n",
       "    1 / 1\n",
       "  </div>\n",
       "  <div class=\"progress-bar\" role=\"progressbar\" style=\"background-color: red; width: 0%\" aria-valuenow=\"0\" aria-valuemin=\"0\" aria-valuemax=\"100\"></div>\n",
       "</div>\n"
      ]
     },
     "metadata": {},
     "output_type": "display_data"
    },
    {
     "data": {
      "text/html": [
       "<div>\n",
       "  <span style=\"float: left;\">first at ReadWrite.scala:587</span>\n",
       "</div>\n"
      ]
     },
     "metadata": {},
     "output_type": "display_data"
    },
    {
     "data": {
      "text/html": [
       "<div class=\"progress\">\n",
       "  <div class=\"progress-bar\" role=\"progressbar\" style=\"background-color: blue; width: 100%; word-wrap: normal; white-space: nowrap; text-align: center; color: white\" aria-valuenow=\"100\" aria-valuemin=\"0\" aria-valuemax=\"100\">\n",
       "    1 / 1\n",
       "  </div>\n",
       "  <div class=\"progress-bar\" role=\"progressbar\" style=\"background-color: red; width: 0%\" aria-valuenow=\"0\" aria-valuemin=\"0\" aria-valuemax=\"100\"></div>\n",
       "</div>\n"
      ]
     },
     "metadata": {},
     "output_type": "display_data"
    },
    {
     "data": {
      "text/html": [
       "<div>\n",
       "  <span style=\"float: left;\">first at ReadWrite.scala:587</span>\n",
       "</div>\n"
      ]
     },
     "metadata": {},
     "output_type": "display_data"
    },
    {
     "data": {
      "text/html": [
       "<div class=\"progress\">\n",
       "  <div class=\"progress-bar\" role=\"progressbar\" style=\"background-color: blue; width: 100%; word-wrap: normal; white-space: nowrap; text-align: center; color: white\" aria-valuenow=\"100\" aria-valuemin=\"0\" aria-valuemax=\"100\">\n",
       "    1 / 1\n",
       "  </div>\n",
       "  <div class=\"progress-bar\" role=\"progressbar\" style=\"background-color: red; width: 0%\" aria-valuenow=\"0\" aria-valuemin=\"0\" aria-valuemax=\"100\"></div>\n",
       "</div>\n"
      ]
     },
     "metadata": {},
     "output_type": "display_data"
    },
    {
     "data": {
      "text/html": [
       "<div>\n",
       "  <span style=\"float: left;\">first at ReadWrite.scala:587</span>\n",
       "</div>\n"
      ]
     },
     "metadata": {},
     "output_type": "display_data"
    },
    {
     "data": {
      "text/html": [
       "<div class=\"progress\">\n",
       "  <div class=\"progress-bar\" role=\"progressbar\" style=\"background-color: blue; width: 100%; word-wrap: normal; white-space: nowrap; text-align: center; color: white\" aria-valuenow=\"100\" aria-valuemin=\"0\" aria-valuemax=\"100\">\n",
       "    1 / 1\n",
       "  </div>\n",
       "  <div class=\"progress-bar\" role=\"progressbar\" style=\"background-color: red; width: 0%\" aria-valuenow=\"0\" aria-valuemin=\"0\" aria-valuemax=\"100\"></div>\n",
       "</div>\n"
      ]
     },
     "metadata": {},
     "output_type": "display_data"
    },
    {
     "data": {
      "text/html": [
       "<div>\n",
       "  <span style=\"float: left;\">first at Feature.scala:120</span>\n",
       "</div>\n"
      ]
     },
     "metadata": {},
     "output_type": "display_data"
    },
    {
     "data": {
      "text/html": [
       "<div class=\"progress\">\n",
       "  <div class=\"progress-bar\" role=\"progressbar\" style=\"background-color: blue; width: 100%; word-wrap: normal; white-space: nowrap; text-align: center; color: white\" aria-valuenow=\"100\" aria-valuemin=\"0\" aria-valuemax=\"100\">\n",
       "    1 / 1\n",
       "  </div>\n",
       "  <div class=\"progress-bar\" role=\"progressbar\" style=\"background-color: red; width: 0%\" aria-valuenow=\"0\" aria-valuemin=\"0\" aria-valuemax=\"100\"></div>\n",
       "</div>\n"
      ]
     },
     "metadata": {},
     "output_type": "display_data"
    },
    {
     "data": {
      "text/html": [
       "<div>\n",
       "  <span style=\"float: left;\">first at Feature.scala:120</span>\n",
       "</div>\n"
      ]
     },
     "metadata": {},
     "output_type": "display_data"
    },
    {
     "data": {
      "text/html": [
       "<div class=\"progress\">\n",
       "  <div class=\"progress-bar\" role=\"progressbar\" style=\"background-color: blue; width: 100%; word-wrap: normal; white-space: nowrap; text-align: center; color: white\" aria-valuenow=\"100\" aria-valuemin=\"0\" aria-valuemax=\"100\">\n",
       "    4 / 4\n",
       "  </div>\n",
       "  <div class=\"progress-bar\" role=\"progressbar\" style=\"background-color: red; width: 0%\" aria-valuenow=\"0\" aria-valuemin=\"0\" aria-valuemax=\"100\"></div>\n",
       "</div>\n"
      ]
     },
     "metadata": {},
     "output_type": "display_data"
    },
    {
     "data": {
      "text/html": [
       "<div>\n",
       "  <span style=\"float: left;\">first at Feature.scala:120</span>\n",
       "</div>\n"
      ]
     },
     "metadata": {},
     "output_type": "display_data"
    },
    {
     "data": {
      "text/html": [
       "<div class=\"progress\">\n",
       "  <div class=\"progress-bar\" role=\"progressbar\" style=\"background-color: blue; width: 100%; word-wrap: normal; white-space: nowrap; text-align: center; color: white\" aria-valuenow=\"100\" aria-valuemin=\"0\" aria-valuemax=\"100\">\n",
       "    3 / 3\n",
       "  </div>\n",
       "  <div class=\"progress-bar\" role=\"progressbar\" style=\"background-color: red; width: 0%\" aria-valuenow=\"0\" aria-valuemin=\"0\" aria-valuemax=\"100\"></div>\n",
       "</div>\n"
      ]
     },
     "metadata": {},
     "output_type": "display_data"
    },
    {
     "data": {
      "text/plain": [
       "\u001b[36msentiment_imdb_glove\u001b[39m: \u001b[32mPretrainedPipeline\u001b[39m = \u001b[33mPretrainedPipeline\u001b[39m(\n",
       "  \u001b[32m\"analyze_sentimentdl_glove_imdb\"\u001b[39m,\n",
       "  \u001b[32m\"en\"\u001b[39m,\n",
       "  \u001b[32m\"public/models\"\u001b[39m,\n",
       "  false,\n",
       "  \u001b[32mNone\u001b[39m\n",
       ")"
      ]
     },
     "execution_count": 37,
     "metadata": {},
     "output_type": "execute_result"
    }
   ],
   "source": [
    "val sentiment_imdb_glove = PretrainedPipeline(\"analyze_sentimentdl_glove_imdb\", lang=\"en\")"
   ]
  },
  {
   "cell_type": "code",
   "execution_count": 38,
   "metadata": {},
   "outputs": [
    {
     "data": {
      "text/plain": [
       "\u001b[36mcomment\u001b[39m: \u001b[32mString\u001b[39m = \u001b[32m\"\"\"\n",
       "It's a very scary film but what impressed me was how true the film sticks to the original's tricks; it isn't filled with loud in-your-face jump scares, in fact, a lot of what makes this film scary is the slick cinematography and intricate shadow play. The use of lighting and creation of atmosphere is what makes this film so tense, which is why it's perfectly suited for those who like Horror movies but without the obnoxious gore.\n",
       "\"\"\"\u001b[39m\n",
       "\u001b[36mresult\u001b[39m: \u001b[32mMap\u001b[39m[\u001b[32mString\u001b[39m, \u001b[32mSeq\u001b[39m[\u001b[32mString\u001b[39m]] = \u001b[33mMap\u001b[39m(\n",
       "  \u001b[32m\"document\"\u001b[39m -> \u001b[33mList\u001b[39m(\n",
       "    \u001b[32m\"\"\"\n",
       "It's a very scary film but what impressed me was how true the film sticks to the original's tricks; it isn't filled with loud in-your-face jump scares, in fact, a lot of what makes this film scary is the slick cinematography and intricate shadow play. The use of lighting and creation of atmosphere is what makes this film so tense, which is why it's perfectly suited for those who like Horror movies but without the obnoxious gore.\n",
       "\"\"\"\u001b[39m\n",
       "  ),\n",
       "  \u001b[32m\"sentiment\"\u001b[39m -> \u001b[33mVector\u001b[39m(\u001b[32m\"pos\"\u001b[39m),\n",
       "  \u001b[32m\"word_embeddings\"\u001b[39m -> \u001b[33mList\u001b[39m(\n",
       "    \u001b[32m\"It's\"\u001b[39m,\n",
       "    \u001b[32m\"a\"\u001b[39m,\n",
       "    \u001b[32m\"very\"\u001b[39m,\n",
       "    \u001b[32m\"scary\"\u001b[39m,\n",
       "    \u001b[32m\"film\"\u001b[39m,\n",
       "    \u001b[32m\"but\"\u001b[39m,\n",
       "    \u001b[32m\"what\"\u001b[39m,\n",
       "    \u001b[32m\"impressed\"\u001b[39m,\n",
       "    \u001b[32m\"me\"\u001b[39m,\n",
       "    \u001b[32m\"was\"\u001b[39m,\n",
       "    \u001b[32m\"how\"\u001b[39m,\n",
       "    \u001b[32m\"true\"\u001b[39m,\n",
       "    \u001b[32m\"the\"\u001b[39m,\n",
       "    \u001b[32m\"film\"\u001b[39m,\n",
       "    \u001b[32m\"sticks\"\u001b[39m,\n",
       "    \u001b[32m\"to\"\u001b[39m,\n",
       "    \u001b[32m\"the\"\u001b[39m,\n",
       "    \u001b[32m\"original's\"\u001b[39m,\n",
       "    \u001b[32m\"tricks\"\u001b[39m,\n",
       "    \u001b[32m\";\"\u001b[39m,\n",
       "    \u001b[32m\"it\"\u001b[39m,\n",
       "    \u001b[32m\"isn't\"\u001b[39m,\n",
       "    \u001b[32m\"filled\"\u001b[39m,\n",
       "    \u001b[32m\"with\"\u001b[39m,\n",
       "    \u001b[32m\"loud\"\u001b[39m,\n",
       "    \u001b[32m\"in-your-face\"\u001b[39m,\n",
       "...\n",
       "\u001b[36mres37_2\u001b[39m: \u001b[32mOption\u001b[39m[\u001b[32mSeq\u001b[39m[\u001b[32mString\u001b[39m]] = \u001b[33mSome\u001b[39m(\u001b[33mVector\u001b[39m(\u001b[32m\"pos\"\u001b[39m))"
      ]
     },
     "execution_count": 38,
     "metadata": {},
     "output_type": "execute_result"
    }
   ],
   "source": [
    "val comment = \"\"\"\n",
    "It's a very scary film but what impressed me was how true the film sticks to the original's tricks; it isn't filled with loud in-your-face jump scares, in fact, a lot of what makes this film scary is the slick cinematography and intricate shadow play. The use of lighting and creation of atmosphere is what makes this film so tense, which is why it's perfectly suited for those who like Horror movies but without the obnoxious gore.\n",
    "\"\"\"\n",
    "\n",
    "val result = sentiment_imdb_glove.annotate(comment)\n",
    "\n",
    "result.get(\"sentiment\")"
   ]
  }
 ],
 "metadata": {
  "kernelspec": {
   "display_name": "Scala (2.12)",
   "language": "scala",
   "name": "scala212"
  },
  "language_info": {
   "codemirror_mode": "text/x-scala",
   "file_extension": ".sc",
   "mimetype": "text/x-scala",
   "name": "scala",
   "nbconvert_exporter": "script",
   "version": "2.12.12"
  }
 },
 "nbformat": 4,
 "nbformat_minor": 2
}
