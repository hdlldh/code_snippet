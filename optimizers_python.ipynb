{
 "cells": [
  {
   "cell_type": "code",
   "execution_count": 1,
   "metadata": {},
   "outputs": [],
   "source": [
    "import numpy as np\n",
    "class Optimizer():\n",
    "    def __init__(self, eta=0.01, beta1=0.9, beta2=0.999, epsilon=1e-8, opt=\"adam\"):\n",
    "        self.m_dc, self.v_dc = 0.0, 0.0\n",
    "        self.m_dw, self.v_dw = 0.0, 0.0\n",
    "        self.beta1 = beta1 # momentum\n",
    "        self.beta2 = beta2 # rms\n",
    "        self.epsilon = epsilon\n",
    "        self.eta = eta\n",
    "        if opt.lower()==\"adam\": self.opt = self._adam\n",
    "        elif opt.lower()==\"momentum\": self.opt = self._momentum\n",
    "        elif opt.lower()==\"rmsprop\": self.opt = self._rmsprop\n",
    "        else: self.opt = self._constant\n",
    "        \n",
    "    def update(self, t, c, w, dc, dw):\n",
    "        c, w = self.opt(t, c, w, dc, dw)\n",
    "        return c, w\n",
    "        \n",
    "    def _constant(self, t, c, w, dc, dw):\n",
    "        c = c - self.eta * dc\n",
    "        w = w - self.eta * dw\n",
    "        return c, w\n",
    "        \n",
    "    def _momentum(self, t, c, w, dc, dw):\n",
    "        self.m_dc = self.beta1*self.m_dc - eta*dc\n",
    "        self.m_dw = self.beta1*self.m_dw - eta*dw\n",
    "        c = c + self.m_dc\n",
    "        w = w + self.m_dw\n",
    "        return c, w\n",
    "    \n",
    "    def _rmsprop(self, t, c, w, dc, dw):\n",
    "        self.v_dc = self.beta2*self.v_dc + (1-self.beta2)*(dc**2)\n",
    "        self.v_dw = self.beta2*self.v_dw + (1-self.beta2)*(dw**2)\n",
    "        c = c - self.eta*(dc/(np.sqrt(self.v_dc)+self.epsilon))\n",
    "        w = w - self.eta*(dw/(np.sqrt(self.v_dw)+self.epsilon))\n",
    "        return c, w\n",
    "        \n",
    "        \n",
    "    def _adam(self, t, c, w, dc, dw):\n",
    "        ## momentum beta 1\n",
    "        self.m_dc = self.beta1*self.m_dc + (1-self.beta1)*dc\n",
    "        self.m_dw = self.beta1*self.m_dw + (1-self.beta1)*dw\n",
    "\n",
    "        ## rms beta 2\n",
    "        self.v_dc = self.beta2*self.v_dc + (1-self.beta2)*(dc**2)\n",
    "        self.v_dw = self.beta2*self.v_dw + (1-self.beta2)*(dw**2)\n",
    "\n",
    "        ## bias correction\n",
    "        m_dc_corr = self.m_dc/(1-self.beta1**t)\n",
    "        m_dw_corr = self.m_dw/(1-self.beta1**t)\n",
    "        v_dc_corr = self.v_dc/(1-self.beta2**t)\n",
    "        v_dw_corr = self.v_dw/(1-self.beta2**t)\n",
    "\n",
    "        ## update weights\n",
    "        c = c - self.eta*(m_dc_corr/(np.sqrt(v_dc_corr)+self.epsilon))\n",
    "        w = w - self.eta*(m_dw_corr/(np.sqrt(v_dw_corr)+self.epsilon))\n",
    "        return c, w"
   ]
  },
  {
   "cell_type": "code",
   "execution_count": null,
   "metadata": {},
   "outputs": [],
   "source": []
  }
 ],
 "metadata": {
  "kernelspec": {
   "display_name": "Python 3",
   "language": "python",
   "name": "python3"
  },
  "language_info": {
   "codemirror_mode": {
    "name": "ipython",
    "version": 3
   },
   "file_extension": ".py",
   "mimetype": "text/x-python",
   "name": "python",
   "nbconvert_exporter": "python",
   "pygments_lexer": "ipython3",
   "version": "3.7.6"
  }
 },
 "nbformat": 4,
 "nbformat_minor": 4
}
